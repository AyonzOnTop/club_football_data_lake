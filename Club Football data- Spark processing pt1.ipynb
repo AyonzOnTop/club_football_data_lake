{
 "cells": [
  {
   "cell_type": "markdown",
   "metadata": {
    "editable": true
   },
   "source": [
    "# Club Football Data Project\n",
    "### Data Engineering Capstone Project\n",
    "\n",
    "#### Project Summary\n",
    "The project involves the collation of vital club football data, this is different from the general statistics that exist on the internet such as total shots, total cards etc. This data project captures football match detail and granular match event data including stats surrounding the events and the personnels (player, referees) involved for the season 2018/2019\n",
    "\n",
    "The project follows the follow steps:\n",
    "* Step 1: Scope the Project and Gather Data\n",
    "* Step 2: Explore and Assess the Data\n",
    "* Step 3: Define the Data Model\n",
    "* Step 4: Run ETL to Model the Data\n",
    "* Step 5: Complete Project Write Up"
   ]
  },
  {
   "cell_type": "code",
   "execution_count": 1,
   "metadata": {
    "editable": true
   },
   "outputs": [
    {
     "data": {
      "application/vnd.jupyter.widget-view+json": {
       "model_id": "fcbc001e2a704e4a854b512e2aea801d",
       "version_major": 2,
       "version_minor": 0
      },
      "text/plain": [
       "VBox()"
      ]
     },
     "metadata": {},
     "output_type": "display_data"
    },
    {
     "name": "stdout",
     "output_type": "stream",
     "text": [
      "Starting Spark application\n"
     ]
    },
    {
     "data": {
      "text/html": [
       "<table>\n",
       "<tr><th>ID</th><th>YARN Application ID</th><th>Kind</th><th>State</th><th>Spark UI</th><th>Driver log</th><th>Current session?</th></tr><tr><td>3</td><td>application_1595234334534_0004</td><td>pyspark</td><td>idle</td><td></td><td></td><td>✔</td></tr></table>"
      ],
      "text/plain": [
       "<IPython.core.display.HTML object>"
      ]
     },
     "metadata": {},
     "output_type": "display_data"
    },
    {
     "data": {
      "application/vnd.jupyter.widget-view+json": {
       "model_id": "",
       "version_major": 2,
       "version_minor": 0
      },
      "text/plain": [
       "FloatProgress(value=0.0, bar_style='info', description='Progress:', layout=Layout(height='25px', width='50%'),…"
      ]
     },
     "metadata": {},
     "output_type": "display_data"
    },
    {
     "name": "stdout",
     "output_type": "stream",
     "text": [
      "SparkSession available as 'spark'.\n"
     ]
    },
    {
     "data": {
      "application/vnd.jupyter.widget-view+json": {
       "model_id": "",
       "version_major": 2,
       "version_minor": 0
      },
      "text/plain": [
       "FloatProgress(value=0.0, bar_style='info', description='Progress:', layout=Layout(height='25px', width='50%'),…"
      ]
     },
     "metadata": {},
     "output_type": "display_data"
    }
   ],
   "source": [
    "# Do all imports and installs here\n",
    "#import pandas as pd\n",
    "from pyspark.sql import SparkSession\n",
    "from pyspark.sql.functions import isnan, count, when, col, desc, udf, col, sort_array, asc, avg, lit, to_timestamp\n",
    "from pyspark.sql.functions import sum as Fsum\n",
    "from pyspark.sql.window import Window\n",
    "from pyspark.sql.types import IntegerType\n",
    "from pyspark.sql.types import StructType\n",
    "\n",
    "from functools import reduce\n",
    "from pyspark.sql import DataFrame\n",
    "from pyspark.sql.functions import monotonically_increasing_id\n",
    "from pyspark.sql.window import Window as W\n",
    "from pyspark.sql import functions as F\n",
    "import pyspark.sql.functions as psf\n",
    "import pyspark"
   ]
  },
  {
   "cell_type": "markdown",
   "metadata": {
    "editable": true
   },
   "source": [
    "### Step 1: Scope the Project and Gather Data\n",
    "\n",
    "#### Scope \n",
    "This data project aims to provide valuable insight on a club, person, match and atomic-event level. \n",
    "It means analysis can be done on a given day and time under certain weather conditions, a football match is played as the nth round of the club league championship, at a given venue, between two teams with eleven starting players and a few substitutes coached by two managers, with a match referee in the middle.\n",
    "\n",
    "An analytics dashboard can be created using the data, also the expected goal a team or player is likely to have in game can be estimated using predictive modelling on the data.\n",
    "\n",
    "#### Describe and Gather Data \n",
    "Dataset on the team, player, referees, coaches, match, competition and match event were collated and parse to extract the required data.\n",
    "\n",
    "The data were sourced from Figshare Soccer match event data, Kaggle, and rapid footballAPI"
   ]
  },
  {
   "cell_type": "markdown",
   "metadata": {
    "editable": true
   },
   "source": [
    "### Initiate Spark\n"
   ]
  },
  {
   "cell_type": "code",
   "execution_count": 2,
   "metadata": {
    "editable": true
   },
   "outputs": [
    {
     "data": {
      "application/vnd.jupyter.widget-view+json": {
       "model_id": "30b45d7a38b54627b4ff809b253db3f6",
       "version_major": 2,
       "version_minor": 0
      },
      "text/plain": [
       "VBox()"
      ]
     },
     "metadata": {},
     "output_type": "display_data"
    },
    {
     "data": {
      "application/vnd.jupyter.widget-view+json": {
       "model_id": "",
       "version_major": 2,
       "version_minor": 0
      },
      "text/plain": [
       "FloatProgress(value=0.0, bar_style='info', description='Progress:', layout=Layout(height='25px', width='50%'),…"
      ]
     },
     "metadata": {},
     "output_type": "display_data"
    }
   ],
   "source": [
    "from pyspark.sql import SparkSession\n",
    "spark = SparkSession.builder.appName(\"football_dataframe\").getOrCreate()"
   ]
  },
  {
   "cell_type": "markdown",
   "metadata": {
    "editable": true
   },
   "source": [
    "### Step 2: Explore and Assess the Data\n",
    "#### Explore the Data \n",
    "We have an idea of the data we need based on our model. So we going to parse through out different data sources to extract the required data\n",
    "Based on our scope, we have the club, person, competiton, match and match-events entity level. Thorugh this,we can model the data to suit our desired framework\n",
    "\n",
    "Identify data quality issues, like missing values, duplicate data, etc.\n"
   ]
  },
  {
   "cell_type": "code",
   "execution_count": 3,
   "metadata": {
    "editable": true
   },
   "outputs": [
    {
     "data": {
      "application/vnd.jupyter.widget-view+json": {
       "model_id": "017802724abc4b16b9133cdcd97c7da7",
       "version_major": 2,
       "version_minor": 0
      },
      "text/plain": [
       "VBox()"
      ]
     },
     "metadata": {},
     "output_type": "display_data"
    },
    {
     "data": {
      "application/vnd.jupyter.widget-view+json": {
       "model_id": "",
       "version_major": 2,
       "version_minor": 0
      },
      "text/plain": [
       "FloatProgress(value=0.0, bar_style='info', description='Progress:', layout=Layout(height='25px', width='50%'),…"
      ]
     },
     "metadata": {},
     "output_type": "display_data"
    }
   ],
   "source": [
    "## Explore the dataset"
   ]
  },
  {
   "cell_type": "markdown",
   "metadata": {
    "editable": true
   },
   "source": [
    "### Player"
   ]
  },
  {
   "cell_type": "code",
   "execution_count": 4,
   "metadata": {
    "editable": true
   },
   "outputs": [
    {
     "data": {
      "application/vnd.jupyter.widget-view+json": {
       "model_id": "a39a060f76ad4024a1fab6e162913464",
       "version_major": 2,
       "version_minor": 0
      },
      "text/plain": [
       "VBox()"
      ]
     },
     "metadata": {},
     "output_type": "display_data"
    },
    {
     "data": {
      "application/vnd.jupyter.widget-view+json": {
       "model_id": "",
       "version_major": 2,
       "version_minor": 0
      },
      "text/plain": [
       "FloatProgress(value=0.0, bar_style='info', description='Progress:', layout=Layout(height='25px', width='50%'),…"
      ]
     },
     "metadata": {},
     "output_type": "display_data"
    }
   ],
   "source": [
    "# Import player data\n",
    "df_player = spark.read.json(\"s3://football-club-data/players.json\")"
   ]
  },
  {
   "cell_type": "code",
   "execution_count": 5,
   "metadata": {
    "editable": true
   },
   "outputs": [
    {
     "data": {
      "application/vnd.jupyter.widget-view+json": {
       "model_id": "0328a16937d8496a864b413bc31a742e",
       "version_major": 2,
       "version_minor": 0
      },
      "text/plain": [
       "VBox()"
      ]
     },
     "metadata": {},
     "output_type": "display_data"
    },
    {
     "data": {
      "application/vnd.jupyter.widget-view+json": {
       "model_id": "",
       "version_major": 2,
       "version_minor": 0
      },
      "text/plain": [
       "FloatProgress(value=0.0, bar_style='info', description='Progress:', layout=Layout(height='25px', width='50%'),…"
      ]
     },
     "metadata": {},
     "output_type": "display_data"
    },
    {
     "name": "stdout",
     "output_type": "stream",
     "text": [
      "+--------------------+----------+---------------------+-------------+--------------------+-----+------+--------------------+----------+--------------------+--------------------+--------------------+------+------+\n",
      "|           birthArea| birthDate|currentNationalTeamId|currentTeamId|           firstName| foot|height|            lastName|middleName|        passportArea|                role|           shortName|weight|  wyId|\n",
      "+--------------------+----------+---------------------+-------------+--------------------+-----+------+--------------------+----------+--------------------+--------------------+--------------------+------+------+\n",
      "|[TR, TUR, 792, Tu...|1989-06-17|                 4687|         4502|               Harun|right|   187|               Tekin|          |[TR, TUR, 792, Tu...|[GK, GKP, Goalkee...|            H. Tekin|    78| 32777|\n",
      "|[FR, FRA, 250, Fr...|1999-01-23|                 4423|         3775|              Malang| left|   182|                Sarr|          |[SN, SEN, 686, Se...| [DF, DEF, Defender]|             M. Sarr|    73|393228|\n",
      "|[FR, FRA, 250, Fr...|1998-10-26|                 null|         3772|                Over|     |   176|            Mandanda|          |[FR, FRA, 250, Fr...|[GK, GKP, Goalkee...|         O. Mandanda|    72|393230|\n",
      "|[FR, FRA, 250, Fr...|1990-03-06|                19314|          683|   Alfred John Momar|right|   187|             N'Diaye|          |[SN, SEN, 686, Se...|[MD, MID, Midfiel...|          A. N'Diaye|    82| 32793|\n",
      "|[FR, FRA, 250, Fr...|1999-05-25|                 null|         2975|            Ibrahima|right|   192|         Konat\\u00e9|          |[FR, FRA, 250, Fr...| [DF, DEF, Defender]|      I. Konat\\u00e9|    84|393247|\n",
      "|[NL, NLD, 528, Ne...|1989-04-22|                  664|          676|              Jasper|right|   185|           Cillessen|          |[NL, NLD, 528, Ne...|[GK, GKP, Goalkee...|        J. Cillessen|    83|    33|\n",
      "|[BE, BEL, 56, Bel...|1989-03-02|                 5629|         1624|                Toby|right|   187|        Alderweireld|          |[BE, BEL, 56, Bel...| [DF, DEF, Defender]|     T. Alderweireld|    91|    36|\n",
      "|[BE, BEL, 56, Bel...|1987-04-24|                 5629|         1624|                 Jan| left|   189|          Vertonghen|          |[BE, BEL, 56, Bel...| [DF, DEF, Defender]|       J. Vertonghen|    88|    48|\n",
      "|[FR, FRA, 250, Fr...|1994-08-09|                 null|         3783|           Alexander|right|   182|               Djiku|          |[FR, FRA, 250, Fr...| [DF, DEF, Defender]|            A. Djiku|    74|229427|\n",
      "|[DK, DNK, 208, De...|1992-02-14|                 7712|         1624|          Christian |right|   180|   Dannemann Eriksen|          |[DK, DNK, 208, De...|[MD, MID, Midfiel...|          C. Eriksen|    76|    54|\n",
      "|[AT, AUT, 40, Aus...|1994-03-17|                 null|         2975|              Marcel|right|   177|            Sabitzer|          |[AT, AUT, 40, Aus...|[MD, MID, Midfiel...|         M. Sabitzer|    74| 65596|\n",
      "|[IS, ISL, 352, Ic...|1990-03-14|                 null|         3770|            Kolbeinn|right|   186|Sig\\u00fe\\u00f3rsson|          |[IS, ISL, 352, Ic...|  [FW, FWD, Forward]|K. Sig\\u00fe\\u00f...|    84|    66|\n",
      "|[ML, MLI, 466, Mali]|1992-01-01|                 null|         3795|             Charles| left|   180|         Traor\\u00e9|          |[FR, FRA, 250, Fr...| [DF, DEF, Defender]|      C. Traor\\u00e9|    74|393284|\n",
      "|[FI, FIN, 246, Fi...|1985-09-29|                 4849|         2443|              Niklas| left|   183|           Moisander|          |[FI, FIN, 246, Fi...| [DF, DEF, Defender]|        N. Moisander|    75|    77|\n",
      "|[CW, CUW, 531, Cu...|1989-08-21|                18138|         2455|           Charlison|right|   191|            Benschop|          |[CW, CUW, 531, Cu...|  [FW, FWD, Forward]|         C. Benschop|    91|    91|\n",
      "|[IS, ISL, 352, Ic...|1990-10-27|                 7839|         1646|             Johann | left|   186|Berg Gu\\u00f0mund...|          |[IS, ISL, 352, Ic...|[MD, MID, Midfiel...|J. Gu\\u00f0munds\\...|    77|    93|\n",
      "|[PL, POL, 616, Po...|1987-01-04|                 null|          677|     Przemys\\u0142aw|right|   194|          Tyto\\u0144|          |[PL, POL, 616, Po...|[GK, GKP, Goalkee...|       P. Tyto\\u0144|    83|    99|\n",
      "|[BR, BRA, 76, Bra...|1987-05-20|                 null|         3766|Marcelo Ant\\u00f4nio|right|   191|        Guedes Filho|          |[BR, BRA, 76, Bra...| [DF, DEF, Defender]|             Marcelo|    85|   102|\n",
      "|[NL, NLD, 528, Ne...|1994-03-30|                 null|         2462|               Jetro| left|   169|             Willems|          |[CW, CUW, 531, Cu...| [DF, DEF, Defender]|          J. Willems|    65|   110|\n",
      "|[IQ, IRQ, 368, Iraq]|1993-12-19|                17759|         3163|    Ali Adnan Kadhim| left|   186|          Al Tameemi|          |[IQ, IRQ, 368, Iraq]| [DF, DEF, Defender]|           Ali Adnan|    78|131184|\n",
      "+--------------------+----------+---------------------+-------------+--------------------+-----+------+--------------------+----------+--------------------+--------------------+--------------------+------+------+\n",
      "only showing top 20 rows"
     ]
    }
   ],
   "source": [
    "df_player.show()"
   ]
  },
  {
   "cell_type": "code",
   "execution_count": 6,
   "metadata": {
    "editable": true
   },
   "outputs": [
    {
     "data": {
      "application/vnd.jupyter.widget-view+json": {
       "model_id": "b217f68367c74f56b0279a93a49f7c2f",
       "version_major": 2,
       "version_minor": 0
      },
      "text/plain": [
       "VBox()"
      ]
     },
     "metadata": {},
     "output_type": "display_data"
    },
    {
     "data": {
      "application/vnd.jupyter.widget-view+json": {
       "model_id": "",
       "version_major": 2,
       "version_minor": 0
      },
      "text/plain": [
       "FloatProgress(value=0.0, bar_style='info', description='Progress:', layout=Layout(height='25px', width='50%'),…"
      ]
     },
     "metadata": {},
     "output_type": "display_data"
    },
    {
     "name": "stdout",
     "output_type": "stream",
     "text": [
      "+------+--------------------+--------------------+----------+-----+------+------------+----------+---+\n",
      "|  wyId|           firstName|            lastName| birthDate| foot|height|     country|  position| id|\n",
      "+------+--------------------+--------------------+----------+-----+------+------------+----------+---+\n",
      "| 32777|               Harun|               Tekin|1989-06-17|right|   187|      Turkey|Goalkeeper|  0|\n",
      "|393228|              Malang|                Sarr|1999-01-23| left|   182|      France|  Defender|  1|\n",
      "|393230|                Over|            Mandanda|1998-10-26|     |   176|      France|Goalkeeper|  2|\n",
      "| 32793|   Alfred John Momar|             N'Diaye|1990-03-06|right|   187|      France|Midfielder|  3|\n",
      "|393247|            Ibrahima|         Konat\\u00e9|1999-05-25|right|   192|      France|  Defender|  4|\n",
      "|    33|              Jasper|           Cillessen|1989-04-22|right|   185| Netherlands|Goalkeeper|  5|\n",
      "|    36|                Toby|        Alderweireld|1989-03-02|right|   187|     Belgium|  Defender|  6|\n",
      "|    48|                 Jan|          Vertonghen|1987-04-24| left|   189|     Belgium|  Defender|  7|\n",
      "|229427|           Alexander|               Djiku|1994-08-09|right|   182|      France|  Defender|  8|\n",
      "|    54|          Christian |   Dannemann Eriksen|1992-02-14|right|   180|     Denmark|Midfielder|  9|\n",
      "| 65596|              Marcel|            Sabitzer|1994-03-17|right|   177|     Austria|Midfielder| 10|\n",
      "|    66|            Kolbeinn|Sig\\u00fe\\u00f3rsson|1990-03-14|right|   186|     Iceland|   Forward| 11|\n",
      "|393284|             Charles|         Traor\\u00e9|1992-01-01| left|   180|        Mali|  Defender| 12|\n",
      "|    77|              Niklas|           Moisander|1985-09-29| left|   183|     Finland|  Defender| 13|\n",
      "|    91|           Charlison|            Benschop|1989-08-21|right|   191|Cura\\u00e7ao|   Forward| 14|\n",
      "|    93|             Johann |Berg Gu\\u00f0mund...|1990-10-27| left|   186|     Iceland|Midfielder| 15|\n",
      "|    99|     Przemys\\u0142aw|          Tyto\\u0144|1987-01-04|right|   194|      Poland|Goalkeeper| 16|\n",
      "|   102|Marcelo Ant\\u00f4nio|        Guedes Filho|1987-05-20|right|   191|      Brazil|  Defender| 17|\n",
      "|   110|               Jetro|             Willems|1994-03-30| left|   169| Netherlands|  Defender| 18|\n",
      "|131184|    Ali Adnan Kadhim|          Al Tameemi|1993-12-19| left|   186|        Iraq|  Defender| 19|\n",
      "+------+--------------------+--------------------+----------+-----+------+------------+----------+---+\n",
      "only showing top 20 rows"
     ]
    }
   ],
   "source": [
    "## player table   [id, first_name, last_name, birth_date, country,foot, height, position]\n",
    "players_init = df_player.select('wyId','firstName','lastName','birthDate', 'foot', 'height', df_player.birthArea['name'].alias('country'), df_player.role['name'].alias('position'))\n",
    "players = players_init.withColumn(\"id\", F.monotonically_increasing_id())\n",
    "windowSpec = W.orderBy(\"id\")\n",
    "players = players.withColumn(\"id\", F.row_number().over(windowSpec)-1)\n",
    "players.show()"
   ]
  },
  {
   "cell_type": "code",
   "execution_count": 7,
   "metadata": {
    "editable": true
   },
   "outputs": [
    {
     "data": {
      "application/vnd.jupyter.widget-view+json": {
       "model_id": "b37428010978483ab0b492fb4ce9d038",
       "version_major": 2,
       "version_minor": 0
      },
      "text/plain": [
       "VBox()"
      ]
     },
     "metadata": {},
     "output_type": "display_data"
    },
    {
     "data": {
      "application/vnd.jupyter.widget-view+json": {
       "model_id": "",
       "version_major": 2,
       "version_minor": 0
      },
      "text/plain": [
       "FloatProgress(value=0.0, bar_style='info', description='Progress:', layout=Layout(height='25px', width='50%'),…"
      ]
     },
     "metadata": {},
     "output_type": "display_data"
    },
    {
     "name": "stdout",
     "output_type": "stream",
     "text": [
      "+----------+------+\n",
      "|players_id|  wyId|\n",
      "+----------+------+\n",
      "|         0| 32777|\n",
      "|         1|393228|\n",
      "|         2|393230|\n",
      "|         3| 32793|\n",
      "|         4|393247|\n",
      "|         5|    33|\n",
      "|         6|    36|\n",
      "|         7|    48|\n",
      "|         8|229427|\n",
      "|         9|    54|\n",
      "|        10| 65596|\n",
      "|        11|    66|\n",
      "|        12|393284|\n",
      "|        13|    77|\n",
      "|        14|    91|\n",
      "|        15|    93|\n",
      "|        16|    99|\n",
      "|        17|   102|\n",
      "|        18|   110|\n",
      "|        19|131184|\n",
      "+----------+------+\n",
      "only showing top 20 rows"
     ]
    }
   ],
   "source": [
    "#create a map file for player \n",
    "#map file\n",
    "player_map = players.select(col(\"id\").alias(\"players_id\"), \"wyId\")\n",
    "player_map.show()"
   ]
  },
  {
   "cell_type": "markdown",
   "metadata": {
    "editable": true
   },
   "source": [
    "### Referees"
   ]
  },
  {
   "cell_type": "code",
   "execution_count": 8,
   "metadata": {
    "editable": true
   },
   "outputs": [
    {
     "data": {
      "application/vnd.jupyter.widget-view+json": {
       "model_id": "e3aa333d144441d296c647cf56815948",
       "version_major": 2,
       "version_minor": 0
      },
      "text/plain": [
       "VBox()"
      ]
     },
     "metadata": {},
     "output_type": "display_data"
    },
    {
     "data": {
      "application/vnd.jupyter.widget-view+json": {
       "model_id": "",
       "version_major": 2,
       "version_minor": 0
      },
      "text/plain": [
       "FloatProgress(value=0.0, bar_style='info', description='Progress:', layout=Layout(height='25px', width='50%'),…"
      ]
     },
     "metadata": {},
     "output_type": "display_data"
    }
   ],
   "source": [
    "# import referees data\n",
    "df_referees = spark.read.json(\"s3://football-club-data/referees.json\")"
   ]
  },
  {
   "cell_type": "code",
   "execution_count": 9,
   "metadata": {
    "editable": true
   },
   "outputs": [
    {
     "data": {
      "application/vnd.jupyter.widget-view+json": {
       "model_id": "ad4c4807734043f9ac8558ffc9b4fd1a",
       "version_major": 2,
       "version_minor": 0
      },
      "text/plain": [
       "VBox()"
      ]
     },
     "metadata": {},
     "output_type": "display_data"
    },
    {
     "data": {
      "application/vnd.jupyter.widget-view+json": {
       "model_id": "",
       "version_major": 2,
       "version_minor": 0
      },
      "text/plain": [
       "FloatProgress(value=0.0, bar_style='info', description='Progress:', layout=Layout(height='25px', width='50%'),…"
      ]
     },
     "metadata": {},
     "output_type": "display_data"
    },
    {
     "name": "stdout",
     "output_type": "stream",
     "text": [
      "+--------------------+----------+-------------------+-----------------+----------+--------------------+--------------------+------+\n",
      "|           birthArea| birthDate|          firstName|         lastName|middleName|        passportArea|           shortName|  wyId|\n",
      "+--------------------+----------+-------------------+-----------------+----------+--------------------+--------------------+------+\n",
      "|[CO, COL, 170, Co...|      null|          Alexander|   Guzmán Bonilla|          |[CO, COL, 170, Co...|           A. Guzmán|378217|\n",
      "|[EN, XEN, 826, En...|      null|              Simon|          Bennett|          |[EN, XEN, 826, En...|          S. Bennett|385011|\n",
      "|[DE, DEU, 276, Ge...|1985-01-28|               Harm|           Osmers|          |[DE, DEU, 276, Ge...|           H. Osmers|385544|\n",
      "|[DE, DEU, 276, Ge...|1977-12-20|          Frederick|          Assmuth|          |[DE, DEU, 276, Ge...|          F. Assmuth|383894|\n",
      "|[FR, FRA, 250, Fr...|      null|           Frédéric|          Hebrard|          |[FR, FRA, 250, Fr...|          F. Hebrard|385800|\n",
      "|[ES, ESP, 724, Sp...|      null|             Javier|Aguilar Rodríguez|          |[ES, ESP, 724, Sp...|      Javier Aguilar|385015|\n",
      "|[ES, ESP, 724, Sp...|1984-12-28|             Víctor|     Pérez Peraza|          |[ES, ESP, 724, Sp...|        Víctor Pérez|395082|\n",
      "|[ES, ESP, 724, Sp...|1972-09-12|            Alfonso|Álvarez Izquierdo|          |[ES, ESP, 724, Sp...|     Alfonso Álvarez|395056|\n",
      "|[QA, QAT, 634, Qa...|      null|Abdulrahman Ibrahim|        Al Jassim|          |[QA, QAT, 634, Qa...|Abdulrahman Al Ja...|380678|\n",
      "|[DE, DEU, 276, Ge...|1973-11-27|              Guido|         Winkmann|          |[DE, DEU, 276, Ge...|         G. Winkmann|381835|\n",
      "|[EN, XEN, 826, En...|      null|           Nicholas|           Hopton|          |[EN, XEN, 826, En...|           N. Hopton|385997|\n",
      "|[EN, XEN, 826, En...|      null|             Graham|            Scott|          |[EN, XEN, 826, En...|            G. Scott|408156|\n",
      "|[CA, CAN, 124, Ca...|1976-09-10|                Joe|         Fletcher|          |[CA, CAN, 124, Ca...|         J. Fletcher|382685|\n",
      "|[FR, FRA, 250, Fr...|      null|              Cyril|          Mugnier|          |[FR, FRA, 250, Fr...|          C. Mugnier|385514|\n",
      "|[EN, XEN, 826, En...|      null|              Simon|             Long|          |[EN, XEN, 826, En...|             S. Long|385917|\n",
      "|[FR, FRA, 250, Fr...|1980-06-14|            Florent|            Batta|          |[FR, FRA, 250, Fr...|            F. Batta|385495|\n",
      "|[ES, ESP, 724, Sp...|1976-01-27|             Javier|Estrada Fernández|          |[ES, ESP, 724, Sp...|      Javier Estrada|384961|\n",
      "|[FR, FRA, 250, Fr...|1977-04-10|            Nicolas|         Henninot|          |[FR, FRA, 250, Fr...|         N. Henninot|385794|\n",
      "|[IT, ITA, 380, It...|      null|            Valerio|           Vecchi|          |[IT, ITA, 380, It...|           V. Vecchi|518503|\n",
      "|[EN, XEN, 826, En...|1971-10-29|                Lee|            Mason|          |[EN, XEN, 826, En...|            L. Mason|381853|\n",
      "+--------------------+----------+-------------------+-----------------+----------+--------------------+--------------------+------+\n",
      "only showing top 20 rows"
     ]
    }
   ],
   "source": [
    "df_referees.show()"
   ]
  },
  {
   "cell_type": "code",
   "execution_count": 10,
   "metadata": {
    "editable": true
   },
   "outputs": [
    {
     "data": {
      "application/vnd.jupyter.widget-view+json": {
       "model_id": "10bf19064f1241faaa4849a660fff361",
       "version_major": 2,
       "version_minor": 0
      },
      "text/plain": [
       "VBox()"
      ]
     },
     "metadata": {},
     "output_type": "display_data"
    },
    {
     "data": {
      "application/vnd.jupyter.widget-view+json": {
       "model_id": "",
       "version_major": 2,
       "version_minor": 0
      },
      "text/plain": [
       "FloatProgress(value=0.0, bar_style='info', description='Progress:', layout=Layout(height='25px', width='50%'),…"
      ]
     },
     "metadata": {},
     "output_type": "display_data"
    },
    {
     "name": "stdout",
     "output_type": "stream",
     "text": [
      "+------+-------------------+-----------------+----------+--------+---+\n",
      "|  wyId|          firstName|         lastName| birthDate| country| id|\n",
      "+------+-------------------+-----------------+----------+--------+---+\n",
      "|378217|          Alexander|   Guzmán Bonilla|      null|Colombia|  0|\n",
      "|385011|              Simon|          Bennett|      null| England|  1|\n",
      "|385544|               Harm|           Osmers|1985-01-28| Germany|  2|\n",
      "|383894|          Frederick|          Assmuth|1977-12-20| Germany|  3|\n",
      "|385800|           Frédéric|          Hebrard|      null|  France|  4|\n",
      "|385015|             Javier|Aguilar Rodríguez|      null|   Spain|  5|\n",
      "|395082|             Víctor|     Pérez Peraza|1984-12-28|   Spain|  6|\n",
      "|395056|            Alfonso|Álvarez Izquierdo|1972-09-12|   Spain|  7|\n",
      "|380678|Abdulrahman Ibrahim|        Al Jassim|      null|   Qatar|  8|\n",
      "|381835|              Guido|         Winkmann|1973-11-27| Germany|  9|\n",
      "|385997|           Nicholas|           Hopton|      null| England| 10|\n",
      "|408156|             Graham|            Scott|      null| England| 11|\n",
      "|382685|                Joe|         Fletcher|1976-09-10|  Canada| 12|\n",
      "|385514|              Cyril|          Mugnier|      null|  France| 13|\n",
      "|385917|              Simon|             Long|      null| England| 14|\n",
      "|385495|            Florent|            Batta|1980-06-14|  France| 15|\n",
      "|384961|             Javier|Estrada Fernández|1976-01-27|   Spain| 16|\n",
      "|385794|            Nicolas|         Henninot|1977-04-10|  France| 17|\n",
      "|518503|            Valerio|           Vecchi|      null|   Italy| 18|\n",
      "|381853|                Lee|            Mason|1971-10-29| England| 19|\n",
      "+------+-------------------+-----------------+----------+--------+---+\n",
      "only showing top 20 rows"
     ]
    }
   ],
   "source": [
    "# referees []\n",
    "referees_init = df_referees.select('wyId','firstName','lastName','birthDate', df_referees.birthArea['name'].alias('country'))\n",
    "\n",
    "# add 'id' column\n",
    "referees = referees_init.withColumn(\"id\", F.monotonically_increasing_id())\n",
    "windowSpec = W.orderBy(\"id\")\n",
    "referees = referees.withColumn(\"id\", F.row_number().over(windowSpec)-1)\n",
    "referees.show()"
   ]
  },
  {
   "cell_type": "code",
   "execution_count": 11,
   "metadata": {
    "editable": true
   },
   "outputs": [
    {
     "data": {
      "application/vnd.jupyter.widget-view+json": {
       "model_id": "74737d623e234c97b70b7b33bda627cd",
       "version_major": 2,
       "version_minor": 0
      },
      "text/plain": [
       "VBox()"
      ]
     },
     "metadata": {},
     "output_type": "display_data"
    },
    {
     "data": {
      "application/vnd.jupyter.widget-view+json": {
       "model_id": "",
       "version_major": 2,
       "version_minor": 0
      },
      "text/plain": [
       "FloatProgress(value=0.0, bar_style='info', description='Progress:', layout=Layout(height='25px', width='50%'),…"
      ]
     },
     "metadata": {},
     "output_type": "display_data"
    },
    {
     "name": "stdout",
     "output_type": "stream",
     "text": [
      "+------+----------+\n",
      "|  wyId|referee_id|\n",
      "+------+----------+\n",
      "|378217|         0|\n",
      "|385011|         1|\n",
      "|385544|         2|\n",
      "|383894|         3|\n",
      "|385800|         4|\n",
      "|385015|         5|\n",
      "|395082|         6|\n",
      "|395056|         7|\n",
      "|380678|         8|\n",
      "|381835|         9|\n",
      "|385997|        10|\n",
      "|408156|        11|\n",
      "|382685|        12|\n",
      "|385514|        13|\n",
      "|385917|        14|\n",
      "|385495|        15|\n",
      "|384961|        16|\n",
      "|385794|        17|\n",
      "|518503|        18|\n",
      "|381853|        19|\n",
      "+------+----------+\n",
      "only showing top 20 rows"
     ]
    }
   ],
   "source": [
    "# create an referee id map file\n",
    "referee_map = referees.select(\"wyId\", col(\"id\").alias(\"referee_id\"))\n",
    "referee_map.show()"
   ]
  },
  {
   "cell_type": "markdown",
   "metadata": {
    "editable": true
   },
   "source": [
    "### manager data"
   ]
  },
  {
   "cell_type": "code",
   "execution_count": 12,
   "metadata": {
    "editable": true
   },
   "outputs": [
    {
     "data": {
      "application/vnd.jupyter.widget-view+json": {
       "model_id": "5f9969f5cf05435399a2e733465baa0a",
       "version_major": 2,
       "version_minor": 0
      },
      "text/plain": [
       "VBox()"
      ]
     },
     "metadata": {},
     "output_type": "display_data"
    },
    {
     "data": {
      "application/vnd.jupyter.widget-view+json": {
       "model_id": "",
       "version_major": 2,
       "version_minor": 0
      },
      "text/plain": [
       "FloatProgress(value=0.0, bar_style='info', description='Progress:', layout=Layout(height='25px', width='50%'),…"
      ]
     },
     "metadata": {},
     "output_type": "display_data"
    }
   ],
   "source": [
    "# import manager data\n",
    "df_manager = spark.read.json(\"s3://football-club-data/coaches.json\")"
   ]
  },
  {
   "cell_type": "code",
   "execution_count": 13,
   "metadata": {
    "editable": true
   },
   "outputs": [
    {
     "data": {
      "application/vnd.jupyter.widget-view+json": {
       "model_id": "95cd28c02e1b4e9db1c7469f51654316",
       "version_major": 2,
       "version_minor": 0
      },
      "text/plain": [
       "VBox()"
      ]
     },
     "metadata": {},
     "output_type": "display_data"
    },
    {
     "data": {
      "application/vnd.jupyter.widget-view+json": {
       "model_id": "",
       "version_major": 2,
       "version_minor": 0
      },
      "text/plain": [
       "FloatProgress(value=0.0, bar_style='info', description='Progress:', layout=Layout(height='25px', width='50%'),…"
      ]
     },
     "metadata": {},
     "output_type": "display_data"
    },
    {
     "name": "stdout",
     "output_type": "stream",
     "text": [
      "+--------------------+----------+-------------+---------------+----------------+----------+--------------------+----------------+------+\n",
      "|           birthArea| birthDate|currentTeamId|      firstName|        lastName|middleName|        passportArea|       shortName|  wyId|\n",
      "+--------------------+----------+-------------+---------------+----------------+----------+--------------------+----------------+------+\n",
      "|[BR, BRA, 76, Bra...|      null|            0|  César Domingo| Mendiondo López|          |[BR, BRA, 76, Bra...|   Cesar Domingo|275580|\n",
      "|[DE, DEU, 276, Ge...|1945-05-09|            0|          Josef|        Heynckes|          |[DE, DEU, 276, Ge...|     J. Heynckes| 14710|\n",
      "|[IT, ITA, 380, It...|1956-06-16|            0|       Giovanni|        De Biasi|          |[IT, ITA, 380, It...|     G. De Biasi|135480|\n",
      "|[ES, ESP, 724, Sp...|1965-08-14|          674|      Marcelino|    García Toral|          |[ES, ESP, 724, Sp...|       Marcelino|210074|\n",
      "|[DE, DEU, 276, Ge...|1974-04-02|            0|         Tayfun|          Korkut|          |[TR, TUR, 792, Tu...|       T. Korkut|293398|\n",
      "|[ES, ESP, 724, Sp...|1964-02-09|          676|        Ernesto|Valverde Tejedor|          |[ES, ESP, 724, Sp...|Ernesto Valverde| 92894|\n",
      "|[ES, ESP, 724, Sp...|1967-04-22|            0|    Juan Carlos|   Unzué Labiano|          |[ES, ESP, 724, Sp...|           Unzué|  3880|\n",
      "|[DE, DEU, 276, Ge...|1967-12-29|            0|           Dirk|        Schuster|          |[DE, DEU, 276, Ge...|     D. Schuster| 17121|\n",
      "|[IT, ITA, 380, It...|1969-07-31|            0|        Antonio|           Conte|          |[IT, ITA, 380, It...|        A. Conte| 20454|\n",
      "|[AR, ARG, 32, Arg...|1958-02-10|            0|Ricardo Alberto|    Gareca Nardi|          |[AR, ARG, 32, Arg...|       R. Gareca| 86604|\n",
      "|[DE, DEU, 276, Ge...|1969-08-17|            0|        Markus |          Gisdol|          |[DE, DEU, 276, Ge...|       M. Gisdol|259751|\n",
      "|[DE, DEU, 276, Ge...|1953-06-28|            0|         Gernot|            Rohr|          |[DE, DEU, 276, Ge...|         G. Rohr|142913|\n",
      "|[DE, DEU, 276, Ge...|1964-09-12|         2454|         Dieter|         Hecking|          |[DE, DEU, 276, Ge...|      D. Hecking| 15114|\n",
      "|[IT, ITA, 380, It...|1974-06-18|         3176|       Vincenzo|        Montella|          |[IT, ITA, 380, It...|     V. Montella| 21061|\n",
      "|[IT, ITA, 380, It...|1964-05-07|            0|       Giuseppe|         Iachini|          |[IT, ITA, 380, It...|      G. Iachini| 20603|\n",
      "|[DE, DEU, 276, Ge...|1966-02-08|         2451|          Bruno|        Labbadia|          |[DE, DEU, 276, Ge...|     B. Labbadia| 14735|\n",
      "|[SE, SWE, 752, Sw...|1948-07-16|            0|           Lars|       Lagerbäck|          |[SE, SWE, 752, Sw...|    L. Lagerbäck|210205|\n",
      "|[ES, ESP, 724, Sp...|1965-05-03|          692|     Francisco |  Escriba Segura|          |[ES, ESP, 724, Sp...|    Fran Escribá|225952|\n",
      "|[FR, FRA, 250, Fr...|1965-10-05|         3789|     Christophe|       Pélissier|          |[FR, FRA, 250, Fr...|    C. Pélissier| 26812|\n",
      "|[IT, ITA, 380, It...|1976-04-05|         3162|         Simone|         Inzaghi|          |[IT, ITA, 380, It...|      S. Inzaghi|251025|\n",
      "+--------------------+----------+-------------+---------------+----------------+----------+--------------------+----------------+------+\n",
      "only showing top 20 rows"
     ]
    }
   ],
   "source": [
    "df_manager.show()"
   ]
  },
  {
   "cell_type": "code",
   "execution_count": 14,
   "metadata": {
    "editable": true
   },
   "outputs": [
    {
     "data": {
      "application/vnd.jupyter.widget-view+json": {
       "model_id": "dc795a4988ef47d99d1f030711a81bb1",
       "version_major": 2,
       "version_minor": 0
      },
      "text/plain": [
       "VBox()"
      ]
     },
     "metadata": {},
     "output_type": "display_data"
    },
    {
     "data": {
      "application/vnd.jupyter.widget-view+json": {
       "model_id": "",
       "version_major": 2,
       "version_minor": 0
      },
      "text/plain": [
       "FloatProgress(value=0.0, bar_style='info', description='Progress:', layout=Layout(height='25px', width='50%'),…"
      ]
     },
     "metadata": {},
     "output_type": "display_data"
    },
    {
     "name": "stdout",
     "output_type": "stream",
     "text": [
      "+------+---------------+----------------+----------+---------+---+\n",
      "|  wyId|      firstName|        lastName| birthDate|  country| id|\n",
      "+------+---------------+----------------+----------+---------+---+\n",
      "|275580|  César Domingo| Mendiondo López|      null|   Brazil|  0|\n",
      "| 14710|          Josef|        Heynckes|1945-05-09|  Germany|  1|\n",
      "|135480|       Giovanni|        De Biasi|1956-06-16|    Italy|  2|\n",
      "|210074|      Marcelino|    García Toral|1965-08-14|    Spain|  3|\n",
      "|293398|         Tayfun|          Korkut|1974-04-02|  Germany|  4|\n",
      "| 92894|        Ernesto|Valverde Tejedor|1964-02-09|    Spain|  5|\n",
      "|  3880|    Juan Carlos|   Unzué Labiano|1967-04-22|    Spain|  6|\n",
      "| 17121|           Dirk|        Schuster|1967-12-29|  Germany|  7|\n",
      "| 20454|        Antonio|           Conte|1969-07-31|    Italy|  8|\n",
      "| 86604|Ricardo Alberto|    Gareca Nardi|1958-02-10|Argentina|  9|\n",
      "|259751|        Markus |          Gisdol|1969-08-17|  Germany| 10|\n",
      "|142913|         Gernot|            Rohr|1953-06-28|  Germany| 11|\n",
      "| 15114|         Dieter|         Hecking|1964-09-12|  Germany| 12|\n",
      "| 21061|       Vincenzo|        Montella|1974-06-18|    Italy| 13|\n",
      "| 20603|       Giuseppe|         Iachini|1964-05-07|    Italy| 14|\n",
      "| 14735|          Bruno|        Labbadia|1966-02-08|  Germany| 15|\n",
      "|210205|           Lars|       Lagerbäck|1948-07-16|   Sweden| 16|\n",
      "|225952|     Francisco |  Escriba Segura|1965-05-03|    Spain| 17|\n",
      "| 26812|     Christophe|       Pélissier|1965-10-05|   France| 18|\n",
      "|251025|         Simone|         Inzaghi|1976-04-05|    Italy| 19|\n",
      "+------+---------------+----------------+----------+---------+---+\n",
      "only showing top 20 rows"
     ]
    }
   ],
   "source": [
    "# extract the required column []\n",
    "manager_init = df_manager.select('wyId','firstName','lastName','birthDate', df_manager.birthArea['name'].alias('country'))\n",
    "\n",
    "# add 'id' column\n",
    "manager = manager_init.withColumn(\"id\", F.monotonically_increasing_id())\n",
    "windowSpec = W.orderBy(\"id\")\n",
    "managers = manager.withColumn(\"id\", F.row_number().over(windowSpec)-1)\n",
    "managers.show()"
   ]
  },
  {
   "cell_type": "markdown",
   "metadata": {
    "editable": true
   },
   "source": [
    "### Match details"
   ]
  },
  {
   "cell_type": "code",
   "execution_count": 15,
   "metadata": {
    "editable": true
   },
   "outputs": [
    {
     "data": {
      "application/vnd.jupyter.widget-view+json": {
       "model_id": "2cc4978f01df46b7a25ba5dc79bb847d",
       "version_major": 2,
       "version_minor": 0
      },
      "text/plain": [
       "VBox()"
      ]
     },
     "metadata": {},
     "output_type": "display_data"
    },
    {
     "data": {
      "application/vnd.jupyter.widget-view+json": {
       "model_id": "",
       "version_major": 2,
       "version_minor": 0
      },
      "text/plain": [
       "FloatProgress(value=0.0, bar_style='info', description='Progress:', layout=Layout(height='25px', width='50%'),…"
      ]
     },
     "metadata": {},
     "output_type": "display_data"
    },
    {
     "name": "stdout",
     "output_type": "stream",
     "text": [
      "+-------------+--------------------+-------------------+--------+--------+--------------------+--------------------+-------+--------+------+--------------------+--------------------+------+-------+\n",
      "|competitionId|                date|            dateutc|duration|gameweek|               label|            referees|roundId|seasonId|status|           teamsData|               venue|winner|   wyId|\n",
      "+-------------+--------------------+-------------------+--------+--------+--------------------+--------------------+-------+--------+------+--------------------+--------------------+------+-------+\n",
      "|          524|May 20, 2018 at 8...|2018-05-20 18:45:00| Regular|      38|Lazio - Internazi...|[[377206, referee...|4406278|  181248|Played|[,,,,,,,,,,,,,,,,...|                    |  3161|2576335|\n",
      "|          524|May 20, 2018 at 8...|2018-05-20 18:45:00| Regular|      38|Sassuolo - Roma, ...|[[377255, referee...|4406278|  181248|Played|[,,,,,,,,,,,,,,,,...|MAPEI Stadium - C...|  3158|2576336|\n",
      "|          524|May 20, 2018 at 6...|2018-05-20 16:00:00| Regular|      38|Cagliari - Atalan...|[[377247, referee...|4406278|  181248|Played|[,,,,,,,,,,,,,,,,...|                    |  3173|2576329|\n",
      "|          524|May 20, 2018 at 6...|2018-05-20 16:00:00| Regular|      38|Chievo - Benevent...|[[377246, referee...|4406278|  181248|Played|[,,,,,,,,,,,,,,,,...|                    |  3165|2576330|\n",
      "|          524|May 20, 2018 at 6...|2018-05-20 16:00:00| Regular|      38|Udinese - Bologna...|[[377254, referee...|4406278|  181248|Played|[,,,,,,,,,,,,,,,,...|                    |  3163|2576331|\n",
      "|          524|May 20, 2018 at 6...|2018-05-20 16:00:00| Regular|      38|Napoli - Crotone,...|[[377231, referee...|4406278|  181248|Played|[,,,,,,,,,,,,,,,,...|                    |  3187|2576332|\n",
      "|          524|May 20, 2018 at 6...|2018-05-20 16:00:00| Regular|      38|Milan - Fiorentin...|[[377252, referee...|4406278|  181248|Played|[,,,,,,,,,,,,,,,,...|                    |  3157|2576333|\n",
      "|          524|May 20, 2018 at 6...|2018-05-20 16:00:00| Regular|      38|SPAL - Sampdoria,...|[[377256, referee...|4406278|  181248|Played|[,,,,,,,,,,,,,,,,...|                    |  3204|2576337|\n",
      "|          524|May 20, 2018 at 3...|2018-05-20 13:00:00| Regular|      38|Genoa - Torino, 1...|[[393614, referee...|4406278|  181248|Played|[,,,,,,,,,,,,,,,,...|                    |  3185|2576338|\n",
      "|          524|May 19, 2018 at 3...|2018-05-19 13:00:00| Regular|      38|Juventus - Hellas...|[[377237, referee...|4406278|  181248|Played|[,,,,,,,,,,,,,,,,...|                    |  3159|2576334|\n",
      "|          524|May 13, 2018 at 8...|2018-05-13 18:45:00| Regular|      37|Roma - Juventus, ...|[[377210, referee...|4406278|  181248|Played|[,,,,,,,,,,,,,,,,...|                    |     0|2576322|\n",
      "|          524|May 13, 2018 at 8...|2018-05-13 18:45:00| Regular|      37|Sampdoria - Napol...|[[377254, referee...|4406278|  181248|Played|[,,,,,,,,,,,,,,,,...|                    |  3187|2576325|\n",
      "|          524|May 13, 2018 at 6...|2018-05-13 16:00:00| Regular|      37|Atalanta - Milan,...|[[377241, referee...|4406278|  181248|Played|[,,,,,,,,,,,,,,,,...|                    |     0|2576324|\n",
      "|          524|May 13, 2018 at 3...|2018-05-13 13:00:00| Regular|      37|Fiorentina - Cagl...|[[377219, referee...|4406278|  181248|Played|[,,,,,,,,,,,,,,,,...|                    |  3173|2576319|\n",
      "|          524|May 13, 2018 at 3...|2018-05-13 13:00:00| Regular|      37|Bologna - Chievo,...|[[377257, referee...|4406278|  181248|Played|[,,,,,,,,,,,,,,,,...|                    |  3165|2576320|\n",
      "|          524|May 13, 2018 at 3...|2018-05-13 13:00:00| Regular|      37|Crotone - Lazio, ...|[[377232, referee...|4406278|  181248|Played|[,,,,,,,,,,,,,,,,...|                    |     0|2576323|\n",
      "|          524|May 13, 2018 at 3...|2018-05-13 13:00:00| Regular|      37|Torino - SPAL, 2 - 1|[[377251, referee...|4406278|  181248|Played|[,,,,,,,,,,,,,,,,...|                    |  3185|2576327|\n",
      "|          524|May 13, 2018 at 3...|2018-05-13 13:00:00| Regular|      37|Hellas Verona - U...|[[377264, referee...|4406278|  181248|Played|[,,,,,,,,,,,,,,,,...|                    |  3163|2576328|\n",
      "|          524|May 12, 2018 at 8...|2018-05-12 18:45:00| Regular|      37|Internazionale - ...|[[377271, referee...|4406278|  181248|Played|[,,,,,,,,,,,,,,,,...|                    |  3315|2576326|\n",
      "|          524|May 12, 2018 at 6...|2018-05-12 16:00:00| Regular|      37|Benevento - Genoa...|[[377267, referee...|4406278|  181248|Played|[,,,,,,,,,,,,,,,,...|                    |  3219|2576321|\n",
      "+-------------+--------------------+-------------------+--------+--------+--------------------+--------------------+-------+--------+------+--------------------+--------------------+------+-------+\n",
      "only showing top 20 rows"
     ]
    }
   ],
   "source": [
    "## import match dataset \n",
    "match = spark.read.json(\"s3://football-club-data/matches_*.json\")\n",
    "match.show()"
   ]
  },
  {
   "cell_type": "code",
   "execution_count": 16,
   "metadata": {
    "editable": true
   },
   "outputs": [
    {
     "data": {
      "application/vnd.jupyter.widget-view+json": {
       "model_id": "61f0b013dd0940d0b03ed61db8582e3d",
       "version_major": 2,
       "version_minor": 0
      },
      "text/plain": [
       "VBox()"
      ]
     },
     "metadata": {},
     "output_type": "display_data"
    },
    {
     "data": {
      "application/vnd.jupyter.widget-view+json": {
       "model_id": "",
       "version_major": 2,
       "version_minor": 0
      },
      "text/plain": [
       "FloatProgress(value=0.0, bar_style='info', description='Progress:', layout=Layout(height='25px', width='50%'),…"
      ]
     },
     "metadata": {},
     "output_type": "display_data"
    }
   ],
   "source": [
    "# match_referee = match[['referees']].withColumn(\"modifier\", F.element_at(\"referees\", 1)['refereeId'])\n",
    "# match_referee.show()"
   ]
  },
  {
   "cell_type": "code",
   "execution_count": 17,
   "metadata": {
    "editable": true
   },
   "outputs": [
    {
     "data": {
      "application/vnd.jupyter.widget-view+json": {
       "model_id": "ac5b4a3bdcb7422baeb902f13a8251ee",
       "version_major": 2,
       "version_minor": 0
      },
      "text/plain": [
       "VBox()"
      ]
     },
     "metadata": {},
     "output_type": "display_data"
    },
    {
     "data": {
      "application/vnd.jupyter.widget-view+json": {
       "model_id": "",
       "version_major": 2,
       "version_minor": 0
      },
      "text/plain": [
       "FloatProgress(value=0.0, bar_style='info', description='Progress:', layout=Layout(height='25px', width='50%'),…"
      ]
     },
     "metadata": {},
     "output_type": "display_data"
    },
    {
     "name": "stdout",
     "output_type": "stream",
     "text": [
      "+--------------------+-----------------+--------------------+-------------+----+\n",
      "|                area|           format|                name|         type|wyId|\n",
      "+--------------------+-----------------+--------------------+-------------+----+\n",
      "|[IT, ITA, 380, It...|  Domestic league|Italian first div...|         club| 524|\n",
      "| [, XEN, 0, England]|  Domestic league|English first div...|         club| 364|\n",
      "|[ES, ESP, 724, Sp...|  Domestic league|Spanish first div...|         club| 795|\n",
      "|[FR, FRA, 250, Fr...|  Domestic league|French first divi...|         club| 412|\n",
      "|[DE, DEU, 276, Ge...|  Domestic league|German first divi...|         club| 426|\n",
      "|        [, XEU, 0, ]|International cup|European Champion...|international| 102|\n",
      "|        [, XWO, 0, ]|International cup|           World Cup|international|  28|\n",
      "+--------------------+-----------------+--------------------+-------------+----+"
     ]
    }
   ],
   "source": [
    "#import competition\n",
    "competition = spark.read.json(\"s3://football-club-data/competitions.json\")\n",
    "competition.show()"
   ]
  },
  {
   "cell_type": "code",
   "execution_count": 18,
   "metadata": {
    "editable": true
   },
   "outputs": [
    {
     "data": {
      "application/vnd.jupyter.widget-view+json": {
       "model_id": "4ba6eda49fbb46eb8a9d343334d47839",
       "version_major": 2,
       "version_minor": 0
      },
      "text/plain": [
       "VBox()"
      ]
     },
     "metadata": {},
     "output_type": "display_data"
    },
    {
     "data": {
      "application/vnd.jupyter.widget-view+json": {
       "model_id": "",
       "version_major": 2,
       "version_minor": 0
      },
      "text/plain": [
       "FloatProgress(value=0.0, bar_style='info', description='Progress:', layout=Layout(height='25px', width='50%'),…"
      ]
     },
     "metadata": {},
     "output_type": "display_data"
    }
   ],
   "source": [
    "#match.select('dateutc', venue, home_club_id, away_club_id, winner)"
   ]
  },
  {
   "cell_type": "code",
   "execution_count": 19,
   "metadata": {
    "editable": true
   },
   "outputs": [
    {
     "data": {
      "application/vnd.jupyter.widget-view+json": {
       "model_id": "4401fbcf990f453bae53b0fccee3ec10",
       "version_major": 2,
       "version_minor": 0
      },
      "text/plain": [
       "VBox()"
      ]
     },
     "metadata": {},
     "output_type": "display_data"
    },
    {
     "data": {
      "application/vnd.jupyter.widget-view+json": {
       "model_id": "",
       "version_major": 2,
       "version_minor": 0
      },
      "text/plain": [
       "FloatProgress(value=0.0, bar_style='info', description='Progress:', layout=Layout(height='25px', width='50%'),…"
      ]
     },
     "metadata": {},
     "output_type": "display_data"
    }
   ],
   "source": [
    "from pyspark.sql.functions import split\n",
    "#split function fir fixture and scoreline columnin match\n",
    "def split_col_func(source_tbl, split_column, delimiter, new_col_1, new_col_2):\n",
    "    \n",
    "    split_col = split(source_tbl[split_column], delimiter)\n",
    "\n",
    "    source_tbl = source_tbl.withColumn(new_col_1, split_col.getItem(0))\n",
    "    source_tbl = source_tbl.withColumn(new_col_2, split_col.getItem(1))\n",
    "    return source_tbl"
   ]
  },
  {
   "cell_type": "code",
   "execution_count": 20,
   "metadata": {
    "editable": true
   },
   "outputs": [
    {
     "data": {
      "application/vnd.jupyter.widget-view+json": {
       "model_id": "1923516b88da4159833e716f49872947",
       "version_major": 2,
       "version_minor": 0
      },
      "text/plain": [
       "VBox()"
      ]
     },
     "metadata": {},
     "output_type": "display_data"
    },
    {
     "data": {
      "application/vnd.jupyter.widget-view+json": {
       "model_id": "",
       "version_major": 2,
       "version_minor": 0
      },
      "text/plain": [
       "FloatProgress(value=0.0, bar_style='info', description='Progress:', layout=Layout(height='25px', width='50%'),…"
      ]
     },
     "metadata": {},
     "output_type": "display_data"
    }
   ],
   "source": [
    "#split label into fixtures and scoreline\n",
    "split_col = split(match['label'], ',')\n",
    "\n",
    "match = match.withColumn('fixture', split_col.getItem(0))\n",
    "match = match.withColumn('scoreline', split_col.getItem(1))"
   ]
  },
  {
   "cell_type": "code",
   "execution_count": 21,
   "metadata": {
    "editable": true
   },
   "outputs": [
    {
     "data": {
      "application/vnd.jupyter.widget-view+json": {
       "model_id": "b4cec1fae2024c25a1a7206778d5d92b",
       "version_major": 2,
       "version_minor": 0
      },
      "text/plain": [
       "VBox()"
      ]
     },
     "metadata": {},
     "output_type": "display_data"
    },
    {
     "data": {
      "application/vnd.jupyter.widget-view+json": {
       "model_id": "",
       "version_major": 2,
       "version_minor": 0
      },
      "text/plain": [
       "FloatProgress(value=0.0, bar_style='info', description='Progress:', layout=Layout(height='25px', width='50%'),…"
      ]
     },
     "metadata": {},
     "output_type": "display_data"
    }
   ],
   "source": [
    "# extract the required column [id, match_date, competition, season, venue, home_club_id, away_club_id, yr]\n",
    "match_1 = match.join(competition, match.competitionId == competition.wyId).select('dateutc', match.wyId,col('name').alias('competition'), 'venue', 'referees', 'winner', col('dateutc')[0:4].alias('season'), 'fixture', 'scoreline') #'home_club_id', 'away_club_id'"
   ]
  },
  {
   "cell_type": "code",
   "execution_count": 22,
   "metadata": {
    "editable": true
   },
   "outputs": [
    {
     "data": {
      "application/vnd.jupyter.widget-view+json": {
       "model_id": "1d0947534aad49ed8abe8431de149f77",
       "version_major": 2,
       "version_minor": 0
      },
      "text/plain": [
       "VBox()"
      ]
     },
     "metadata": {},
     "output_type": "display_data"
    },
    {
     "data": {
      "application/vnd.jupyter.widget-view+json": {
       "model_id": "",
       "version_major": 2,
       "version_minor": 0
      },
      "text/plain": [
       "FloatProgress(value=0.0, bar_style='info', description='Progress:', layout=Layout(height='25px', width='50%'),…"
      ]
     },
     "metadata": {},
     "output_type": "display_data"
    }
   ],
   "source": [
    "# split the fixture columns to extract the name home and away team\n",
    "match_2 = split_col_func(match_1, 'fixture', '-', 'home_club', 'away_club').drop('fixture')\n",
    "\n",
    "# split the score line column to extract the goal scored by each club\n",
    "match_3 = split_col_func(match_2, 'scoreline', '-', 'goal_by_home_club', 'goal_by_away_club').drop('scoreline')\n",
    "matches = match_3.withColumn(\"id\", F.monotonically_increasing_id())\n",
    "windowSpec = W.orderBy(\"id\")\n",
    "matches = matches.withColumn(\"id\", F.row_number().over(windowSpec)-1)"
   ]
  },
  {
   "cell_type": "code",
   "execution_count": 23,
   "metadata": {
    "editable": true
   },
   "outputs": [
    {
     "data": {
      "application/vnd.jupyter.widget-view+json": {
       "model_id": "7f25bab979504a07be47c64b044a162e",
       "version_major": 2,
       "version_minor": 0
      },
      "text/plain": [
       "VBox()"
      ]
     },
     "metadata": {},
     "output_type": "display_data"
    },
    {
     "data": {
      "application/vnd.jupyter.widget-view+json": {
       "model_id": "",
       "version_major": 2,
       "version_minor": 0
      },
      "text/plain": [
       "FloatProgress(value=0.0, bar_style='info', description='Progress:', layout=Layout(height='25px', width='50%'),…"
      ]
     },
     "metadata": {},
     "output_type": "display_data"
    },
    {
     "name": "stdout",
     "output_type": "stream",
     "text": [
      "+-------------------+-------+--------------------+--------------------+--------------------+------+------+---------------+---------------+-----------------+-----------------+---+\n",
      "|            dateutc|   wyId|         competition|               venue|            referees|winner|season|      home_club|      away_club|goal_by_home_club|goal_by_away_club| id|\n",
      "+-------------------+-------+--------------------+--------------------+--------------------+------+------+---------------+---------------+-----------------+-----------------+---+\n",
      "|2018-05-20 18:45:00|2576335|Italian first div...|                    |[[377206, referee...|  3161|  2018|         Lazio | Internazionale|               2 |                3|  0|\n",
      "|2018-05-20 18:45:00|2576336|Italian first div...|MAPEI Stadium - C...|[[377255, referee...|  3158|  2018|      Sassuolo |           Roma|               0 |                1|  1|\n",
      "|2018-05-20 16:00:00|2576329|Italian first div...|                    |[[377247, referee...|  3173|  2018|      Cagliari |       Atalanta|               1 |                0|  2|\n",
      "|2018-05-20 16:00:00|2576330|Italian first div...|                    |[[377246, referee...|  3165|  2018|        Chievo |      Benevento|               1 |                0|  3|\n",
      "|2018-05-20 16:00:00|2576331|Italian first div...|                    |[[377254, referee...|  3163|  2018|       Udinese |        Bologna|               1 |                0|  4|\n",
      "|2018-05-20 16:00:00|2576332|Italian first div...|                    |[[377231, referee...|  3187|  2018|        Napoli |        Crotone|               2 |                1|  5|\n",
      "|2018-05-20 16:00:00|2576333|Italian first div...|                    |[[377252, referee...|  3157|  2018|         Milan |     Fiorentina|               5 |                1|  6|\n",
      "|2018-05-20 16:00:00|2576337|Italian first div...|                    |[[377256, referee...|  3204|  2018|          SPAL |      Sampdoria|               3 |                1|  7|\n",
      "|2018-05-20 13:00:00|2576338|Italian first div...|                    |[[393614, referee...|  3185|  2018|         Genoa |         Torino|               1 |                2|  8|\n",
      "|2018-05-19 13:00:00|2576334|Italian first div...|                    |[[377237, referee...|  3159|  2018|      Juventus |  Hellas Verona|               2 |                1|  9|\n",
      "|2018-05-13 18:45:00|2576322|Italian first div...|                    |[[377210, referee...|     0|  2018|          Roma |       Juventus|               0 |                0| 10|\n",
      "|2018-05-13 18:45:00|2576325|Italian first div...|                    |[[377254, referee...|  3187|  2018|     Sampdoria |         Napoli|               0 |                2| 11|\n",
      "|2018-05-13 16:00:00|2576324|Italian first div...|                    |[[377241, referee...|     0|  2018|      Atalanta |          Milan|               1 |                1| 12|\n",
      "|2018-05-13 13:00:00|2576319|Italian first div...|                    |[[377219, referee...|  3173|  2018|    Fiorentina |       Cagliari|               0 |                1| 13|\n",
      "|2018-05-13 13:00:00|2576320|Italian first div...|                    |[[377257, referee...|  3165|  2018|       Bologna |         Chievo|               1 |                2| 14|\n",
      "|2018-05-13 13:00:00|2576323|Italian first div...|                    |[[377232, referee...|     0|  2018|       Crotone |          Lazio|               2 |                2| 15|\n",
      "|2018-05-13 13:00:00|2576327|Italian first div...|                    |[[377251, referee...|  3185|  2018|        Torino |           SPAL|               2 |                1| 16|\n",
      "|2018-05-13 13:00:00|2576328|Italian first div...|                    |[[377264, referee...|  3163|  2018| Hellas Verona |        Udinese|               0 |                1| 17|\n",
      "|2018-05-12 18:45:00|2576326|Italian first div...|                    |[[377271, referee...|  3315|  2018|Internazionale |       Sassuolo|               1 |                2| 18|\n",
      "|2018-05-12 16:00:00|2576321|Italian first div...|                    |[[377267, referee...|  3219|  2018|     Benevento |          Genoa|               1 |                0| 19|\n",
      "+-------------------+-------+--------------------+--------------------+--------------------+------+------+---------------+---------------+-----------------+-----------------+---+\n",
      "only showing top 20 rows"
     ]
    }
   ],
   "source": [
    "matches.show()"
   ]
  },
  {
   "cell_type": "code",
   "execution_count": 24,
   "metadata": {
    "editable": true
   },
   "outputs": [
    {
     "data": {
      "application/vnd.jupyter.widget-view+json": {
       "model_id": "493cbc9557614f2ca2ffe199ca2b1a9a",
       "version_major": 2,
       "version_minor": 0
      },
      "text/plain": [
       "VBox()"
      ]
     },
     "metadata": {},
     "output_type": "display_data"
    },
    {
     "data": {
      "application/vnd.jupyter.widget-view+json": {
       "model_id": "",
       "version_major": 2,
       "version_minor": 0
      },
      "text/plain": [
       "FloatProgress(value=0.0, bar_style='info', description='Progress:', layout=Layout(height='25px', width='50%'),…"
      ]
     },
     "metadata": {},
     "output_type": "display_data"
    },
    {
     "name": "stdout",
     "output_type": "stream",
     "text": [
      "+-------------------+-------+--------------------+--------------------+------+------+---------------+---------------+-----------------+-----------------+---+---------+\n",
      "|            dateutc|   wyId|         competition|               venue|winner|season|      home_club|      away_club|goal_by_home_club|goal_by_away_club| id|refereeid|\n",
      "+-------------------+-------+--------------------+--------------------+------+------+---------------+---------------+-----------------+-----------------+---+---------+\n",
      "|2018-05-20 18:45:00|2576335|Italian first div...|                    |  3161|  2018|         Lazio | Internazionale|               2 |                3|  0|   377206|\n",
      "|2018-05-20 18:45:00|2576336|Italian first div...|MAPEI Stadium - C...|  3158|  2018|      Sassuolo |           Roma|               0 |                1|  1|   377255|\n",
      "|2018-05-20 16:00:00|2576329|Italian first div...|                    |  3173|  2018|      Cagliari |       Atalanta|               1 |                0|  2|   377247|\n",
      "|2018-05-20 16:00:00|2576330|Italian first div...|                    |  3165|  2018|        Chievo |      Benevento|               1 |                0|  3|   377246|\n",
      "|2018-05-20 16:00:00|2576331|Italian first div...|                    |  3163|  2018|       Udinese |        Bologna|               1 |                0|  4|   377254|\n",
      "|2018-05-20 16:00:00|2576332|Italian first div...|                    |  3187|  2018|        Napoli |        Crotone|               2 |                1|  5|   377231|\n",
      "|2018-05-20 16:00:00|2576333|Italian first div...|                    |  3157|  2018|         Milan |     Fiorentina|               5 |                1|  6|   377252|\n",
      "|2018-05-20 16:00:00|2576337|Italian first div...|                    |  3204|  2018|          SPAL |      Sampdoria|               3 |                1|  7|   377256|\n",
      "|2018-05-20 13:00:00|2576338|Italian first div...|                    |  3185|  2018|         Genoa |         Torino|               1 |                2|  8|   393614|\n",
      "|2018-05-19 13:00:00|2576334|Italian first div...|                    |  3159|  2018|      Juventus |  Hellas Verona|               2 |                1|  9|   377237|\n",
      "|2018-05-13 18:45:00|2576322|Italian first div...|                    |     0|  2018|          Roma |       Juventus|               0 |                0| 10|   377210|\n",
      "|2018-05-13 18:45:00|2576325|Italian first div...|                    |  3187|  2018|     Sampdoria |         Napoli|               0 |                2| 11|   377254|\n",
      "|2018-05-13 16:00:00|2576324|Italian first div...|                    |     0|  2018|      Atalanta |          Milan|               1 |                1| 12|   377241|\n",
      "|2018-05-13 13:00:00|2576319|Italian first div...|                    |  3173|  2018|    Fiorentina |       Cagliari|               0 |                1| 13|   377219|\n",
      "|2018-05-13 13:00:00|2576320|Italian first div...|                    |  3165|  2018|       Bologna |         Chievo|               1 |                2| 14|   377257|\n",
      "|2018-05-13 13:00:00|2576323|Italian first div...|                    |     0|  2018|       Crotone |          Lazio|               2 |                2| 15|   377232|\n",
      "|2018-05-13 13:00:00|2576327|Italian first div...|                    |  3185|  2018|        Torino |           SPAL|               2 |                1| 16|   377251|\n",
      "|2018-05-13 13:00:00|2576328|Italian first div...|                    |  3163|  2018| Hellas Verona |        Udinese|               0 |                1| 17|   377264|\n",
      "|2018-05-12 18:45:00|2576326|Italian first div...|                    |  3315|  2018|Internazionale |       Sassuolo|               1 |                2| 18|   377271|\n",
      "|2018-05-12 16:00:00|2576321|Italian first div...|                    |  3219|  2018|     Benevento |          Genoa|               1 |                0| 19|   377267|\n",
      "+-------------------+-------+--------------------+--------------------+------+------+---------------+---------------+-----------------+-----------------+---+---------+\n",
      "only showing top 20 rows"
     ]
    }
   ],
   "source": [
    "matches_tbl = matches.withColumn(\"refereeid\", F.element_at(\"referees\", 1)['refereeId']).drop('referees')\n",
    "matches_tbl.show()"
   ]
  },
  {
   "cell_type": "code",
   "execution_count": 28,
   "metadata": {
    "editable": true
   },
   "outputs": [
    {
     "data": {
      "application/vnd.jupyter.widget-view+json": {
       "model_id": "c584369b3a714a9abaf2dd312cddd1b8",
       "version_major": 2,
       "version_minor": 0
      },
      "text/plain": [
       "VBox()"
      ]
     },
     "metadata": {},
     "output_type": "display_data"
    },
    {
     "data": {
      "application/vnd.jupyter.widget-view+json": {
       "model_id": "",
       "version_major": 2,
       "version_minor": 0
      },
      "text/plain": [
       "FloatProgress(value=0.0, bar_style='info', description='Progress:', layout=Layout(height='25px', width='50%'),…"
      ]
     },
     "metadata": {},
     "output_type": "display_data"
    },
    {
     "name": "stdout",
     "output_type": "stream",
     "text": [
      "+-------+--------+\n",
      "|   wyId|match_id|\n",
      "+-------+--------+\n",
      "|2576335|       0|\n",
      "|2576336|       1|\n",
      "|2576329|       2|\n",
      "|2576330|       3|\n",
      "|2576331|       4|\n",
      "|2576332|       5|\n",
      "|2576333|       6|\n",
      "|2576337|       7|\n",
      "|2576338|       8|\n",
      "|2576334|       9|\n",
      "|2576322|      10|\n",
      "|2576325|      11|\n",
      "|2576324|      12|\n",
      "|2576319|      13|\n",
      "|2576320|      14|\n",
      "|2576323|      15|\n",
      "|2576327|      16|\n",
      "|2576328|      17|\n",
      "|2576326|      18|\n",
      "|2576321|      19|\n",
      "+-------+--------+\n",
      "only showing top 20 rows"
     ]
    }
   ],
   "source": [
    "# create an referee id map file\n",
    "matches_tbl_map = matches_tbl.select(\"wyId\", col(\"id\").alias(\"match_id\"))\n",
    "matches_tbl_map.show()"
   ]
  },
  {
   "cell_type": "markdown",
   "metadata": {
    "editable": true
   },
   "source": [
    "### club "
   ]
  },
  {
   "cell_type": "code",
   "execution_count": 29,
   "metadata": {
    "editable": true
   },
   "outputs": [
    {
     "data": {
      "application/vnd.jupyter.widget-view+json": {
       "model_id": "da9da6b452b843afb6d3ae17c401fe94",
       "version_major": 2,
       "version_minor": 0
      },
      "text/plain": [
       "VBox()"
      ]
     },
     "metadata": {},
     "output_type": "display_data"
    },
    {
     "data": {
      "application/vnd.jupyter.widget-view+json": {
       "model_id": "",
       "version_major": 2,
       "version_minor": 0
      },
      "text/plain": [
       "FloatProgress(value=0.0, bar_style='info', description='Progress:', layout=Layout(height='25px', width='50%'),…"
      ]
     },
     "metadata": {},
     "output_type": "display_data"
    },
    {
     "name": "stdout",
     "output_type": "stream",
     "text": [
      "+--------------------+--------------------+--------------------+--------------------+----+-----+\n",
      "|                area|                city|                name|        officialName|type| wyId|\n",
      "+--------------------+--------------------+--------------------+--------------------+----+-----+\n",
      "| [, XEN, 0, England]| Newcastle upon Tyne|    Newcastle United| Newcastle United FC|club| 1613|\n",
      "|[ES, ESP, 724, Sp...|                Vigo|       Celta de Vigo|Real Club Celta d...|club|  692|\n",
      "|[ES, ESP, 724, Sp...|           Barcelona|            Espanyol|Reial Club Deport...|club|  691|\n",
      "|[ES, ESP, 724, Sp...|     Vitoria-Gasteiz|Deportivo Alav\\u0...|Deportivo Alav\\u0...|club|  696|\n",
      "|[ES, ESP, 724, Sp...|            Valencia|             Levante|          Levante UD|club|  695|\n",
      "|[FR, FRA, 250, Fr...|              Troyes|              Troyes|Esp\\u00e9rance Sp...|club| 3795|\n",
      "|[ES, ESP, 724, Sp...|     Getafe (Madrid)|              Getafe|Getafe Club de F\\...|club|  698|\n",
      "|[DE, DEU, 276, Ge...|M\\u00f6nchengladbach| Borussia M'gladbach|Borussia VfL M\\u0...|club| 2454|\n",
      "| [, XEN, 0, England]|Huddersfield, Wes...|   Huddersfield Town|Huddersfield Town FC|club| 1673|\n",
      "|[ES, ESP, 724, Sp...|              Bilbao|       Athletic Club|Athletic Club Bilbao|club|  678|\n",
      "|[ES, ESP, 724, Sp...|              Madrid|Atl\\u00e9tico Madrid|Club Atl\\u00e9tic...|club|  679|\n",
      "|[FR, FRA, 250, Fr...|                Lyon|  Olympique Lyonnais|  Olympique Lyonnais|club| 3766|\n",
      "|[FR, FRA, 250, Fr...|               Paris|                 PSG|Paris Saint-Germa...|club| 3767|\n",
      "|[ES, ESP, 724, Sp...|            Valencia|            Valencia|Valencia Club de ...|club|  674|\n",
      "|[ES, ESP, 724, Sp...|              Madrid|         Real Madrid|Real Madrid Club ...|club|  675|\n",
      "|[ES, ESP, 724, Sp...|           Barcelona|           Barcelona|        FC Barcelona|club|  676|\n",
      "|[ES, ESP, 724, Sp...|Las Palmas de Gra...|          Las Palmas|       UD Las Palmas|club|  714|\n",
      "|[ES, ESP, 724, Sp...|        Legan\\u00e9s|        Legan\\u00e9s|     CD Legan\\u00e9s|club|  712|\n",
      "|[IT, ITA, 380, It...|             Ferrara|                SPAL|Societ\\u00e0 Poli...|club| 3204|\n",
      "|   [, XWA, 0, Wales]|             Swansea|        Swansea City|    Swansea City AFC|club|10531|\n",
      "+--------------------+--------------------+--------------------+--------------------+----+-----+\n",
      "only showing top 20 rows"
     ]
    }
   ],
   "source": [
    "club = spark.read.json(\"s3://football-club-data/teams.json\")\n",
    "club.show()"
   ]
  },
  {
   "cell_type": "code",
   "execution_count": 30,
   "metadata": {
    "editable": true
   },
   "outputs": [
    {
     "data": {
      "application/vnd.jupyter.widget-view+json": {
       "model_id": "51bfb18b553c4f9b9d4454cd8e15e04e",
       "version_major": 2,
       "version_minor": 0
      },
      "text/plain": [
       "VBox()"
      ]
     },
     "metadata": {},
     "output_type": "display_data"
    },
    {
     "data": {
      "application/vnd.jupyter.widget-view+json": {
       "model_id": "",
       "version_major": 2,
       "version_minor": 0
      },
      "text/plain": [
       "FloatProgress(value=0.0, bar_style='info', description='Progress:', layout=Layout(height='25px', width='50%'),…"
      ]
     },
     "metadata": {},
     "output_type": "display_data"
    },
    {
     "name": "stdout",
     "output_type": "stream",
     "text": [
      "root\n",
      " |-- area: struct (nullable = true)\n",
      " |    |-- alpha2code: string (nullable = true)\n",
      " |    |-- alpha3code: string (nullable = true)\n",
      " |    |-- id: string (nullable = true)\n",
      " |    |-- name: string (nullable = true)\n",
      " |-- city: string (nullable = true)\n",
      " |-- name: string (nullable = true)\n",
      " |-- officialName: string (nullable = true)\n",
      " |-- type: string (nullable = true)\n",
      " |-- wyId: long (nullable = true)"
     ]
    }
   ],
   "source": [
    "# check the schema of the data set\n",
    "club.printSchema()"
   ]
  },
  {
   "cell_type": "code",
   "execution_count": 31,
   "metadata": {
    "editable": true
   },
   "outputs": [
    {
     "data": {
      "application/vnd.jupyter.widget-view+json": {
       "model_id": "14c34a8dc4f54959a83a80b36387ea17",
       "version_major": 2,
       "version_minor": 0
      },
      "text/plain": [
       "VBox()"
      ]
     },
     "metadata": {},
     "output_type": "display_data"
    },
    {
     "data": {
      "application/vnd.jupyter.widget-view+json": {
       "model_id": "",
       "version_major": 2,
       "version_minor": 0
      },
      "text/plain": [
       "FloatProgress(value=0.0, bar_style='info', description='Progress:', layout=Layout(height='25px', width='50%'),…"
      ]
     },
     "metadata": {},
     "output_type": "display_data"
    },
    {
     "name": "stdout",
     "output_type": "stream",
     "text": [
      "+-----+--------------------+--------------------+-------+---+\n",
      "| wyId|                name|        officialName|country| id|\n",
      "+-----+--------------------+--------------------+-------+---+\n",
      "| 1613|    Newcastle United| Newcastle United FC|England|  0|\n",
      "|  692|       Celta de Vigo|Real Club Celta d...|  Spain|  1|\n",
      "|  691|            Espanyol|Reial Club Deport...|  Spain|  2|\n",
      "|  696|Deportivo Alav\\u0...|Deportivo Alav\\u0...|  Spain|  3|\n",
      "|  695|             Levante|          Levante UD|  Spain|  4|\n",
      "| 3795|              Troyes|Esp\\u00e9rance Sp...| France|  5|\n",
      "|  698|              Getafe|Getafe Club de F\\...|  Spain|  6|\n",
      "| 2454| Borussia M'gladbach|Borussia VfL M\\u0...|Germany|  7|\n",
      "| 1673|   Huddersfield Town|Huddersfield Town FC|England|  8|\n",
      "|  678|       Athletic Club|Athletic Club Bilbao|  Spain|  9|\n",
      "|  679|Atl\\u00e9tico Madrid|Club Atl\\u00e9tic...|  Spain| 10|\n",
      "| 3766|  Olympique Lyonnais|  Olympique Lyonnais| France| 11|\n",
      "| 3767|                 PSG|Paris Saint-Germa...| France| 12|\n",
      "|  674|            Valencia|Valencia Club de ...|  Spain| 13|\n",
      "|  675|         Real Madrid|Real Madrid Club ...|  Spain| 14|\n",
      "|  676|           Barcelona|        FC Barcelona|  Spain| 15|\n",
      "|  714|          Las Palmas|       UD Las Palmas|  Spain| 16|\n",
      "|  712|        Legan\\u00e9s|     CD Legan\\u00e9s|  Spain| 17|\n",
      "| 3204|                SPAL|Societ\\u00e0 Poli...|  Italy| 18|\n",
      "|10531|        Swansea City|    Swansea City AFC|  Wales| 19|\n",
      "+-----+--------------------+--------------------+-------+---+\n",
      "only showing top 20 rows"
     ]
    }
   ],
   "source": [
    "# extract the required columns []\n",
    "club_init = club.select('wyId', 'name', 'officialName',club.area['name'].alias('country'))\n",
    "\n",
    "# add an 'id' column \n",
    "club = club_init.withColumn(\"id\", F.monotonically_increasing_id())\n",
    "windowSpec = W.orderBy(\"id\")\n",
    "clubs = club.withColumn(\"id\", F.row_number().over(windowSpec)-1)\n",
    "clubs.show()"
   ]
  },
  {
   "cell_type": "code",
   "execution_count": 32,
   "metadata": {
    "editable": true
   },
   "outputs": [
    {
     "data": {
      "application/vnd.jupyter.widget-view+json": {
       "model_id": "c082c88d76cd439090c886f0cf1380ba",
       "version_major": 2,
       "version_minor": 0
      },
      "text/plain": [
       "VBox()"
      ]
     },
     "metadata": {},
     "output_type": "display_data"
    },
    {
     "data": {
      "application/vnd.jupyter.widget-view+json": {
       "model_id": "",
       "version_major": 2,
       "version_minor": 0
      },
      "text/plain": [
       "FloatProgress(value=0.0, bar_style='info', description='Progress:', layout=Layout(height='25px', width='50%'),…"
      ]
     },
     "metadata": {},
     "output_type": "display_data"
    },
    {
     "name": "stdout",
     "output_type": "stream",
     "text": [
      "+-----+-------+\n",
      "| wyId|club_id|\n",
      "+-----+-------+\n",
      "| 1613|      0|\n",
      "|  692|      1|\n",
      "|  691|      2|\n",
      "|  696|      3|\n",
      "|  695|      4|\n",
      "| 3795|      5|\n",
      "|  698|      6|\n",
      "| 2454|      7|\n",
      "| 1673|      8|\n",
      "|  678|      9|\n",
      "|  679|     10|\n",
      "| 3766|     11|\n",
      "| 3767|     12|\n",
      "|  674|     13|\n",
      "|  675|     14|\n",
      "|  676|     15|\n",
      "|  714|     16|\n",
      "|  712|     17|\n",
      "| 3204|     18|\n",
      "|10531|     19|\n",
      "+-----+-------+\n",
      "only showing top 20 rows"
     ]
    }
   ],
   "source": [
    "# create an club id map file\n",
    "club_map = club.select(\"wyId\", col(\"id\").alias(\"club_id\"))\n",
    "club_map.show()"
   ]
  },
  {
   "cell_type": "markdown",
   "metadata": {
    "editable": true
   },
   "source": [
    "### Match event table "
   ]
  },
  {
   "cell_type": "code",
   "execution_count": 33,
   "metadata": {
    "editable": true
   },
   "outputs": [
    {
     "data": {
      "application/vnd.jupyter.widget-view+json": {
       "model_id": "40974095836943199457f9f4b87610ec",
       "version_major": 2,
       "version_minor": 0
      },
      "text/plain": [
       "VBox()"
      ]
     },
     "metadata": {},
     "output_type": "display_data"
    },
    {
     "data": {
      "application/vnd.jupyter.widget-view+json": {
       "model_id": "",
       "version_major": 2,
       "version_minor": 0
      },
      "text/plain": [
       "FloatProgress(value=0.0, bar_style='info', description='Progress:', layout=Layout(height='25px', width='50%'),…"
      ]
     },
     "metadata": {},
     "output_type": "display_data"
    }
   ],
   "source": [
    "# import the match event data\n",
    "event = spark.read.json(\"s3://football-club-data/event/events_*.json\",  multiLine=True)"
   ]
  },
  {
   "cell_type": "code",
   "execution_count": 34,
   "metadata": {
    "editable": true
   },
   "outputs": [
    {
     "data": {
      "application/vnd.jupyter.widget-view+json": {
       "model_id": "4ed43e13c969410a9b93b55534228067",
       "version_major": 2,
       "version_minor": 0
      },
      "text/plain": [
       "VBox()"
      ]
     },
     "metadata": {},
     "output_type": "display_data"
    },
    {
     "data": {
      "application/vnd.jupyter.widget-view+json": {
       "model_id": "",
       "version_major": 2,
       "version_minor": 0
      },
      "text/plain": [
       "FloatProgress(value=0.0, bar_style='info', description='Progress:', layout=Layout(height='25px', width='50%'),…"
      ]
     },
     "metadata": {},
     "output_type": "display_data"
    },
    {
     "name": "stdout",
     "output_type": "stream",
     "text": [
      "+-------+------------------+------------------+---------+-------+-----------+--------+--------------------+----------+--------------------+--------------------+------+\n",
      "|eventId|         eventName|          eventSec|       id|matchId|matchPeriod|playerId|           positions|subEventId|        subEventName|                tags|teamId|\n",
      "+-------+------------------+------------------+---------+-------+-----------+--------+--------------------+----------+--------------------+--------------------+------+\n",
      "|      8|              Pass|2.5305359999999837|180423957|2575959|         1H|    8327|[[49, 52], [43, 44]]|        85|         Simple pass|            [[1801]]|  3158|\n",
      "|      8|              Pass| 3.768417999999997|180423958|2575959|         1H|   20438|[[43, 44], [36, 17]]|        85|         Simple pass|            [[1801]]|  3158|\n",
      "|      7|Others on the ball| 4.868265000000008|180423959|2575959|         1H|    8306|[[36, 17], [78, 56]]|        72|               Touch|                  []|  3158|\n",
      "|      1|              Duel| 8.114675999999974|180423960|2575959|         1H|    8306|[[78, 56], [64, 15]]|        11|Ground attacking ...|[[504], [703], [1...|  3158|\n",
      "|      1|              Duel| 8.647892000000013|180423961|2575959|         1H|    8306|[[64, 15], [72, 15]]|        11|Ground attacking ...|[[503], [703], [1...|  3158|\n",
      "|      8|              Pass| 10.37606599999998|180423962|2575959|         1H|    8306|[[72, 15], [72, 25]]|        85|         Simple pass|            [[1801]]|  3158|\n",
      "|      1|              Duel|10.796797000000026|180423963|2575959|         1H|    8327|[[72, 25], [82, 64]]|        11|Ground attacking ...|[[602], [703], [1...|  3158|\n",
      "|      1|              Duel|11.527556000000004|180423976|2575959|         1H|   86366|[[36, 85], [28, 75]]|        12|Ground defending ...|[[504], [701], [1...|  3172|\n",
      "|      1|              Duel|12.156579000000022|180423977|2575959|         1H|   20404|[[28, 75], [18, 36]]|        12|Ground defending ...|[[601], [701], [1...|  3172|\n",
      "|      1|              Duel|12.418937000000028|180423965|2575959|         1H|    8327|[[82, 64], [62, 18]]|        11|Ground attacking ...|     [[701], [1802]]|  3158|\n",
      "+-------+------------------+------------------+---------+-------+-----------+--------+--------------------+----------+--------------------+--------------------+------+\n",
      "only showing top 10 rows"
     ]
    }
   ],
   "source": [
    "event.show(10)"
   ]
  },
  {
   "cell_type": "code",
   "execution_count": 35,
   "metadata": {
    "editable": true
   },
   "outputs": [
    {
     "data": {
      "application/vnd.jupyter.widget-view+json": {
       "model_id": "a96de8c8d13c428c87034f2499d84132",
       "version_major": 2,
       "version_minor": 0
      },
      "text/plain": [
       "VBox()"
      ]
     },
     "metadata": {},
     "output_type": "display_data"
    },
    {
     "data": {
      "application/vnd.jupyter.widget-view+json": {
       "model_id": "",
       "version_major": 2,
       "version_minor": 0
      },
      "text/plain": [
       "FloatProgress(value=0.0, bar_style='info', description='Progress:', layout=Layout(height='25px', width='50%'),…"
      ]
     },
     "metadata": {},
     "output_type": "display_data"
    },
    {
     "name": "stdout",
     "output_type": "stream",
     "text": [
      "DataFrame[eventId: bigint, eventName: string, eventSec: double, id: bigint, matchId: bigint, matchPeriod: string, playerId: bigint, positions: array<struct<x:bigint,y:bigint>>, subEventId: bigint, subEventName: string, tags: array<struct<id:bigint>>, teamId: bigint]"
     ]
    }
   ],
   "source": [
    "event"
   ]
  },
  {
   "cell_type": "code",
   "execution_count": 36,
   "metadata": {
    "editable": true
   },
   "outputs": [
    {
     "data": {
      "application/vnd.jupyter.widget-view+json": {
       "model_id": "86db8183cb1540ee8f29e827b3736629",
       "version_major": 2,
       "version_minor": 0
      },
      "text/plain": [
       "VBox()"
      ]
     },
     "metadata": {},
     "output_type": "display_data"
    },
    {
     "data": {
      "application/vnd.jupyter.widget-view+json": {
       "model_id": "",
       "version_major": 2,
       "version_minor": 0
      },
      "text/plain": [
       "FloatProgress(value=0.0, bar_style='info', description='Progress:', layout=Layout(height='25px', width='50%'),…"
      ]
     },
     "metadata": {},
     "output_type": "display_data"
    }
   ],
   "source": [
    "# extaract the required column for match_event [id, club_id*, match_id*, player_id*, manager_id**, referee_id**, match_timestamp**, event, action, modifier, x_start, y_start, x_end, y_end, is_success]\n",
    "match_event_data = event.select('teamId','matchId', 'playerId',  'matchPeriod', 'eventName',col('subEventName').alias('action'), 'tags', 'eventSec', event.positions['x'][0].alias('x_begin'), event.positions['y'][0].alias('y_begin'), event.positions['x'][1].alias('x_end'), event.positions['y'][1].alias('y_end'))#'id',\n",
    "\n",
    "# add id column\n",
    "match_event = match_event_data.withColumn(\"id\", F.monotonically_increasing_id())\n",
    "windowSpec = W.orderBy(\"id\")\n",
    "match_event = match_event.withColumn(\"id\", F.row_number().over(windowSpec)-1)"
   ]
  },
  {
   "cell_type": "code",
   "execution_count": 37,
   "metadata": {
    "editable": true
   },
   "outputs": [
    {
     "data": {
      "application/vnd.jupyter.widget-view+json": {
       "model_id": "bef935ff84884456a23186b457e23c01",
       "version_major": 2,
       "version_minor": 0
      },
      "text/plain": [
       "VBox()"
      ]
     },
     "metadata": {},
     "output_type": "display_data"
    },
    {
     "data": {
      "application/vnd.jupyter.widget-view+json": {
       "model_id": "",
       "version_major": 2,
       "version_minor": 0
      },
      "text/plain": [
       "FloatProgress(value=0.0, bar_style='info', description='Progress:', layout=Layout(height='25px', width='50%'),…"
      ]
     },
     "metadata": {},
     "output_type": "display_data"
    },
    {
     "name": "stdout",
     "output_type": "stream",
     "text": [
      "root\n",
      " |-- teamId: long (nullable = true)\n",
      " |-- matchId: long (nullable = true)\n",
      " |-- playerId: long (nullable = true)\n",
      " |-- matchPeriod: string (nullable = true)\n",
      " |-- eventName: string (nullable = true)\n",
      " |-- action: string (nullable = true)\n",
      " |-- tags: array (nullable = true)\n",
      " |    |-- element: struct (containsNull = true)\n",
      " |    |    |-- id: long (nullable = true)\n",
      " |-- eventSec: double (nullable = true)\n",
      " |-- x_begin: long (nullable = true)\n",
      " |-- y_begin: long (nullable = true)\n",
      " |-- x_end: long (nullable = true)\n",
      " |-- y_end: long (nullable = true)\n",
      " |-- id: integer (nullable = true)"
     ]
    }
   ],
   "source": [
    "match_event.printSchema()"
   ]
  },
  {
   "cell_type": "code",
   "execution_count": 38,
   "metadata": {
    "editable": true
   },
   "outputs": [
    {
     "data": {
      "application/vnd.jupyter.widget-view+json": {
       "model_id": "5ba73c714b664dbf85d4bb894df31570",
       "version_major": 2,
       "version_minor": 0
      },
      "text/plain": [
       "VBox()"
      ]
     },
     "metadata": {},
     "output_type": "display_data"
    },
    {
     "data": {
      "application/vnd.jupyter.widget-view+json": {
       "model_id": "",
       "version_major": 2,
       "version_minor": 0
      },
      "text/plain": [
       "FloatProgress(value=0.0, bar_style='info', description='Progress:', layout=Layout(height='25px', width='50%'),…"
      ]
     },
     "metadata": {},
     "output_type": "display_data"
    }
   ],
   "source": [
    "# extract the values in the 'tags' coumn, particularly the last item in the list. This tells if the event was successful or not\n",
    "match_event_i= match_event.withColumn(\"is_accurate\", F.element_at(\"tags\",-1)['id'])"
   ]
  },
  {
   "cell_type": "code",
   "execution_count": 39,
   "metadata": {
    "editable": true
   },
   "outputs": [
    {
     "data": {
      "application/vnd.jupyter.widget-view+json": {
       "model_id": "8376263fe53540c3b0b1417845603700",
       "version_major": 2,
       "version_minor": 0
      },
      "text/plain": [
       "VBox()"
      ]
     },
     "metadata": {},
     "output_type": "display_data"
    },
    {
     "data": {
      "application/vnd.jupyter.widget-view+json": {
       "model_id": "",
       "version_major": 2,
       "version_minor": 0
      },
      "text/plain": [
       "FloatProgress(value=0.0, bar_style='info', description='Progress:', layout=Layout(height='25px', width='50%'),…"
      ]
     },
     "metadata": {},
     "output_type": "display_data"
    },
    {
     "name": "stdout",
     "output_type": "stream",
     "text": [
      "+------+-------+--------+-----------+---------+--------------+--------+------------------+-------+-------+-----+-----+------+-----------+\n",
      "|teamId|matchId|playerId|matchPeriod|eventName|        action|    tags|          eventSec|x_begin|y_begin|x_end|y_end|    id|is_accurate|\n",
      "+------+-------+--------+-----------+---------+--------------+--------+------------------+-------+-------+-----+-----+------+-----------+\n",
      "|  3162|2575986|   21350|         2H|     Foul|          Foul|[[1703]]|        2834.33133|     48|     56|   46|   54| 45292|       1703|\n",
      "|  3194|2575995|   26373|         2H|     Foul|          Foul|[[1703]]|1202.9590959999996|     39|     32|   41|   32| 60150|       1703|\n",
      "|  3176|2576005|   69400|         2H|     Foul|          Foul|[[1703]]|1129.9798920000003|      3|     73|    3|   73| 77343|       1703|\n",
      "|  3173|2576009|   22732|         2H|     Foul|          Foul|[[1703]]|2227.2724559999997|     43|     35|   49|   13| 84429|       1703|\n",
      "|  3185|2576014|   21507|         1H|     Foul|          Foul|[[1703]]|       1420.218983|     65|      8|   69|   19| 91950|       1703|\n",
      "|  3315|2576017|   22162|         2H|     Foul|          Foul|[[1703]]|2048.7454049999997|     71|     67|   67|   61| 97907|       1703|\n",
      "|  3157|2576024|   15524|         2H|     Foul|          Foul|[[1703]]|       2059.250258|     61|      7|   61|    9|109832|       1703|\n",
      "|  3194|2576027|   86309|         2H|     Foul|          Foul|[[1703]]|3111.4675530000004|     63|     50|   63|   57|115242|       1703|\n",
      "|  3164|2576028|   20816|         1H|     Foul|          Foul|[[1703]]|       2361.559464|     57|     51|   53|   51|115969|       1703|\n",
      "|  3166|2576039|  125286|         2H|     Foul|          Foul|[[1703]]|       2083.808032|     11|     19|   10|   17|135566|       1703|\n",
      "|  3194|2576041|   86309|         1H|     Foul|          Foul|[[1703]]|       2341.432367|     47|     30|   44|   32|138274|       1703|\n",
      "|  3159|2576048|   14943|         1H|     Foul|       Protest|[[1703]]|       1526.380372|     95|     46| null| null|149727|       1703|\n",
      "|  3219|2576079|   24838|         2H|     Foul|          Foul|[[1703]]|1272.1726159999998|     32|     46|   32|   47|203575|       1703|\n",
      "|  3204|2576086|   93341|         2H|     Foul|          Foul|[[1703]]|2749.6426570000003|     29|     74|   28|   76|216308|       1703|\n",
      "|  3166|2576090|   92908|         1H|     Foul|          Foul|[[1703]]|       2797.628576|     21|     36|   22|   37|222317|       1703|\n",
      "|  3194|2576097|   25878|         2H|     Foul|Time lost foul|[[1703]]|1255.1125570000004|     30|     36|  100|  100|234865|       1703|\n",
      "|  3157|2576099|  146588|         2H|     Foul|          Foul|[[1703]]|1763.0202879999997|     37|     34|   35|   31|238465|       1703|\n",
      "|  3166|2576130|   20529|         2H|     Foul|          Foul|[[1703]]|2105.2699679999996|     61|     73|   69|   79|291840|       1703|\n",
      "|  3187|2576135|   22107|         2H|     Foul|          Foul|[[1703]]|       1859.378936|     31|      9|   28|    9|300210|       1703|\n",
      "|  3173|2576139|  402898|         2H|     Foul|          Foul|[[1703]]|2977.5473039999997|     48|      6|   46|    8|307219|       1703|\n",
      "+------+-------+--------+-----------+---------+--------------+--------+------------------+-------+-------+-----+-----+------+-----------+\n",
      "only showing top 20 rows"
     ]
    }
   ],
   "source": [
    "match_event_i.filter(match_event_i.is_accurate == 1703).show()"
   ]
  },
  {
   "cell_type": "code",
   "execution_count": 40,
   "metadata": {
    "editable": true
   },
   "outputs": [
    {
     "data": {
      "application/vnd.jupyter.widget-view+json": {
       "model_id": "8f0a154468d7443f847aee2fdde5f90b",
       "version_major": 2,
       "version_minor": 0
      },
      "text/plain": [
       "VBox()"
      ]
     },
     "metadata": {},
     "output_type": "display_data"
    },
    {
     "data": {
      "application/vnd.jupyter.widget-view+json": {
       "model_id": "",
       "version_major": 2,
       "version_minor": 0
      },
      "text/plain": [
       "FloatProgress(value=0.0, bar_style='info', description='Progress:', layout=Layout(height='25px', width='50%'),…"
      ]
     },
     "metadata": {},
     "output_type": "display_data"
    }
   ],
   "source": [
    "# From the tags. Extract the second to the last item in the list\n",
    "match_event_r = match_event_i.withColumn(\"modifier\", F.element_at(\"tags\",-2)['id'])\n",
    "#F.col(\"modifier\")"
   ]
  },
  {
   "cell_type": "code",
   "execution_count": 41,
   "metadata": {
    "editable": true
   },
   "outputs": [
    {
     "data": {
      "application/vnd.jupyter.widget-view+json": {
       "model_id": "f3c4f3fa9c1e41f3911665672c0bd2a3",
       "version_major": 2,
       "version_minor": 0
      },
      "text/plain": [
       "VBox()"
      ]
     },
     "metadata": {},
     "output_type": "display_data"
    },
    {
     "data": {
      "application/vnd.jupyter.widget-view+json": {
       "model_id": "",
       "version_major": 2,
       "version_minor": 0
      },
      "text/plain": [
       "FloatProgress(value=0.0, bar_style='info', description='Progress:', layout=Layout(height='25px', width='50%'),…"
      ]
     },
     "metadata": {},
     "output_type": "display_data"
    },
    {
     "name": "stdout",
     "output_type": "stream",
     "text": [
      "+------+-------+--------+-----------+------------------+--------------------+--------------------+------------------+-------+-------+-----+-----+---+-----------+---------+\n",
      "|teamId|matchId|playerId|matchPeriod|         eventName|              action|                tags|          eventSec|x_begin|y_begin|x_end|y_end| id|is_accurate|modifier2|\n",
      "+------+-------+--------+-----------+------------------+--------------------+--------------------+------------------+-------+-------+-----+-----+---+-----------+---------+\n",
      "|  3158|2575959|    8327|         1H|              Pass|         Simple pass|            [[1801]]|2.5305359999999837|     49|     52|   43|   44|  0|       1801|     null|\n",
      "|  3158|2575959|   20438|         1H|              Pass|         Simple pass|            [[1801]]| 3.768417999999997|     43|     44|   36|   17|  1|       1801|     null|\n",
      "|  3158|2575959|    8306|         1H|Others on the ball|               Touch|                  []| 4.868265000000008|     36|     17|   78|   56|  2|       null|     null|\n",
      "|  3158|2575959|    8306|         1H|              Duel|Ground attacking ...|[[504], [703], [1...| 8.114675999999974|     78|     56|   64|   15|  3|       1801|      703|\n",
      "|  3158|2575959|    8306|         1H|              Duel|Ground attacking ...|[[503], [703], [1...| 8.647892000000013|     64|     15|   72|   15|  4|       1801|      703|\n",
      "|  3158|2575959|    8306|         1H|              Pass|         Simple pass|            [[1801]]| 10.37606599999998|     72|     15|   72|   25|  5|       1801|     null|\n",
      "|  3158|2575959|    8327|         1H|              Duel|Ground attacking ...|[[602], [703], [1...|10.796797000000026|     72|     25|   82|   64|  6|       1801|      703|\n",
      "|  3172|2575959|   86366|         1H|              Duel|Ground defending ...|[[504], [701], [1...|11.527556000000004|     36|     85|   28|   75|  7|       1802|      701|\n",
      "|  3172|2575959|   20404|         1H|              Duel|Ground defending ...|[[601], [701], [1...|12.156579000000022|     28|     75|   18|   36|  8|       1802|      701|\n",
      "|  3158|2575959|    8327|         1H|              Duel|Ground attacking ...|     [[701], [1802]]|12.418937000000028|     82|     64|   62|   18|  9|       1802|      701|\n",
      "|  3172|2575959|   86366|         1H|              Pass|         Simple pass|            [[1801]]| 16.24056300000001|     38|     82|   43|   88| 10|       1801|     null|\n",
      "|  3172|2575959|  246175|         1H|Others on the ball|               Touch|                  []| 17.25151299999999|     43|     88|   39|   88| 11|       null|     null|\n",
      "|  3158|2575959|    8306|         1H|              Duel|Ground loose ball...|     [[703], [1801]]| 17.71542199999999|     61|     12|   61|   15| 12|       1801|      703|\n",
      "|  3172|2575959|  246175|         1H|              Duel|Ground loose ball...|     [[701], [1802]]|17.791969999999992|     39|     88|   39|   85| 13|       1802|      701|\n",
      "|  3158|2575959|    8306|         1H|              Pass|         Simple pass|            [[1801]]|19.153234999999995|     61|     15|   37|   15| 14|       1801|     null|\n",
      "|  3158|2575959|   20518|         1H|              Pass|         Simple pass|            [[1801]]| 20.87302599999998|     37|     15|   41|   30| 15|       1801|     null|\n",
      "|  3158|2575959|   20438|         1H|              Pass|         Simple pass|            [[1801]]| 21.50383499999998|     41|     30|   34|   16| 16|       1801|     null|\n",
      "|  3158|2575959|   20518|         1H|              Pass|         Simple pass|            [[1801]]| 23.20110299999999|     34|     16|   51|   10| 17|       1801|     null|\n",
      "|  3158|2575959|    8306|         1H|              Duel|Ground attacking ...|[[503], [703], [1...|26.751844000000006|     51|     10|   65|   13| 18|       1801|      703|\n",
      "|  3172|2575959|   20404|         1H|              Duel|Ground defending ...|[[504], [701], [1...| 26.75254000000001|     49|     90|   35|   87| 19|       1802|      701|\n",
      "+------+-------+--------+-----------+------------------+--------------------+--------------------+------------------+-------+-------+-----+-----+---+-----------+---------+\n",
      "only showing top 20 rows"
     ]
    }
   ],
   "source": [
    "# create an event modifier column fromt the tags column as well. That is the second item in the list\n",
    "match_event_q = match_event_r.withColumn('is_accurate2', F.when((F.col(\"is_accurate\") == 1801) | (F.col(\"is_accurate\") == 1802), \"null\").otherwise(F.col(\"is_accurate\")))\n",
    "match_event_p =match_event_q.withColumn('modifier2', F.when((F.col(\"modifier\") != \"null\") | (F.col(\"is_accurate2\") == \"null\"), (F.col(\"modifier\"))).otherwise(F.col(\"is_accurate2\"))).drop(\"modifier\", \"is_accurate2\")\n",
    "match_event_p.show()\n",
    "#k = r.withColumn('is_accurate_main', F.when((F.col(\"is_accurate\") == 1801) | (F.col(\"is_accurate\") == 1802), True).otherwise(F.col(\"is_accurate\"))).show()"
   ]
  },
  {
   "cell_type": "code",
   "execution_count": 42,
   "metadata": {
    "editable": true
   },
   "outputs": [
    {
     "data": {
      "application/vnd.jupyter.widget-view+json": {
       "model_id": "34164aadc4c243bea46dc11018cd6353",
       "version_major": 2,
       "version_minor": 0
      },
      "text/plain": [
       "VBox()"
      ]
     },
     "metadata": {},
     "output_type": "display_data"
    },
    {
     "data": {
      "application/vnd.jupyter.widget-view+json": {
       "model_id": "",
       "version_major": 2,
       "version_minor": 0
      },
      "text/plain": [
       "FloatProgress(value=0.0, bar_style='info', description='Progress:', layout=Layout(height='25px', width='50%'),…"
      ]
     },
     "metadata": {},
     "output_type": "display_data"
    },
    {
     "name": "stdout",
     "output_type": "stream",
     "text": [
      "+----------+----+\n",
      "|is_success| tag|\n",
      "+----------+----+\n",
      "|      true|1801|\n",
      "|     false|1802|\n",
      "+----------+----+\n",
      "\n",
      "/usr/lib/spark/python/lib/pyspark.zip/pyspark/sql/session.py:346: UserWarning: inferring schema from dict is deprecated,please use pyspark.sql.Row instead"
     ]
    }
   ],
   "source": [
    "# map for the tags column\n",
    "d = [{'tag': 1801, 'is_success': True}, {'tag': 1802, 'is_success': False}]\n",
    "pmap = spark.createDataFrame(d)\n",
    "\n",
    "pmap.show()"
   ]
  },
  {
   "cell_type": "code",
   "execution_count": 43,
   "metadata": {
    "editable": true
   },
   "outputs": [
    {
     "data": {
      "application/vnd.jupyter.widget-view+json": {
       "model_id": "c142a3c1e4ad4a33833c5257246a9396",
       "version_major": 2,
       "version_minor": 0
      },
      "text/plain": [
       "VBox()"
      ]
     },
     "metadata": {},
     "output_type": "display_data"
    },
    {
     "data": {
      "application/vnd.jupyter.widget-view+json": {
       "model_id": "",
       "version_major": 2,
       "version_minor": 0
      },
      "text/plain": [
       "FloatProgress(value=0.0, bar_style='info', description='Progress:', layout=Layout(height='25px', width='50%'),…"
      ]
     },
     "metadata": {},
     "output_type": "display_data"
    },
    {
     "name": "stdout",
     "output_type": "stream",
     "text": [
      "+------+-------+--------+-----------+------------------+------+---------------+------------------+-------+-------+-----+-----+----+-----------+---------+----------+\n",
      "|teamId|matchId|playerId|matchPeriod|         eventName|action|           tags|          eventSec|x_begin|y_begin|x_end|y_end|  id|is_accurate|modifier2|is_success|\n",
      "+------+-------+--------+-----------+------------------+------+---------------+------------------+-------+-------+-----+-----+----+-----------+---------+----------+\n",
      "|  3158|2575959|   44251|         1H|Others on the ball| Touch|       [[1302]]|       2120.966719|      9|     63|    9|   67| 615|       1302|     1302|      null|\n",
      "|  3158|2575959|     114|         1H|Others on the ball| Touch|       [[1302]]|       2293.872734|     73|     39|   70|   44| 686|       1302|     1302|      null|\n",
      "|  3158|2575959|   20438|         1H|Others on the ball| Touch|       [[1302]]|       2662.060646|     66|      8|   57|   13| 782|       1302|     1302|      null|\n",
      "|  3172|2575959|   41034|         2H|Others on the ball| Touch|       [[1302]]|1246.9014109999998|      9|     66|   22|   21|1183|       1302|     1302|      null|\n",
      "|  3158|2575959|     114|         2H|Others on the ball| Touch|       [[1302]]|       1247.361828|     85|     49|   78|   79|1184|       1302|     1302|      null|\n",
      "|  3172|2575959|   21077|         2H|Others on the ball| Touch|       [[1302]]|       2203.006547|     74|     35|   87|   41|1409|       1302|     1302|      null|\n",
      "|  3166|2575960|   20796|         1H|Others on the ball| Touch|       [[1302]]| 697.3501960000001|     71|     68|   71|   48|1819|       1302|     1302|      null|\n",
      "|  3185|2575960|  339791|         1H|Others on the ball| Touch|       [[1302]]|       1062.563707|     60|     12|   62|   21|1946|       1302|     1302|      null|\n",
      "|  3185|2575960|   25558|         1H|Others on the ball| Touch|[[201], [1302]]|       2218.316738|     97|     61|  100|   76|2267|       1302|     1302|      null|\n",
      "|  3166|2575960|   21123|         1H|Others on the ball| Touch|       [[1302]]|       2502.576764|     79|     88|   80|  100|2348|       1302|     1302|      null|\n",
      "|  3185|2575960|   20941|         2H|Others on the ball| Touch|       [[1302]]| 260.3013719999999|     76|     14|   80|    0|2462|       1302|     1302|      null|\n",
      "|  3166|2575960|   20796|         2H|Others on the ball| Touch|       [[1302]]| 318.1381540000002|     63|     64|   84|   70|2487|       1302|     1302|      null|\n",
      "|  3166|2575960|  232822|         2H|Others on the ball| Touch|       [[1302]]| 335.2066279999999|     43|      9|   23|   10|2494|       1302|     1302|      null|\n",
      "|  3166|2575960|   20796|         2H|Others on the ball| Touch|       [[1302]]|        388.142116|     92|     71|   95|    8|2512|       1302|     1302|      null|\n",
      "|  3166|2575960|   90268|         2H|Others on the ball| Touch|       [[1302]]| 857.8509780000004|     26|     58|   26|   71|2685|       1302|     1302|      null|\n",
      "|  3185|2575960|   20941|         2H|Others on the ball| Touch|       [[1302]]|2035.2748339999998|     71|     13|   74|   24|2976|       1302|     1302|      null|\n",
      "|  3166|2575960|  259292|         2H|Others on the ball| Touch|       [[1302]]|2598.0103200000003|     72|     67|   66|   70|3085|       1302|     1302|      null|\n",
      "|  3197|2575961|   21528|         1H|Others on the ball| Touch|       [[1302]]|126.48292800000002|     18|     64|   15|   61|3200|       1302|     1302|      null|\n",
      "|  3197|2575961|   22185|         1H|Others on the ball| Touch|       [[1302]]| 908.2655540000001|     10|     49|   11|   31|3359|       1302|     1302|      null|\n",
      "|  3157|2575961|   20459|         2H|Others on the ball| Touch|       [[1302]]|       2220.049846|     33|     58|   33|   56|4473|       1302|     1302|      null|\n",
      "+------+-------+--------+-----------+------------------+------+---------------+------------------+-------+-------+-----+-----+----+-----------+---------+----------+\n",
      "only showing top 20 rows"
     ]
    }
   ],
   "source": [
    "# map \"is_accurate\" column value to boolean in a new column 'is_success'\n",
    "match_event_tbl = match_event_p.join(pmap, match_event_p.is_accurate == pmap.tag, \"full\").drop(\"tag\")\n",
    "match_event_tbl.show()"
   ]
  },
  {
   "cell_type": "code",
   "execution_count": 107,
   "metadata": {},
   "outputs": [
    {
     "data": {
      "application/vnd.jupyter.widget-view+json": {
       "model_id": "b93140ad582d490b8324064c6db6a47b",
       "version_major": 2,
       "version_minor": 0
      },
      "text/plain": [
       "VBox()"
      ]
     },
     "metadata": {},
     "output_type": "display_data"
    },
    {
     "data": {
      "application/vnd.jupyter.widget-view+json": {
       "model_id": "",
       "version_major": 2,
       "version_minor": 0
      },
      "text/plain": [
       "FloatProgress(value=0.0, bar_style='info', description='Progress:', layout=Layout(height='25px', width='50%'),…"
      ]
     },
     "metadata": {},
     "output_type": "display_data"
    },
    {
     "name": "stdout",
     "output_type": "stream",
     "text": [
      "+------+-------+--------+-----------+---------+------+----+--------+-------+-------+-----+-----+---+-----------+---------+----------+\n",
      "|teamId|matchId|playerId|matchPeriod|eventName|action|tags|eventSec|x_begin|y_begin|x_end|y_end| id|is_accurate|modifier2|is_success|\n",
      "+------+-------+--------+-----------+---------+------+----+--------+-------+-------+-----+-----+---+-----------+---------+----------+\n",
      "+------+-------+--------+-----------+---------+------+----+--------+-------+-------+-----+-----+---+-----------+---------+----------+"
     ]
    }
   ],
   "source": [
    "match_event_tbl.filter(match_event_tbl.is_success == \"\" ).show()"
   ]
  },
  {
   "cell_type": "code",
   "execution_count": 44,
   "metadata": {
    "editable": true
   },
   "outputs": [
    {
     "data": {
      "application/vnd.jupyter.widget-view+json": {
       "model_id": "4e85c9d4a52e445184d55eb48ae9b6f7",
       "version_major": 2,
       "version_minor": 0
      },
      "text/plain": [
       "VBox()"
      ]
     },
     "metadata": {},
     "output_type": "display_data"
    },
    {
     "data": {
      "application/vnd.jupyter.widget-view+json": {
       "model_id": "",
       "version_major": 2,
       "version_minor": 0
      },
      "text/plain": [
       "FloatProgress(value=0.0, bar_style='info', description='Progress:', layout=Layout(height='25px', width='50%'),…"
      ]
     },
     "metadata": {},
     "output_type": "display_data"
    },
    {
     "name": "stdout",
     "output_type": "stream",
     "text": [
      "+------+-------+--------+-----------+---------+--------------------+--------------------+------------------+-------+-------+-----+-----+---+-----------+---------+----------+\n",
      "|teamId|matchId|playerId|matchPeriod|eventName|              action|                tags|          eventSec|x_begin|y_begin|x_end|y_end| id|is_accurate|modifier2|is_success|\n",
      "+------+-------+--------+-----------+---------+--------------------+--------------------+------------------+-------+-------+-----+-----+---+-----------+---------+----------+\n",
      "|  3158|2575959|    8327|         1H|     Pass|         Simple pass|            [[1801]]|2.5305359999999837|     49|     52|   43|   44|  0|       1801|     null|      true|\n",
      "|  3158|2575959|   20438|         1H|     Pass|         Simple pass|            [[1801]]| 3.768417999999997|     43|     44|   36|   17|  1|       1801|     null|      true|\n",
      "|  3158|2575959|    8306|         1H|     Duel|Ground attacking ...|[[504], [703], [1...| 8.114675999999974|     78|     56|   64|   15|  3|       1801|      703|      true|\n",
      "+------+-------+--------+-----------+---------+--------------------+--------------------+------------------+-------+-------+-----+-----+---+-----------+---------+----------+\n",
      "only showing top 3 rows"
     ]
    }
   ],
   "source": [
    "match_event_tbl.where(match_event_tbl.is_success == True).show(3)"
   ]
  },
  {
   "cell_type": "code",
   "execution_count": 45,
   "metadata": {
    "editable": true
   },
   "outputs": [
    {
     "data": {
      "application/vnd.jupyter.widget-view+json": {
       "model_id": "84b70e48edcb47409996496623afe7f7",
       "version_major": 2,
       "version_minor": 0
      },
      "text/plain": [
       "VBox()"
      ]
     },
     "metadata": {},
     "output_type": "display_data"
    },
    {
     "data": {
      "application/vnd.jupyter.widget-view+json": {
       "model_id": "",
       "version_major": 2,
       "version_minor": 0
      },
      "text/plain": [
       "FloatProgress(value=0.0, bar_style='info', description='Progress:', layout=Layout(height='25px', width='50%'),…"
      ]
     },
     "metadata": {},
     "output_type": "display_data"
    }
   ],
   "source": [
    "#import match_modifier\n",
    "match_modifier = spark.read.csv(\"s3://football-club-data/tags2name.csv\", header=True)"
   ]
  },
  {
   "cell_type": "code",
   "execution_count": 46,
   "metadata": {
    "editable": true
   },
   "outputs": [
    {
     "data": {
      "application/vnd.jupyter.widget-view+json": {
       "model_id": "c3867a4704ec4cb0abc9d230a0bba4e1",
       "version_major": 2,
       "version_minor": 0
      },
      "text/plain": [
       "VBox()"
      ]
     },
     "metadata": {},
     "output_type": "display_data"
    },
    {
     "data": {
      "application/vnd.jupyter.widget-view+json": {
       "model_id": "",
       "version_major": 2,
       "version_minor": 0
      },
      "text/plain": [
       "FloatProgress(value=0.0, bar_style='info', description='Progress:', layout=Layout(height='25px', width='50%'),…"
      ]
     },
     "metadata": {},
     "output_type": "display_data"
    }
   ],
   "source": [
    "match_modifier = match_modifier.select('Tag', col('Label').alias('modifier'), 'Description')"
   ]
  },
  {
   "cell_type": "code",
   "execution_count": 47,
   "metadata": {
    "editable": true
   },
   "outputs": [
    {
     "data": {
      "application/vnd.jupyter.widget-view+json": {
       "model_id": "126383df4df94a5e8c1769bfcaa57461",
       "version_major": 2,
       "version_minor": 0
      },
      "text/plain": [
       "VBox()"
      ]
     },
     "metadata": {},
     "output_type": "display_data"
    },
    {
     "data": {
      "application/vnd.jupyter.widget-view+json": {
       "model_id": "",
       "version_major": 2,
       "version_minor": 0
      },
      "text/plain": [
       "FloatProgress(value=0.0, bar_style='info', description='Progress:', layout=Layout(height='25px', width='50%'),…"
      ]
     },
     "metadata": {},
     "output_type": "display_data"
    },
    {
     "name": "stdout",
     "output_type": "stream",
     "text": [
      "+-------+------------------+------------------+------------------+-----------+---------+-------+------------------+------------------+------------------+-----------------+------------------+-----------------+------------------+-----------------+\n",
      "|summary|            teamId|           matchId|          playerId|matchPeriod|eventName| action|          eventSec|           x_begin|           y_begin|            x_end|             y_end|               id|       is_accurate|        modifier2|\n",
      "+-------+------------------+------------------+------------------+-----------+---------+-------+------------------+------------------+------------------+-----------------+------------------+-----------------+------------------+-----------------+\n",
      "|  count|           3071395|           3071395|           3071395|    3071395|  3071395|3071395|           3071395|           3071395|           3071395|          3070686|           3070686|          3071395|           2769843|          1211528|\n",
      "|   mean| 2602.694679779058|  2532524.05771384| 84180.77726440266|       null|     null|   null| 1393.141393581917|48.768957102554374|49.984593971143404|52.21930050809493|  50.1213533392864|        1535697.0|1789.4081184384818|877.0995280340198|\n",
      "| stddev|2215.5535913675812|33126.656192493276|116478.87767158549|       null|     null|   null| 834.6144220588659|25.263611107784815|30.908765908162923|26.64388969334142|31.769114324547743|886635.5093563783|  71.4261794414083|344.9080381084532|\n",
      "|    min|               674|           2499719|                 0|         1H|     Duel|       |               0.0|                -1|                 0|                0|                 0|                0|               102|             1001|\n",
      "|    max|             19830|           2576338|            568583|         2H|     Shot|Whistle|3537.3560610000004|               100|               101|              100|               101|          3071394|              2001|              901|\n",
      "+-------+------------------+------------------+------------------+-----------+---------+-------+------------------+------------------+------------------+-----------------+------------------+-----------------+------------------+-----------------+"
     ]
    }
   ],
   "source": [
    "match_event_tbl.describe().show()"
   ]
  },
  {
   "cell_type": "code",
   "execution_count": 48,
   "metadata": {
    "editable": true
   },
   "outputs": [
    {
     "data": {
      "application/vnd.jupyter.widget-view+json": {
       "model_id": "08de807a08e94391adc0b4f7b66ad0d1",
       "version_major": 2,
       "version_minor": 0
      },
      "text/plain": [
       "VBox()"
      ]
     },
     "metadata": {},
     "output_type": "display_data"
    },
    {
     "data": {
      "application/vnd.jupyter.widget-view+json": {
       "model_id": "",
       "version_major": 2,
       "version_minor": 0
      },
      "text/plain": [
       "FloatProgress(value=0.0, bar_style='info', description='Progress:', layout=Layout(height='25px', width='50%'),…"
      ]
     },
     "metadata": {},
     "output_type": "display_data"
    }
   ],
   "source": [
    "match_event_data = match_event_tbl.join(match_modifier, match_event_tbl.modifier2 == match_modifier.Tag, \"left_outer\" ).drop('Description', 'Tag', 'is_accurate', 'modifier2', 'tags' )"
   ]
  },
  {
   "cell_type": "code",
   "execution_count": 49,
   "metadata": {
    "editable": true
   },
   "outputs": [
    {
     "data": {
      "application/vnd.jupyter.widget-view+json": {
       "model_id": "59ac36ce2d0c4f899d4efd9d1dd33d20",
       "version_major": 2,
       "version_minor": 0
      },
      "text/plain": [
       "VBox()"
      ]
     },
     "metadata": {},
     "output_type": "display_data"
    },
    {
     "data": {
      "application/vnd.jupyter.widget-view+json": {
       "model_id": "",
       "version_major": 2,
       "version_minor": 0
      },
      "text/plain": [
       "FloatProgress(value=0.0, bar_style='info', description='Progress:', layout=Layout(height='25px', width='50%'),…"
      ]
     },
     "metadata": {},
     "output_type": "display_data"
    },
    {
     "name": "stdout",
     "output_type": "stream",
     "text": [
      "+------+-------+--------+-----------+---------+------+--------+-------+-------+-----+-----+---+----------+--------+\n",
      "|teamId|matchId|playerId|matchPeriod|eventName|action|eventSec|x_begin|y_begin|x_end|y_end| id|is_success|modifier|\n",
      "+------+-------+--------+-----------+---------+------+--------+-------+-------+-----+-----+---+----------+--------+\n",
      "|     0|      0|       0|          0|        0|     0|       0|      0|      0|  709|  709|  0|    387537| 1859867|\n",
      "+------+-------+--------+-----------+---------+------+--------+-------+-------+-----+-----+---+----------+--------+"
     ]
    }
   ],
   "source": [
    "#null data\n",
    "# match_event_data.where(F.isnull(F.col(\"is_success\"))).count()\n",
    "\n",
    "# check null values in column\n",
    "#df.select([count(when(isnan(c), c)).alias(c) for c in df.columns]).show()\n",
    "match_event_data.select([F.count(F.when(F.isnull(i), i)).alias(i) for i in match_event_data.columns]).show()"
   ]
  },
  {
   "cell_type": "code",
   "execution_count": 50,
   "metadata": {
    "editable": true
   },
   "outputs": [
    {
     "data": {
      "application/vnd.jupyter.widget-view+json": {
       "model_id": "b5b3d679ffeb45e3bb7f1fb1c64e4a6c",
       "version_major": 2,
       "version_minor": 0
      },
      "text/plain": [
       "VBox()"
      ]
     },
     "metadata": {},
     "output_type": "display_data"
    },
    {
     "data": {
      "application/vnd.jupyter.widget-view+json": {
       "model_id": "",
       "version_major": 2,
       "version_minor": 0
      },
      "text/plain": [
       "FloatProgress(value=0.0, bar_style='info', description='Progress:', layout=Layout(height='25px', width='50%'),…"
      ]
     },
     "metadata": {},
     "output_type": "display_data"
    },
    {
     "name": "stdout",
     "output_type": "stream",
     "text": [
      "+------+-------+--------+-----------+------------------+------+------------------+-------+-------+-----+-----+----+----------+-----------+\n",
      "|teamId|matchId|playerId|matchPeriod|         eventName|action|          eventSec|x_begin|y_begin|x_end|y_end|  id|is_success|   modifier|\n",
      "+------+-------+--------+-----------+------------------+------+------------------+-------+-------+-----+-----+----+----------+-----------+\n",
      "|  3158|2575959|   44251|         1H|Others on the ball| Touch|       2120.966719|      9|     63|    9|   67| 615|      null|missed ball|\n",
      "|  3158|2575959|     114|         1H|Others on the ball| Touch|       2293.872734|     73|     39|   70|   44| 686|      null|missed ball|\n",
      "|  3158|2575959|   20438|         1H|Others on the ball| Touch|       2662.060646|     66|      8|   57|   13| 782|      null|missed ball|\n",
      "|  3172|2575959|   41034|         2H|Others on the ball| Touch|1246.9014109999998|      9|     66|   22|   21|1183|      null|missed ball|\n",
      "|  3158|2575959|     114|         2H|Others on the ball| Touch|       1247.361828|     85|     49|   78|   79|1184|      null|missed ball|\n",
      "|  3172|2575959|   21077|         2H|Others on the ball| Touch|       2203.006547|     74|     35|   87|   41|1409|      null|missed ball|\n",
      "|  3166|2575960|   20796|         1H|Others on the ball| Touch| 697.3501960000001|     71|     68|   71|   48|1819|      null|missed ball|\n",
      "|  3185|2575960|  339791|         1H|Others on the ball| Touch|       1062.563707|     60|     12|   62|   21|1946|      null|missed ball|\n",
      "|  3185|2575960|   25558|         1H|Others on the ball| Touch|       2218.316738|     97|     61|  100|   76|2267|      null|missed ball|\n",
      "|  3166|2575960|   21123|         1H|Others on the ball| Touch|       2502.576764|     79|     88|   80|  100|2348|      null|missed ball|\n",
      "|  3185|2575960|   20941|         2H|Others on the ball| Touch| 260.3013719999999|     76|     14|   80|    0|2462|      null|missed ball|\n",
      "|  3166|2575960|   20796|         2H|Others on the ball| Touch| 318.1381540000002|     63|     64|   84|   70|2487|      null|missed ball|\n",
      "|  3166|2575960|  232822|         2H|Others on the ball| Touch| 335.2066279999999|     43|      9|   23|   10|2494|      null|missed ball|\n",
      "|  3166|2575960|   20796|         2H|Others on the ball| Touch|        388.142116|     92|     71|   95|    8|2512|      null|missed ball|\n",
      "|  3166|2575960|   90268|         2H|Others on the ball| Touch| 857.8509780000004|     26|     58|   26|   71|2685|      null|missed ball|\n",
      "|  3185|2575960|   20941|         2H|Others on the ball| Touch|2035.2748339999998|     71|     13|   74|   24|2976|      null|missed ball|\n",
      "|  3166|2575960|  259292|         2H|Others on the ball| Touch|2598.0103200000003|     72|     67|   66|   70|3085|      null|missed ball|\n",
      "|  3197|2575961|   21528|         1H|Others on the ball| Touch|126.48292800000002|     18|     64|   15|   61|3200|      null|missed ball|\n",
      "|  3197|2575961|   22185|         1H|Others on the ball| Touch| 908.2655540000001|     10|     49|   11|   31|3359|      null|missed ball|\n",
      "|  3157|2575961|   20459|         2H|Others on the ball| Touch|       2220.049846|     33|     58|   33|   56|4473|      null|missed ball|\n",
      "+------+-------+--------+-----------+------------------+------+------------------+-------+-------+-----+-----+----+----------+-----------+\n",
      "only showing top 20 rows"
     ]
    }
   ],
   "source": [
    "match_event_data.show()"
   ]
  },
  {
   "cell_type": "code",
   "execution_count": 51,
   "metadata": {
    "editable": true
   },
   "outputs": [
    {
     "data": {
      "application/vnd.jupyter.widget-view+json": {
       "model_id": "887fd0b329ac49f8a9535de9dbdbc938",
       "version_major": 2,
       "version_minor": 0
      },
      "text/plain": [
       "VBox()"
      ]
     },
     "metadata": {},
     "output_type": "display_data"
    },
    {
     "data": {
      "application/vnd.jupyter.widget-view+json": {
       "model_id": "",
       "version_major": 2,
       "version_minor": 0
      },
      "text/plain": [
       "FloatProgress(value=0.0, bar_style='info', description='Progress:', layout=Layout(height='25px', width='50%'),…"
      ]
     },
     "metadata": {},
     "output_type": "display_data"
    },
    {
     "name": "stdout",
     "output_type": "stream",
     "text": [
      "+----------+------+\n",
      "|players_id|  wyId|\n",
      "+----------+------+\n",
      "|         0| 32777|\n",
      "|         1|393228|\n",
      "|         2|393230|\n",
      "|         3| 32793|\n",
      "|         4|393247|\n",
      "+----------+------+\n",
      "only showing top 5 rows"
     ]
    }
   ],
   "source": [
    "player_map.show(5)"
   ]
  },
  {
   "cell_type": "code",
   "execution_count": 52,
   "metadata": {
    "editable": true
   },
   "outputs": [
    {
     "data": {
      "application/vnd.jupyter.widget-view+json": {
       "model_id": "d1b70079b8514eab851f70a8ad9ee710",
       "version_major": 2,
       "version_minor": 0
      },
      "text/plain": [
       "VBox()"
      ]
     },
     "metadata": {},
     "output_type": "display_data"
    },
    {
     "data": {
      "application/vnd.jupyter.widget-view+json": {
       "model_id": "",
       "version_major": 2,
       "version_minor": 0
      },
      "text/plain": [
       "FloatProgress(value=0.0, bar_style='info', description='Progress:', layout=Layout(height='25px', width='50%'),…"
      ]
     },
     "metadata": {},
     "output_type": "display_data"
    },
    {
     "name": "stdout",
     "output_type": "stream",
     "text": [
      "+------+-------+-----------+------------------+------+------------------+-------+-------+-----+-----+----+----------+-----------+----------+\n",
      "|teamId|matchId|matchPeriod|         eventName|action|          eventSec|x_begin|y_begin|x_end|y_end|  id|is_success|   modifier|players_id|\n",
      "+------+-------+-----------+------------------+------+------------------+-------+-------+-----+-----+----+----------+-----------+----------+\n",
      "|  3158|2575959|         1H|Others on the ball| Touch|       2120.966719|      9|     63|    9|   67| 615|      null|missed ball|       852|\n",
      "|  3158|2575959|         1H|Others on the ball| Touch|       2293.872734|     73|     39|   70|   44| 686|      null|missed ball|        20|\n",
      "|  3158|2575959|         1H|Others on the ball| Touch|       2662.060646|     66|      8|   57|   13| 782|      null|missed ball|      1481|\n",
      "|  3172|2575959|         2H|Others on the ball| Touch|1246.9014109999998|      9|     66|   22|   21|1183|      null|missed ball|       711|\n",
      "|  3158|2575959|         2H|Others on the ball| Touch|       1247.361828|     85|     49|   78|   79|1184|      null|missed ball|        20|\n",
      "|  3172|2575959|         2H|Others on the ball| Touch|       2203.006547|     74|     35|   87|   41|1409|      null|missed ball|      1617|\n",
      "|  3166|2575960|         1H|Others on the ball| Touch| 697.3501960000001|     71|     68|   71|   48|1819|      null|missed ball|      1572|\n",
      "|  3185|2575960|         1H|Others on the ball| Touch|       1062.563707|     60|     12|   62|   21|1946|      null|missed ball|       872|\n",
      "|  3185|2575960|         1H|Others on the ball| Touch|       2218.316738|     97|     61|  100|   76|2267|      null|missed ball|      1942|\n",
      "|  3166|2575960|         1H|Others on the ball| Touch|       2502.576764|     79|     88|   80|  100|2348|      null|missed ball|      1625|\n",
      "|  3185|2575960|         2H|Others on the ball| Touch| 260.3013719999999|     76|     14|   80|    0|2462|      null|missed ball|      1603|\n",
      "|  3166|2575960|         2H|Others on the ball| Touch| 318.1381540000002|     63|     64|   84|   70|2487|      null|missed ball|      1572|\n",
      "|  3166|2575960|         2H|Others on the ball| Touch| 335.2066279999999|     43|      9|   23|   10|2494|      null|missed ball|       889|\n",
      "|  3166|2575960|         2H|Others on the ball| Touch|        388.142116|     92|     71|   95|    8|2512|      null|missed ball|      1572|\n",
      "|  3166|2575960|         2H|Others on the ball| Touch| 857.8509780000004|     26|     58|   26|   71|2685|      null|missed ball|      1857|\n",
      "|  3185|2575960|         2H|Others on the ball| Touch|2035.2748339999998|     71|     13|   74|   24|2976|      null|missed ball|      1603|\n",
      "|  3166|2575960|         2H|Others on the ball| Touch|2598.0103200000003|     72|     67|   66|   70|3085|      null|missed ball|      2229|\n",
      "|  3197|2575961|         1H|Others on the ball| Touch|126.48292800000002|     18|     64|   15|   61|3200|      null|missed ball|      1683|\n",
      "|  3197|2575961|         1H|Others on the ball| Touch| 908.2655540000001|     10|     49|   11|   31|3359|      null|missed ball|      1733|\n",
      "|  3157|2575961|         2H|Others on the ball| Touch|       2220.049846|     33|     58|   33|   56|4473|      null|missed ball|      1491|\n",
      "+------+-------+-----------+------------------+------+------------------+-------+-------+-----+-----+----+----------+-----------+----------+\n",
      "only showing top 20 rows"
     ]
    }
   ],
   "source": [
    "# get map file for match_event to player_id\n",
    "match_event_data_1 = match_event_data.join(player_map, match_event_data.playerId == player_map.wyId).drop('playerId', 'wyId')\n",
    "match_event_data_1.show()"
   ]
  },
  {
   "cell_type": "code",
   "execution_count": 53,
   "metadata": {
    "editable": true
   },
   "outputs": [
    {
     "data": {
      "application/vnd.jupyter.widget-view+json": {
       "model_id": "e338a87017834b9da557fdac26a67df1",
       "version_major": 2,
       "version_minor": 0
      },
      "text/plain": [
       "VBox()"
      ]
     },
     "metadata": {},
     "output_type": "display_data"
    },
    {
     "data": {
      "application/vnd.jupyter.widget-view+json": {
       "model_id": "",
       "version_major": 2,
       "version_minor": 0
      },
      "text/plain": [
       "FloatProgress(value=0.0, bar_style='info', description='Progress:', layout=Layout(height='25px', width='50%'),…"
      ]
     },
     "metadata": {},
     "output_type": "display_data"
    },
    {
     "name": "stdout",
     "output_type": "stream",
     "text": [
      "+----+-------+\n",
      "|wyId|club_id|\n",
      "+----+-------+\n",
      "|1613|      0|\n",
      "| 692|      1|\n",
      "| 691|      2|\n",
      "+----+-------+\n",
      "only showing top 3 rows"
     ]
    }
   ],
   "source": [
    "club_map.show(3)"
   ]
  },
  {
   "cell_type": "code",
   "execution_count": 54,
   "metadata": {
    "editable": true
   },
   "outputs": [
    {
     "data": {
      "application/vnd.jupyter.widget-view+json": {
       "model_id": "271fe525331f4fea889f078365b4c843",
       "version_major": 2,
       "version_minor": 0
      },
      "text/plain": [
       "VBox()"
      ]
     },
     "metadata": {},
     "output_type": "display_data"
    },
    {
     "data": {
      "application/vnd.jupyter.widget-view+json": {
       "model_id": "",
       "version_major": 2,
       "version_minor": 0
      },
      "text/plain": [
       "FloatProgress(value=0.0, bar_style='info', description='Progress:', layout=Layout(height='25px', width='50%'),…"
      ]
     },
     "metadata": {},
     "output_type": "display_data"
    },
    {
     "name": "stdout",
     "output_type": "stream",
     "text": [
      "+-------+-----------+------------------+------+------------------+-------+-------+-----+-----+----+----------+-----------+----------+-------+\n",
      "|matchId|matchPeriod|         eventName|action|          eventSec|x_begin|y_begin|x_end|y_end|  id|is_success|   modifier|players_id|club_id|\n",
      "+-------+-----------+------------------+------+------------------+-------+-------+-----+-----+----+----------+-----------+----------+-------+\n",
      "|2575959|         1H|Others on the ball| Touch|       2120.966719|      9|     63|    9|   67| 615|      null|missed ball|       852|     37|\n",
      "|2575959|         1H|Others on the ball| Touch|       2293.872734|     73|     39|   70|   44| 686|      null|missed ball|        20|     37|\n",
      "|2575959|         1H|Others on the ball| Touch|       2662.060646|     66|      8|   57|   13| 782|      null|missed ball|      1481|     37|\n",
      "|2575959|         2H|Others on the ball| Touch|1246.9014109999998|      9|     66|   22|   21|1183|      null|missed ball|       711|     63|\n",
      "|2575959|         2H|Others on the ball| Touch|       1247.361828|     85|     49|   78|   79|1184|      null|missed ball|        20|     37|\n",
      "|2575959|         2H|Others on the ball| Touch|       2203.006547|     74|     35|   87|   41|1409|      null|missed ball|      1617|     63|\n",
      "|2575960|         1H|Others on the ball| Touch| 697.3501960000001|     71|     68|   71|   48|1819|      null|missed ball|      1572|     47|\n",
      "|2575960|         1H|Others on the ball| Touch|       1062.563707|     60|     12|   62|   21|1946|      null|missed ball|       872|     80|\n",
      "|2575960|         1H|Others on the ball| Touch|       2218.316738|     97|     61|  100|   76|2267|      null|missed ball|      1942|     80|\n",
      "|2575960|         1H|Others on the ball| Touch|       2502.576764|     79|     88|   80|  100|2348|      null|missed ball|      1625|     47|\n",
      "|2575960|         2H|Others on the ball| Touch| 260.3013719999999|     76|     14|   80|    0|2462|      null|missed ball|      1603|     80|\n",
      "|2575960|         2H|Others on the ball| Touch| 318.1381540000002|     63|     64|   84|   70|2487|      null|missed ball|      1572|     47|\n",
      "|2575960|         2H|Others on the ball| Touch| 335.2066279999999|     43|      9|   23|   10|2494|      null|missed ball|       889|     47|\n",
      "|2575960|         2H|Others on the ball| Touch|        388.142116|     92|     71|   95|    8|2512|      null|missed ball|      1572|     47|\n",
      "|2575960|         2H|Others on the ball| Touch| 857.8509780000004|     26|     58|   26|   71|2685|      null|missed ball|      1857|     47|\n",
      "|2575960|         2H|Others on the ball| Touch|2035.2748339999998|     71|     13|   74|   24|2976|      null|missed ball|      1603|     80|\n",
      "|2575960|         2H|Others on the ball| Touch|2598.0103200000003|     72|     67|   66|   70|3085|      null|missed ball|      2229|     47|\n",
      "|2575961|         1H|Others on the ball| Touch|126.48292800000002|     18|     64|   15|   61|3200|      null|missed ball|      1683|     90|\n",
      "|2575961|         1H|Others on the ball| Touch| 908.2655540000001|     10|     49|   11|   31|3359|      null|missed ball|      1733|     90|\n",
      "|2575961|         2H|Others on the ball| Touch|       2220.049846|     33|     58|   33|   56|4473|      null|missed ball|      1491|     34|\n",
      "+-------+-----------+------------------+------+------------------+-------+-------+-----+-----+----+----------+-----------+----------+-------+\n",
      "only showing top 20 rows"
     ]
    }
   ],
   "source": [
    "# get map file for match_event to club_id\n",
    "match_event_data_2 = match_event_data_1.join(club_map, match_event_data_1.teamId == club_map.wyId).drop('teamId', 'wyId')\n",
    "match_event_data_2.show()"
   ]
  },
  {
   "cell_type": "code",
   "execution_count": 55,
   "metadata": {
    "editable": true
   },
   "outputs": [
    {
     "data": {
      "application/vnd.jupyter.widget-view+json": {
       "model_id": "972b4b3feb4a4ce39e0191027b19c6cc",
       "version_major": 2,
       "version_minor": 0
      },
      "text/plain": [
       "VBox()"
      ]
     },
     "metadata": {},
     "output_type": "display_data"
    },
    {
     "data": {
      "application/vnd.jupyter.widget-view+json": {
       "model_id": "",
       "version_major": 2,
       "version_minor": 0
      },
      "text/plain": [
       "FloatProgress(value=0.0, bar_style='info', description='Progress:', layout=Layout(height='25px', width='50%'),…"
      ]
     },
     "metadata": {},
     "output_type": "display_data"
    },
    {
     "name": "stdout",
     "output_type": "stream",
     "text": [
      "+-------+--------+\n",
      "|   wyId|match_id|\n",
      "+-------+--------+\n",
      "|2576335|       0|\n",
      "|2576336|       1|\n",
      "|2576329|       2|\n",
      "|2576330|       3|\n",
      "|2576331|       4|\n",
      "|2576332|       5|\n",
      "|2576333|       6|\n",
      "|2576337|       7|\n",
      "|2576338|       8|\n",
      "|2576334|       9|\n",
      "|2576322|      10|\n",
      "|2576325|      11|\n",
      "|2576324|      12|\n",
      "|2576319|      13|\n",
      "|2576320|      14|\n",
      "|2576323|      15|\n",
      "|2576327|      16|\n",
      "|2576328|      17|\n",
      "|2576326|      18|\n",
      "|2576321|      19|\n",
      "+-------+--------+\n",
      "only showing top 20 rows"
     ]
    }
   ],
   "source": [
    "matches_tbl_map.show()"
   ]
  },
  {
   "cell_type": "code",
   "execution_count": 56,
   "metadata": {
    "editable": true
   },
   "outputs": [
    {
     "data": {
      "application/vnd.jupyter.widget-view+json": {
       "model_id": "adcd636fcf824cc4a0d946085a326cee",
       "version_major": 2,
       "version_minor": 0
      },
      "text/plain": [
       "VBox()"
      ]
     },
     "metadata": {},
     "output_type": "display_data"
    },
    {
     "data": {
      "application/vnd.jupyter.widget-view+json": {
       "model_id": "",
       "version_major": 2,
       "version_minor": 0
      },
      "text/plain": [
       "FloatProgress(value=0.0, bar_style='info', description='Progress:', layout=Layout(height='25px', width='50%'),…"
      ]
     },
     "metadata": {},
     "output_type": "display_data"
    },
    {
     "name": "stdout",
     "output_type": "stream",
     "text": [
      "+-----------+------------------+------+------------------+-------+-------+-----+-----+----+----------+-----------+----------+-------+--------+\n",
      "|matchPeriod|         eventName|action|          eventSec|x_begin|y_begin|x_end|y_end|  id|is_success|   modifier|players_id|club_id|match_id|\n",
      "+-----------+------------------+------+------------------+-------+-------+-----+-----+----+----------+-----------+----------+-------+--------+\n",
      "|         1H|Others on the ball| Touch|       2120.966719|      9|     63|    9|   67| 615|      null|missed ball|       852|     37|     377|\n",
      "|         1H|Others on the ball| Touch|       2293.872734|     73|     39|   70|   44| 686|      null|missed ball|        20|     37|     377|\n",
      "|         1H|Others on the ball| Touch|       2662.060646|     66|      8|   57|   13| 782|      null|missed ball|      1481|     37|     377|\n",
      "|         2H|Others on the ball| Touch|1246.9014109999998|      9|     66|   22|   21|1183|      null|missed ball|       711|     63|     377|\n",
      "|         2H|Others on the ball| Touch|       1247.361828|     85|     49|   78|   79|1184|      null|missed ball|        20|     37|     377|\n",
      "|         2H|Others on the ball| Touch|       2203.006547|     74|     35|   87|   41|1409|      null|missed ball|      1617|     63|     377|\n",
      "|         1H|Others on the ball| Touch| 697.3501960000001|     71|     68|   71|   48|1819|      null|missed ball|      1572|     47|     370|\n",
      "|         1H|Others on the ball| Touch|       1062.563707|     60|     12|   62|   21|1946|      null|missed ball|       872|     80|     370|\n",
      "|         1H|Others on the ball| Touch|       2218.316738|     97|     61|  100|   76|2267|      null|missed ball|      1942|     80|     370|\n",
      "|         1H|Others on the ball| Touch|       2502.576764|     79|     88|   80|  100|2348|      null|missed ball|      1625|     47|     370|\n",
      "|         2H|Others on the ball| Touch| 260.3013719999999|     76|     14|   80|    0|2462|      null|missed ball|      1603|     80|     370|\n",
      "|         2H|Others on the ball| Touch| 318.1381540000002|     63|     64|   84|   70|2487|      null|missed ball|      1572|     47|     370|\n",
      "|         2H|Others on the ball| Touch| 335.2066279999999|     43|      9|   23|   10|2494|      null|missed ball|       889|     47|     370|\n",
      "|         2H|Others on the ball| Touch|        388.142116|     92|     71|   95|    8|2512|      null|missed ball|      1572|     47|     370|\n",
      "|         2H|Others on the ball| Touch| 857.8509780000004|     26|     58|   26|   71|2685|      null|missed ball|      1857|     47|     370|\n",
      "|         2H|Others on the ball| Touch|2035.2748339999998|     71|     13|   74|   24|2976|      null|missed ball|      1603|     80|     370|\n",
      "|         2H|Others on the ball| Touch|2598.0103200000003|     72|     67|   66|   70|3085|      null|missed ball|      2229|     47|     370|\n",
      "|         1H|Others on the ball| Touch|126.48292800000002|     18|     64|   15|   61|3200|      null|missed ball|      1683|     90|     371|\n",
      "|         1H|Others on the ball| Touch| 908.2655540000001|     10|     49|   11|   31|3359|      null|missed ball|      1733|     90|     371|\n",
      "|         2H|Others on the ball| Touch|       2220.049846|     33|     58|   33|   56|4473|      null|missed ball|      1491|     34|     371|\n",
      "+-----------+------------------+------+------------------+-------+-------+-----+-----+----+----------+-----------+----------+-------+--------+\n",
      "only showing top 20 rows"
     ]
    }
   ],
   "source": [
    "# get map file for match_event to match_id\n",
    "match_event_data_3 = match_event_data_2.join(matches_tbl_map, match_event_data_2.matchId == matches_tbl_map.wyId).drop('matchId', 'wyId')\n",
    "match_event_data_3.show()"
   ]
  },
  {
   "cell_type": "code",
   "execution_count": 57,
   "metadata": {
    "editable": true
   },
   "outputs": [
    {
     "data": {
      "application/vnd.jupyter.widget-view+json": {
       "model_id": "879c37b10b7842ac957f65c5c5e17959",
       "version_major": 2,
       "version_minor": 0
      },
      "text/plain": [
       "VBox()"
      ]
     },
     "metadata": {},
     "output_type": "display_data"
    },
    {
     "data": {
      "application/vnd.jupyter.widget-view+json": {
       "model_id": "",
       "version_major": 2,
       "version_minor": 0
      },
      "text/plain": [
       "FloatProgress(value=0.0, bar_style='info', description='Progress:', layout=Layout(height='25px', width='50%'),…"
      ]
     },
     "metadata": {},
     "output_type": "display_data"
    },
    {
     "name": "stdout",
     "output_type": "stream",
     "text": [
      "0"
     ]
    }
   ],
   "source": [
    "match_event_data_3.where(F.isnull(col('action'))).count()"
   ]
  },
  {
   "cell_type": "code",
   "execution_count": 58,
   "metadata": {
    "editable": true
   },
   "outputs": [
    {
     "data": {
      "application/vnd.jupyter.widget-view+json": {
       "model_id": "275e4d8b2ce14e5c9fb628306c776c2b",
       "version_major": 2,
       "version_minor": 0
      },
      "text/plain": [
       "VBox()"
      ]
     },
     "metadata": {},
     "output_type": "display_data"
    },
    {
     "data": {
      "application/vnd.jupyter.widget-view+json": {
       "model_id": "",
       "version_major": 2,
       "version_minor": 0
      },
      "text/plain": [
       "FloatProgress(value=0.0, bar_style='info', description='Progress:', layout=Layout(height='25px', width='50%'),…"
      ]
     },
     "metadata": {},
     "output_type": "display_data"
    },
    {
     "name": "stdout",
     "output_type": "stream",
     "text": [
      "+-----------+---------+------+--------+-------+-------+-----+-----+---+----------+--------+----------+-------+--------+\n",
      "|matchPeriod|eventName|action|eventSec|x_begin|y_begin|x_end|y_end| id|is_success|modifier|players_id|club_id|match_id|\n",
      "+-----------+---------+------+--------+-------+-------+-----+-----+---+----------+--------+----------+-------+--------+\n",
      "|          0|        0|     0|       0|      0|      0|  709|  709|  0|    256651| 1716812|         0|      0|       0|\n",
      "+-----------+---------+------+--------+-------+-------+-----+-----+---+----------+--------+----------+-------+--------+"
     ]
    }
   ],
   "source": [
    "# check null in column\n",
    "match_event_data_3.select([F.count(F.when(F.isnull(i), i)).alias(i) for i in match_event_data_3.columns]).show()"
   ]
  },
  {
   "cell_type": "code",
   "execution_count": 59,
   "metadata": {},
   "outputs": [
    {
     "data": {
      "application/vnd.jupyter.widget-view+json": {
       "model_id": "b56983febff743e09348f08387c51fb6",
       "version_major": 2,
       "version_minor": 0
      },
      "text/plain": [
       "VBox()"
      ]
     },
     "metadata": {},
     "output_type": "display_data"
    },
    {
     "data": {
      "application/vnd.jupyter.widget-view+json": {
       "model_id": "",
       "version_major": 2,
       "version_minor": 0
      },
      "text/plain": [
       "FloatProgress(value=0.0, bar_style='info', description='Progress:', layout=Layout(height='25px', width='50%'),…"
      ]
     },
     "metadata": {},
     "output_type": "display_data"
    },
    {
     "name": "stdout",
     "output_type": "stream",
     "text": [
      "+-------+-----------+---------+-------+------------------+-----------------+------------------+------------------+-----------------+------------------+-----------+------------------+-----------------+-----------------+\n",
      "|summary|matchPeriod|eventName| action|          eventSec|          x_begin|           y_begin|             x_end|            y_end|                id|   modifier|        players_id|          club_id|         match_id|\n",
      "+-------+-----------+---------+-------+------------------+-----------------+------------------+------------------+-----------------+------------------+-----------+------------------+-----------------+-----------------+\n",
      "|  count|    2845357|  2845357|2845357|           2845357|          2845357|           2845357|           2844648|          2844648|           2845357|    1128545|           2845357|          2845357|          2845357|\n",
      "|   mean|       null|     null|   null|1391.8949547102893|48.87398488133475|49.976945247995246|52.001459583048586|49.69098602006294|1535134.0718588212|       null|1462.5080554039441|48.81533037857815|912.3847714012688|\n",
      "| stddev|       null|     null|   null| 834.3107182781654|24.64473550407547| 30.31677926945805|25.091539500520184|30.70878319857597| 887128.7093196845|       null|   932.53981269812|28.33913066765453|529.3773331288781|\n",
      "|    min|         1H|     Duel|       |               0.0|               -1|                 0|                 0|                0|                 0|      Feint|                 1|                0|                0|\n",
      "|    max|         2H|     Shot|Whistle|3537.3560610000004|              100|               101|               100|              101|           3071394|yellow_card|              3517|               97|             1825|\n",
      "+-------+-----------+---------+-------+------------------+-----------------+------------------+------------------+-----------------+------------------+-----------+------------------+-----------------+-----------------+"
     ]
    }
   ],
   "source": [
    "match_event_data_3.describe().show()"
   ]
  },
  {
   "cell_type": "code",
   "execution_count": 60,
   "metadata": {},
   "outputs": [
    {
     "data": {
      "application/vnd.jupyter.widget-view+json": {
       "model_id": "e84b028338e84bfc898a0c4dd4b3b42a",
       "version_major": 2,
       "version_minor": 0
      },
      "text/plain": [
       "VBox()"
      ]
     },
     "metadata": {},
     "output_type": "display_data"
    },
    {
     "data": {
      "application/vnd.jupyter.widget-view+json": {
       "model_id": "",
       "version_major": 2,
       "version_minor": 0
      },
      "text/plain": [
       "FloatProgress(value=0.0, bar_style='info', description='Progress:', layout=Layout(height='25px', width='50%'),…"
      ]
     },
     "metadata": {},
     "output_type": "display_data"
    },
    {
     "name": "stdout",
     "output_type": "stream",
     "text": [
      "DataFrame[]"
     ]
    }
   ],
   "source": [
    "match_event_data_3.select()"
   ]
  },
  {
   "cell_type": "code",
   "execution_count": 61,
   "metadata": {
    "editable": true
   },
   "outputs": [
    {
     "data": {
      "application/vnd.jupyter.widget-view+json": {
       "model_id": "1150ce7d8ba349e2bf2448c939d1133e",
       "version_major": 2,
       "version_minor": 0
      },
      "text/plain": [
       "VBox()"
      ]
     },
     "metadata": {},
     "output_type": "display_data"
    },
    {
     "data": {
      "application/vnd.jupyter.widget-view+json": {
       "model_id": "",
       "version_major": 2,
       "version_minor": 0
      },
      "text/plain": [
       "FloatProgress(value=0.0, bar_style='info', description='Progress:', layout=Layout(height='25px', width='50%'),…"
      ]
     },
     "metadata": {},
     "output_type": "display_data"
    }
   ],
   "source": [
    "#write match_event to parquet file\n",
    "#match_event_data_3.write.parquet(\"s3://football-club-data/match_event_data\")"
   ]
  },
  {
   "cell_type": "code",
   "execution_count": 62,
   "metadata": {},
   "outputs": [
    {
     "data": {
      "application/vnd.jupyter.widget-view+json": {
       "model_id": "245311f421084d1ab7e229420c8434f6",
       "version_major": 2,
       "version_minor": 0
      },
      "text/plain": [
       "VBox()"
      ]
     },
     "metadata": {},
     "output_type": "display_data"
    },
    {
     "data": {
      "application/vnd.jupyter.widget-view+json": {
       "model_id": "",
       "version_major": 2,
       "version_minor": 0
      },
      "text/plain": [
       "FloatProgress(value=0.0, bar_style='info', description='Progress:', layout=Layout(height='25px', width='50%'),…"
      ]
     },
     "metadata": {},
     "output_type": "display_data"
    },
    {
     "name": "stdout",
     "output_type": "stream",
     "text": [
      "DataFrame[matchPeriod: string, eventName: string, action: string, eventSec: double, x_begin: bigint, y_begin: bigint, x_end: bigint, y_end: bigint, id: int, is_success: boolean, modifier: string, players_id: int, club_id: bigint, match_id: int]"
     ]
    }
   ],
   "source": [
    "match_event_data_3"
   ]
  },
  {
   "cell_type": "code",
   "execution_count": 104,
   "metadata": {},
   "outputs": [
    {
     "data": {
      "application/vnd.jupyter.widget-view+json": {
       "model_id": "198e327db23245edae17a87f366a0ea0",
       "version_major": 2,
       "version_minor": 0
      },
      "text/plain": [
       "VBox()"
      ]
     },
     "metadata": {},
     "output_type": "display_data"
    },
    {
     "data": {
      "application/vnd.jupyter.widget-view+json": {
       "model_id": "",
       "version_major": 2,
       "version_minor": 0
      },
      "text/plain": [
       "FloatProgress(value=0.0, bar_style='info', description='Progress:', layout=Layout(height='25px', width='50%'),…"
      ]
     },
     "metadata": {},
     "output_type": "display_data"
    }
   ],
   "source": [
    "match_events_data_3=match_event_data_3.select(\"id\", \"club_id\", \"match_id\", \"players_id\", \"matchPeriod\",\"eventSec\", \"eventName\", \"action\", \"modifier\",\"x_begin\", \"y_begin\", \"x_end\", \"y_end\", \"is_success\")"
   ]
  },
  {
   "cell_type": "code",
   "execution_count": 108,
   "metadata": {},
   "outputs": [
    {
     "data": {
      "application/vnd.jupyter.widget-view+json": {
       "model_id": "5445dbc1a5aa4a769c19d4c048d7992b",
       "version_major": 2,
       "version_minor": 0
      },
      "text/plain": [
       "VBox()"
      ]
     },
     "metadata": {},
     "output_type": "display_data"
    },
    {
     "data": {
      "application/vnd.jupyter.widget-view+json": {
       "model_id": "",
       "version_major": 2,
       "version_minor": 0
      },
      "text/plain": [
       "FloatProgress(value=0.0, bar_style='info', description='Progress:', layout=Layout(height='25px', width='50%'),…"
      ]
     },
     "metadata": {},
     "output_type": "display_data"
    },
    {
     "name": "stdout",
     "output_type": "stream",
     "text": [
      "+---+-------+--------+----------+-----------+-----------+------------------+------+-----------+-------+-------+-----+-----+----------+\n",
      "| id|club_id|match_id|players_id|matchPeriod|   eventSec|         eventName|action|   modifier|x_begin|y_begin|x_end|y_end|is_success|\n",
      "+---+-------+--------+----------+-----------+-----------+------------------+------+-----------+-------+-------+-----+-----+----------+\n",
      "|615|     37|     377|       852|         1H|2120.966719|Others on the ball| Touch|missed ball|      9|     63|    9|   67|      null|\n",
      "+---+-------+--------+----------+-----------+-----------+------------------+------+-----------+-------+-------+-----+-----+----------+"
     ]
    }
   ],
   "source": [
    "match_events_data_3.filter(match_events_data_3.id == 615).show()"
   ]
  },
  {
   "cell_type": "code",
   "execution_count": 111,
   "metadata": {},
   "outputs": [
    {
     "data": {
      "application/vnd.jupyter.widget-view+json": {
       "model_id": "20caa5faa5344895b399f044c97c1650",
       "version_major": 2,
       "version_minor": 0
      },
      "text/plain": [
       "VBox()"
      ]
     },
     "metadata": {},
     "output_type": "display_data"
    },
    {
     "data": {
      "application/vnd.jupyter.widget-view+json": {
       "model_id": "",
       "version_major": 2,
       "version_minor": 0
      },
      "text/plain": [
       "FloatProgress(value=0.0, bar_style='info', description='Progress:', layout=Layout(height='25px', width='50%'),…"
      ]
     },
     "metadata": {},
     "output_type": "display_data"
    },
    {
     "name": "stdout",
     "output_type": "stream",
     "text": [
      "root\n",
      " |-- is_success: boolean (nullable = true)"
     ]
    }
   ],
   "source": [
    "match_events_data_3[['is_success']].printSchema()"
   ]
  },
  {
   "cell_type": "code",
   "execution_count": 112,
   "metadata": {},
   "outputs": [
    {
     "data": {
      "application/vnd.jupyter.widget-view+json": {
       "model_id": "a3d9de5f3c874f5bba15034ab37384dd",
       "version_major": 2,
       "version_minor": 0
      },
      "text/plain": [
       "VBox()"
      ]
     },
     "metadata": {},
     "output_type": "display_data"
    },
    {
     "data": {
      "application/vnd.jupyter.widget-view+json": {
       "model_id": "",
       "version_major": 2,
       "version_minor": 0
      },
      "text/plain": [
       "FloatProgress(value=0.0, bar_style='info', description='Progress:', layout=Layout(height='25px', width='50%'),…"
      ]
     },
     "metadata": {},
     "output_type": "display_data"
    }
   ],
   "source": [
    "match_events_data_3.write.csv(\"s3://football-club-data/match_events_data\", header=True,emptyValue='')"
   ]
  },
  {
   "cell_type": "markdown",
   "metadata": {
    "editable": true
   },
   "source": [
    "## ------------------------------------------------"
   ]
  },
  {
   "cell_type": "code",
   "execution_count": 67,
   "metadata": {
    "editable": true
   },
   "outputs": [
    {
     "data": {
      "application/vnd.jupyter.widget-view+json": {
       "model_id": "e5c37bb465c74a2fb0a979279e46abf0",
       "version_major": 2,
       "version_minor": 0
      },
      "text/plain": [
       "VBox()"
      ]
     },
     "metadata": {},
     "output_type": "display_data"
    },
    {
     "data": {
      "application/vnd.jupyter.widget-view+json": {
       "model_id": "",
       "version_major": 2,
       "version_minor": 0
      },
      "text/plain": [
       "FloatProgress(value=0.0, bar_style='info', description='Progress:', layout=Layout(height='25px', width='50%'),…"
      ]
     },
     "metadata": {},
     "output_type": "display_data"
    },
    {
     "name": "stdout",
     "output_type": "stream",
     "text": [
      "+------+----------+\n",
      "|  wyId|referee_id|\n",
      "+------+----------+\n",
      "|378217|         0|\n",
      "|385011|         1|\n",
      "|385544|         2|\n",
      "|383894|         3|\n",
      "|385800|         4|\n",
      "|385015|         5|\n",
      "|395082|         6|\n",
      "|395056|         7|\n",
      "|380678|         8|\n",
      "|381835|         9|\n",
      "|385997|        10|\n",
      "|408156|        11|\n",
      "|382685|        12|\n",
      "|385514|        13|\n",
      "|385917|        14|\n",
      "|385495|        15|\n",
      "|384961|        16|\n",
      "|385794|        17|\n",
      "|518503|        18|\n",
      "|381853|        19|\n",
      "+------+----------+\n",
      "only showing top 20 rows"
     ]
    }
   ],
   "source": [
    "referee_map.show()"
   ]
  },
  {
   "cell_type": "code",
   "execution_count": 68,
   "metadata": {
    "editable": true
   },
   "outputs": [
    {
     "data": {
      "application/vnd.jupyter.widget-view+json": {
       "model_id": "79a2399d7cb54542960d1935bd9c67e3",
       "version_major": 2,
       "version_minor": 0
      },
      "text/plain": [
       "VBox()"
      ]
     },
     "metadata": {},
     "output_type": "display_data"
    },
    {
     "data": {
      "application/vnd.jupyter.widget-view+json": {
       "model_id": "",
       "version_major": 2,
       "version_minor": 0
      },
      "text/plain": [
       "FloatProgress(value=0.0, bar_style='info', description='Progress:', layout=Layout(height='25px', width='50%'),…"
      ]
     },
     "metadata": {},
     "output_type": "display_data"
    },
    {
     "name": "stdout",
     "output_type": "stream",
     "text": [
      "+-------------------+--------------------+--------------------+------+------+---------------+---------------+-----------------+-----------------+---+----------+\n",
      "|            dateutc|         competition|               venue|winner|season|      home_club|      away_club|goal_by_home_club|goal_by_away_club| id|referee_id|\n",
      "+-------------------+--------------------+--------------------+------+------+---------------+---------------+-----------------+-----------------+---+----------+\n",
      "|2018-05-20 18:45:00|Italian first div...|                    |  3161|  2018|         Lazio | Internazionale|               2 |                3|  0|       356|\n",
      "|2018-05-20 18:45:00|Italian first div...|MAPEI Stadium - C...|  3158|  2018|      Sassuolo |           Roma|               0 |                1|  1|       338|\n",
      "|2018-05-20 16:00:00|Italian first div...|                    |  3173|  2018|      Cagliari |       Atalanta|               1 |                0|  2|       389|\n",
      "|2018-05-20 16:00:00|Italian first div...|                    |  3165|  2018|        Chievo |      Benevento|               1 |                0|  3|       107|\n",
      "|2018-05-20 16:00:00|Italian first div...|                    |  3163|  2018|       Udinese |        Bologna|               1 |                0|  4|       381|\n",
      "|2018-05-20 16:00:00|Italian first div...|                    |  3187|  2018|        Napoli |        Crotone|               2 |                1|  5|       248|\n",
      "|2018-05-20 16:00:00|Italian first div...|                    |  3157|  2018|         Milan |     Fiorentina|               5 |                1|  6|       538|\n",
      "|2018-05-20 16:00:00|Italian first div...|                    |  3204|  2018|          SPAL |      Sampdoria|               3 |                1|  7|        72|\n",
      "|2018-05-20 13:00:00|Italian first div...|                    |  3185|  2018|         Genoa |         Torino|               1 |                2|  8|       256|\n",
      "|2018-05-19 13:00:00|Italian first div...|                    |  3159|  2018|      Juventus |  Hellas Verona|               2 |                1|  9|       603|\n",
      "|2018-05-13 18:45:00|Italian first div...|                    |     0|  2018|          Roma |       Juventus|               0 |                0| 10|       411|\n",
      "|2018-05-13 18:45:00|Italian first div...|                    |  3187|  2018|     Sampdoria |         Napoli|               0 |                2| 11|       381|\n",
      "|2018-05-13 16:00:00|Italian first div...|                    |     0|  2018|      Atalanta |          Milan|               1 |                1| 12|       498|\n",
      "|2018-05-13 13:00:00|Italian first div...|                    |  3173|  2018|    Fiorentina |       Cagliari|               0 |                1| 13|       189|\n",
      "|2018-05-13 13:00:00|Italian first div...|                    |  3165|  2018|       Bologna |         Chievo|               1 |                2| 14|       575|\n",
      "|2018-05-13 13:00:00|Italian first div...|                    |     0|  2018|       Crotone |          Lazio|               2 |                2| 15|       594|\n",
      "|2018-05-13 13:00:00|Italian first div...|                    |  3185|  2018|        Torino |           SPAL|               2 |                1| 16|       360|\n",
      "|2018-05-13 13:00:00|Italian first div...|                    |  3163|  2018| Hellas Verona |        Udinese|               0 |                1| 17|       216|\n",
      "|2018-05-12 18:45:00|Italian first div...|                    |  3315|  2018|Internazionale |       Sassuolo|               1 |                2| 18|       142|\n",
      "|2018-05-12 16:00:00|Italian first div...|                    |  3219|  2018|     Benevento |          Genoa|               1 |                0| 19|       192|\n",
      "+-------------------+--------------------+--------------------+------+------+---------------+---------------+-----------------+-----------------+---+----------+\n",
      "only showing top 20 rows"
     ]
    }
   ],
   "source": [
    "# referee_mapp file for referee to match_id\n",
    "matches_tbl_1 = matches_tbl.join(referee_map, matches_tbl.refereeid == referee_map.wyId).drop('refereeid', 'wyId')\n",
    "matches_tbl_1.show()"
   ]
  },
  {
   "cell_type": "code",
   "execution_count": 69,
   "metadata": {
    "editable": true
   },
   "outputs": [
    {
     "data": {
      "application/vnd.jupyter.widget-view+json": {
       "model_id": "21f5a60537604b6f8933f86a7741dafb",
       "version_major": 2,
       "version_minor": 0
      },
      "text/plain": [
       "VBox()"
      ]
     },
     "metadata": {},
     "output_type": "display_data"
    },
    {
     "data": {
      "application/vnd.jupyter.widget-view+json": {
       "model_id": "",
       "version_major": 2,
       "version_minor": 0
      },
      "text/plain": [
       "FloatProgress(value=0.0, bar_style='info', description='Progress:', layout=Layout(height='25px', width='50%'),…"
      ]
     },
     "metadata": {},
     "output_type": "display_data"
    },
    {
     "name": "stdout",
     "output_type": "stream",
     "text": [
      "+-----+--------------------+--------------------+-------+---+\n",
      "| wyId|                name|        officialName|country| id|\n",
      "+-----+--------------------+--------------------+-------+---+\n",
      "| 1613|    Newcastle United| Newcastle United FC|England|  0|\n",
      "|  692|       Celta de Vigo|Real Club Celta d...|  Spain|  1|\n",
      "|  691|            Espanyol|Reial Club Deport...|  Spain|  2|\n",
      "|  696|Deportivo Alav\\u0...|Deportivo Alav\\u0...|  Spain|  3|\n",
      "|  695|             Levante|          Levante UD|  Spain|  4|\n",
      "| 3795|              Troyes|Esp\\u00e9rance Sp...| France|  5|\n",
      "|  698|              Getafe|Getafe Club de F\\...|  Spain|  6|\n",
      "| 2454| Borussia M'gladbach|Borussia VfL M\\u0...|Germany|  7|\n",
      "| 1673|   Huddersfield Town|Huddersfield Town FC|England|  8|\n",
      "|  678|       Athletic Club|Athletic Club Bilbao|  Spain|  9|\n",
      "|  679|Atl\\u00e9tico Madrid|Club Atl\\u00e9tic...|  Spain| 10|\n",
      "| 3766|  Olympique Lyonnais|  Olympique Lyonnais| France| 11|\n",
      "| 3767|                 PSG|Paris Saint-Germa...| France| 12|\n",
      "|  674|            Valencia|Valencia Club de ...|  Spain| 13|\n",
      "|  675|         Real Madrid|Real Madrid Club ...|  Spain| 14|\n",
      "|  676|           Barcelona|        FC Barcelona|  Spain| 15|\n",
      "|  714|          Las Palmas|       UD Las Palmas|  Spain| 16|\n",
      "|  712|        Legan\\u00e9s|     CD Legan\\u00e9s|  Spain| 17|\n",
      "| 3204|                SPAL|Societ\\u00e0 Poli...|  Italy| 18|\n",
      "|10531|        Swansea City|    Swansea City AFC|  Wales| 19|\n",
      "+-----+--------------------+--------------------+-------+---+\n",
      "only showing top 20 rows"
     ]
    }
   ],
   "source": [
    "clubs.show()"
   ]
  },
  {
   "cell_type": "code",
   "execution_count": 70,
   "metadata": {
    "editable": true
   },
   "outputs": [
    {
     "data": {
      "application/vnd.jupyter.widget-view+json": {
       "model_id": "c2c4b18f99534049993010cbd346e480",
       "version_major": 2,
       "version_minor": 0
      },
      "text/plain": [
       "VBox()"
      ]
     },
     "metadata": {},
     "output_type": "display_data"
    },
    {
     "data": {
      "application/vnd.jupyter.widget-view+json": {
       "model_id": "",
       "version_major": 2,
       "version_minor": 0
      },
      "text/plain": [
       "FloatProgress(value=0.0, bar_style='info', description='Progress:', layout=Layout(height='25px', width='50%'),…"
      ]
     },
     "metadata": {},
     "output_type": "display_data"
    },
    {
     "name": "stdout",
     "output_type": "stream",
     "text": [
      "+-------------------+--------------------+--------------------+------+---------------+---------------+-----------------+-----------------+---+----------+--------------+\n",
      "|            dateutc|         competition|               venue|season|      home_club|      away_club|goal_by_home_club|goal_by_away_club| id|referee_id|        winner|\n",
      "+-------------------+--------------------+--------------------+------+---------------+---------------+-----------------+-----------------+---+----------+--------------+\n",
      "|2018-05-20 18:45:00|Italian first div...|                    |  2018|         Lazio | Internazionale|               2 |                3|  0|       356|Internazionale|\n",
      "|2018-05-20 18:45:00|Italian first div...|MAPEI Stadium - C...|  2018|      Sassuolo |           Roma|               0 |                1|  1|       338|          Roma|\n",
      "|2018-05-20 16:00:00|Italian first div...|                    |  2018|      Cagliari |       Atalanta|               1 |                0|  2|       389|      Cagliari|\n",
      "|2018-05-20 16:00:00|Italian first div...|                    |  2018|        Chievo |      Benevento|               1 |                0|  3|       107|        Chievo|\n",
      "|2018-05-20 16:00:00|Italian first div...|                    |  2018|       Udinese |        Bologna|               1 |                0|  4|       381|       Udinese|\n",
      "|2018-05-20 16:00:00|Italian first div...|                    |  2018|        Napoli |        Crotone|               2 |                1|  5|       248|        Napoli|\n",
      "|2018-05-20 16:00:00|Italian first div...|                    |  2018|         Milan |     Fiorentina|               5 |                1|  6|       538|         Milan|\n",
      "|2018-05-20 16:00:00|Italian first div...|                    |  2018|          SPAL |      Sampdoria|               3 |                1|  7|        72|          SPAL|\n",
      "|2018-05-20 13:00:00|Italian first div...|                    |  2018|         Genoa |         Torino|               1 |                2|  8|       256|        Torino|\n",
      "|2018-05-19 13:00:00|Italian first div...|                    |  2018|      Juventus |  Hellas Verona|               2 |                1|  9|       603|      Juventus|\n",
      "|2018-05-13 18:45:00|Italian first div...|                    |  2018|     Sampdoria |         Napoli|               0 |                2| 11|       381|        Napoli|\n",
      "|2018-05-13 13:00:00|Italian first div...|                    |  2018|    Fiorentina |       Cagliari|               0 |                1| 13|       189|      Cagliari|\n",
      "|2018-05-13 13:00:00|Italian first div...|                    |  2018|       Bologna |         Chievo|               1 |                2| 14|       575|        Chievo|\n",
      "|2018-05-13 13:00:00|Italian first div...|                    |  2018|        Torino |           SPAL|               2 |                1| 16|       360|        Torino|\n",
      "|2018-05-13 13:00:00|Italian first div...|                    |  2018| Hellas Verona |        Udinese|               0 |                1| 17|       216|       Udinese|\n",
      "|2018-05-12 18:45:00|Italian first div...|                    |  2018|Internazionale |       Sassuolo|               1 |                2| 18|       142|      Sassuolo|\n",
      "|2018-05-12 16:00:00|Italian first div...|                    |  2018|     Benevento |          Genoa|               1 |                0| 19|       192|     Benevento|\n",
      "|2018-05-06 18:45:00|Italian first div...|                    |  2018|      Cagliari |           Roma|               0 |                1| 20|        72|          Roma|\n",
      "|2018-05-06 16:00:00|Italian first div...|                    |  2018|      Sassuolo |      Sampdoria|               1 |                0| 21|        83|      Sassuolo|\n",
      "|2018-05-06 13:00:00|Italian first div...|                    |  2018|          SPAL |      Benevento|               2 |                0| 23|       498|          SPAL|\n",
      "+-------------------+--------------------+--------------------+------+---------------+---------------+-----------------+-----------------+---+----------+--------------+\n",
      "only showing top 20 rows"
     ]
    }
   ],
   "source": [
    "matches_tbl_2 = matches_tbl_1.join(clubs, matches_tbl.winner == clubs.wyId).select('dateutc', 'competition', 'venue', 'season', 'home_club', 'away_club', 'goal_by_home_club', 'goal_by_away_club', matches_tbl_1.id,'referee_id', col('name').alias(\"winner\"))\n",
    "matches_tbl_2.show()"
   ]
  },
  {
   "cell_type": "code",
   "execution_count": 71,
   "metadata": {
    "editable": true
   },
   "outputs": [
    {
     "data": {
      "application/vnd.jupyter.widget-view+json": {
       "model_id": "b3f1696c916341b0a3ba6f828f0c654a",
       "version_major": 2,
       "version_minor": 0
      },
      "text/plain": [
       "VBox()"
      ]
     },
     "metadata": {},
     "output_type": "display_data"
    },
    {
     "data": {
      "application/vnd.jupyter.widget-view+json": {
       "model_id": "",
       "version_major": 2,
       "version_minor": 0
      },
      "text/plain": [
       "FloatProgress(value=0.0, bar_style='info', description='Progress:', layout=Layout(height='25px', width='50%'),…"
      ]
     },
     "metadata": {},
     "output_type": "display_data"
    },
    {
     "name": "stdout",
     "output_type": "stream",
     "text": [
      "DataFrame[dateutc: string, competition: string, venue: string, season: string, home_club: string, away_club: string, goal_by_home_club: string, goal_by_away_club: string, id: int, referee_id: int, winner: string]"
     ]
    }
   ],
   "source": [
    "matches_tbl_2"
   ]
  },
  {
   "cell_type": "code",
   "execution_count": 72,
   "metadata": {
    "editable": true
   },
   "outputs": [
    {
     "data": {
      "application/vnd.jupyter.widget-view+json": {
       "model_id": "067ac29dc7a1411dab3afc86be519241",
       "version_major": 2,
       "version_minor": 0
      },
      "text/plain": [
       "VBox()"
      ]
     },
     "metadata": {},
     "output_type": "display_data"
    },
    {
     "data": {
      "application/vnd.jupyter.widget-view+json": {
       "model_id": "",
       "version_major": 2,
       "version_minor": 0
      },
      "text/plain": [
       "FloatProgress(value=0.0, bar_style='info', description='Progress:', layout=Layout(height='25px', width='50%'),…"
      ]
     },
     "metadata": {},
     "output_type": "display_data"
    },
    {
     "name": "stdout",
     "output_type": "stream",
     "text": [
      "0"
     ]
    }
   ],
   "source": [
    "matches_tbl_2.where(F.isnull(col('home_club'))).count()"
   ]
  },
  {
   "cell_type": "code",
   "execution_count": 73,
   "metadata": {
    "editable": true
   },
   "outputs": [
    {
     "data": {
      "application/vnd.jupyter.widget-view+json": {
       "model_id": "98eae00038f1400281722b31e4e2f858",
       "version_major": 2,
       "version_minor": 0
      },
      "text/plain": [
       "VBox()"
      ]
     },
     "metadata": {},
     "output_type": "display_data"
    },
    {
     "data": {
      "application/vnd.jupyter.widget-view+json": {
       "model_id": "",
       "version_major": 2,
       "version_minor": 0
      },
      "text/plain": [
       "FloatProgress(value=0.0, bar_style='info', description='Progress:', layout=Layout(height='25px', width='50%'),…"
      ]
     },
     "metadata": {},
     "output_type": "display_data"
    },
    {
     "name": "stdout",
     "output_type": "stream",
     "text": [
      "+-------+-----------+-----+------+---------+---------+-----------------+-----------------+---+----------+------+\n",
      "|dateutc|competition|venue|season|home_club|away_club|goal_by_home_club|goal_by_away_club| id|referee_id|winner|\n",
      "+-------+-----------+-----+------+---------+---------+-----------------+-----------------+---+----------+------+\n",
      "|      0|          0|    0|     0|        0|        0|                0|                0|  0|         0|     0|\n",
      "+-------+-----------+-----+------+---------+---------+-----------------+-----------------+---+----------+------+"
     ]
    }
   ],
   "source": [
    "# checking null values\n",
    "matches_tbl_2.select([F.count(F.when(F.isnull(i), i)).alias(i) for i in matches_tbl_2.columns]).show()"
   ]
  },
  {
   "cell_type": "code",
   "execution_count": 74,
   "metadata": {},
   "outputs": [
    {
     "data": {
      "application/vnd.jupyter.widget-view+json": {
       "model_id": "535385b711bd487581763f708998fc4f",
       "version_major": 2,
       "version_minor": 0
      },
      "text/plain": [
       "VBox()"
      ]
     },
     "metadata": {},
     "output_type": "display_data"
    },
    {
     "data": {
      "application/vnd.jupyter.widget-view+json": {
       "model_id": "",
       "version_major": 2,
       "version_minor": 0
      },
      "text/plain": [
       "FloatProgress(value=0.0, bar_style='info', description='Progress:', layout=Layout(height='25px', width='50%'),…"
      ]
     },
     "metadata": {},
     "output_type": "display_data"
    },
    {
     "name": "stdout",
     "output_type": "stream",
     "text": [
      "+-------+-------------------+--------------------+------------+------------------+----------------+----------------+------------------+------------------+-----------------+------------------+---------------+\n",
      "|summary|            dateutc|         competition|       venue|            season|       home_club|       away_club| goal_by_home_club| goal_by_away_club|               id|        referee_id|         winner|\n",
      "+-------+-------------------+--------------------+------------+------------------+----------------+----------------+------------------+------------------+-----------------+------------------+---------------+\n",
      "|  count|               1340|                1340|        1340|              1340|            1340|            1340|              1340|              1340|             1340|              1340|           1340|\n",
      "|   mean|               null|                null|        null|2017.4955223880597|            null|            null| 1.708955223880597|1.2283582089552239|894.8305970149254|278.56641791044774|           null|\n",
      "| stddev|               null|                null|        null|0.5001666147551524|            null|            null|1.4248652144144256|1.2415877919033806| 527.322611952651| 177.0734903294401|           null|\n",
      "|    min|2017-08-04 18:45:00|English first div...|            |              2017|AFC Bournemouth | AFC Bournemouth|                0 |                 0|                0|                 2|AFC Bournemouth|\n",
      "|    max|2018-05-20 18:45:00|Spanish first div...|Weserstadion|              2018|      Wolfsburg |   \\u00c9tienne |                8 |                 6|             1825|               619|      Wolfsburg|\n",
      "+-------+-------------------+--------------------+------------+------------------+----------------+----------------+------------------+------------------+-----------------+------------------+---------------+"
     ]
    }
   ],
   "source": [
    "matches_tbl_2.describe().show()"
   ]
  },
  {
   "cell_type": "code",
   "execution_count": 75,
   "metadata": {},
   "outputs": [
    {
     "data": {
      "application/vnd.jupyter.widget-view+json": {
       "model_id": "35c04455f30a47babbeee1a90c661550",
       "version_major": 2,
       "version_minor": 0
      },
      "text/plain": [
       "VBox()"
      ]
     },
     "metadata": {},
     "output_type": "display_data"
    },
    {
     "data": {
      "application/vnd.jupyter.widget-view+json": {
       "model_id": "",
       "version_major": 2,
       "version_minor": 0
      },
      "text/plain": [
       "FloatProgress(value=0.0, bar_style='info', description='Progress:', layout=Layout(height='25px', width='50%'),…"
      ]
     },
     "metadata": {},
     "output_type": "display_data"
    },
    {
     "name": "stdout",
     "output_type": "stream",
     "text": [
      "DataFrame[dateutc: string, competition: string, venue: string, season: string, home_club: string, away_club: string, goal_by_home_club: string, goal_by_away_club: string, id: int, referee_id: int, winner: string]"
     ]
    }
   ],
   "source": [
    "matches_tbl_2"
   ]
  },
  {
   "cell_type": "code",
   "execution_count": 76,
   "metadata": {
    "editable": true
   },
   "outputs": [
    {
     "data": {
      "application/vnd.jupyter.widget-view+json": {
       "model_id": "96ecd69f8a694f32b0da9b2b4e562985",
       "version_major": 2,
       "version_minor": 0
      },
      "text/plain": [
       "VBox()"
      ]
     },
     "metadata": {},
     "output_type": "display_data"
    },
    {
     "data": {
      "application/vnd.jupyter.widget-view+json": {
       "model_id": "",
       "version_major": 2,
       "version_minor": 0
      },
      "text/plain": [
       "FloatProgress(value=0.0, bar_style='info', description='Progress:', layout=Layout(height='25px', width='50%'),…"
      ]
     },
     "metadata": {},
     "output_type": "display_data"
    }
   ],
   "source": [
    "#write match details to parquet file\n",
    "#matches_tbl_2.write.parquet(\"s3://football-club-data/match_data\")"
   ]
  },
  {
   "cell_type": "code",
   "execution_count": 77,
   "metadata": {},
   "outputs": [
    {
     "data": {
      "application/vnd.jupyter.widget-view+json": {
       "model_id": "618b6e53e5c042a1afff86ffa751fe28",
       "version_major": 2,
       "version_minor": 0
      },
      "text/plain": [
       "VBox()"
      ]
     },
     "metadata": {},
     "output_type": "display_data"
    },
    {
     "data": {
      "application/vnd.jupyter.widget-view+json": {
       "model_id": "",
       "version_major": 2,
       "version_minor": 0
      },
      "text/plain": [
       "FloatProgress(value=0.0, bar_style='info', description='Progress:', layout=Layout(height='25px', width='50%'),…"
      ]
     },
     "metadata": {},
     "output_type": "display_data"
    }
   ],
   "source": [
    "matches_tbl_2=matches_tbl_2.select(\"id\", \"dateutc\", \"competition\", \"season\", \"venue\", \"home_club\", \"away_club\", \"winner\", \"goal_by_home_club\", \"goal_by_away_club\", \"referee_id\")"
   ]
  },
  {
   "cell_type": "code",
   "execution_count": 78,
   "metadata": {},
   "outputs": [
    {
     "data": {
      "application/vnd.jupyter.widget-view+json": {
       "model_id": "ff333e1424f74722ac4a6f721fe457c8",
       "version_major": 2,
       "version_minor": 0
      },
      "text/plain": [
       "VBox()"
      ]
     },
     "metadata": {},
     "output_type": "display_data"
    },
    {
     "data": {
      "application/vnd.jupyter.widget-view+json": {
       "model_id": "",
       "version_major": 2,
       "version_minor": 0
      },
      "text/plain": [
       "FloatProgress(value=0.0, bar_style='info', description='Progress:', layout=Layout(height='25px', width='50%'),…"
      ]
     },
     "metadata": {},
     "output_type": "display_data"
    }
   ],
   "source": [
    "matches_tbl_2.write.csv(\"s3://football-club-data/match_data\", header=True)"
   ]
  },
  {
   "cell_type": "markdown",
   "metadata": {
    "editable": true
   },
   "source": [
    "## ---------------------------"
   ]
  },
  {
   "cell_type": "code",
   "execution_count": 79,
   "metadata": {
    "editable": true
   },
   "outputs": [
    {
     "data": {
      "application/vnd.jupyter.widget-view+json": {
       "model_id": "61ee59af0a9a463d9ee64d8fae671b0d",
       "version_major": 2,
       "version_minor": 0
      },
      "text/plain": [
       "VBox()"
      ]
     },
     "metadata": {},
     "output_type": "display_data"
    },
    {
     "data": {
      "application/vnd.jupyter.widget-view+json": {
       "model_id": "",
       "version_major": 2,
       "version_minor": 0
      },
      "text/plain": [
       "FloatProgress(value=0.0, bar_style='info', description='Progress:', layout=Layout(height='25px', width='50%'),…"
      ]
     },
     "metadata": {},
     "output_type": "display_data"
    },
    {
     "name": "stdout",
     "output_type": "stream",
     "text": [
      "+--------------------+--------------------+----------+-----+------+------------+----------+---+\n",
      "|           firstName|            lastName| birthDate| foot|height|     country|  position| id|\n",
      "+--------------------+--------------------+----------+-----+------+------------+----------+---+\n",
      "|               Harun|               Tekin|1989-06-17|right|   187|      Turkey|Goalkeeper|  0|\n",
      "|              Malang|                Sarr|1999-01-23| left|   182|      France|  Defender|  1|\n",
      "|                Over|            Mandanda|1998-10-26|     |   176|      France|Goalkeeper|  2|\n",
      "|   Alfred John Momar|             N'Diaye|1990-03-06|right|   187|      France|Midfielder|  3|\n",
      "|            Ibrahima|         Konat\\u00e9|1999-05-25|right|   192|      France|  Defender|  4|\n",
      "|              Jasper|           Cillessen|1989-04-22|right|   185| Netherlands|Goalkeeper|  5|\n",
      "|                Toby|        Alderweireld|1989-03-02|right|   187|     Belgium|  Defender|  6|\n",
      "|                 Jan|          Vertonghen|1987-04-24| left|   189|     Belgium|  Defender|  7|\n",
      "|           Alexander|               Djiku|1994-08-09|right|   182|      France|  Defender|  8|\n",
      "|          Christian |   Dannemann Eriksen|1992-02-14|right|   180|     Denmark|Midfielder|  9|\n",
      "|              Marcel|            Sabitzer|1994-03-17|right|   177|     Austria|Midfielder| 10|\n",
      "|            Kolbeinn|Sig\\u00fe\\u00f3rsson|1990-03-14|right|   186|     Iceland|   Forward| 11|\n",
      "|             Charles|         Traor\\u00e9|1992-01-01| left|   180|        Mali|  Defender| 12|\n",
      "|              Niklas|           Moisander|1985-09-29| left|   183|     Finland|  Defender| 13|\n",
      "|           Charlison|            Benschop|1989-08-21|right|   191|Cura\\u00e7ao|   Forward| 14|\n",
      "|             Johann |Berg Gu\\u00f0mund...|1990-10-27| left|   186|     Iceland|Midfielder| 15|\n",
      "|     Przemys\\u0142aw|          Tyto\\u0144|1987-01-04|right|   194|      Poland|Goalkeeper| 16|\n",
      "|Marcelo Ant\\u00f4nio|        Guedes Filho|1987-05-20|right|   191|      Brazil|  Defender| 17|\n",
      "|               Jetro|             Willems|1994-03-30| left|   169| Netherlands|  Defender| 18|\n",
      "|    Ali Adnan Kadhim|          Al Tameemi|1993-12-19| left|   186|        Iraq|  Defender| 19|\n",
      "+--------------------+--------------------+----------+-----+------+------------+----------+---+\n",
      "only showing top 20 rows"
     ]
    }
   ],
   "source": [
    "#player\n",
    "players.drop('wyId').show()"
   ]
  },
  {
   "cell_type": "code",
   "execution_count": 80,
   "metadata": {
    "editable": true
   },
   "outputs": [
    {
     "data": {
      "application/vnd.jupyter.widget-view+json": {
       "model_id": "0944aa5835b042d59ca466c0358f9511",
       "version_major": 2,
       "version_minor": 0
      },
      "text/plain": [
       "VBox()"
      ]
     },
     "metadata": {},
     "output_type": "display_data"
    },
    {
     "data": {
      "application/vnd.jupyter.widget-view+json": {
       "model_id": "",
       "version_major": 2,
       "version_minor": 0
      },
      "text/plain": [
       "FloatProgress(value=0.0, bar_style='info', description='Progress:', layout=Layout(height='25px', width='50%'),…"
      ]
     },
     "metadata": {},
     "output_type": "display_data"
    },
    {
     "name": "stdout",
     "output_type": "stream",
     "text": [
      "0"
     ]
    }
   ],
   "source": [
    "players.where(F.isnull(col('firstName'))).count()"
   ]
  },
  {
   "cell_type": "code",
   "execution_count": 81,
   "metadata": {
    "editable": true
   },
   "outputs": [
    {
     "data": {
      "application/vnd.jupyter.widget-view+json": {
       "model_id": "a48f10f8dcfe4fbabbe9ecf3981b581f",
       "version_major": 2,
       "version_minor": 0
      },
      "text/plain": [
       "VBox()"
      ]
     },
     "metadata": {},
     "output_type": "display_data"
    },
    {
     "data": {
      "application/vnd.jupyter.widget-view+json": {
       "model_id": "",
       "version_major": 2,
       "version_minor": 0
      },
      "text/plain": [
       "FloatProgress(value=0.0, bar_style='info', description='Progress:', layout=Layout(height='25px', width='50%'),…"
      ]
     },
     "metadata": {},
     "output_type": "display_data"
    },
    {
     "name": "stdout",
     "output_type": "stream",
     "text": [
      "+----+---------+--------+---------+----+------+-------+--------+---+\n",
      "|wyId|firstName|lastName|birthDate|foot|height|country|position| id|\n",
      "+----+---------+--------+---------+----+------+-------+--------+---+\n",
      "|   0|        0|       0|        0|   0|     0|      0|       0|  0|\n",
      "+----+---------+--------+---------+----+------+-------+--------+---+"
     ]
    }
   ],
   "source": [
    "players.select([F.count(F.when(F.isnull(i), i)).alias(i) for i in players.columns]).show()"
   ]
  },
  {
   "cell_type": "code",
   "execution_count": 82,
   "metadata": {},
   "outputs": [
    {
     "data": {
      "application/vnd.jupyter.widget-view+json": {
       "model_id": "304a800f792f44fea0c87a7d7a949bad",
       "version_major": 2,
       "version_minor": 0
      },
      "text/plain": [
       "VBox()"
      ]
     },
     "metadata": {},
     "output_type": "display_data"
    },
    {
     "data": {
      "application/vnd.jupyter.widget-view+json": {
       "model_id": "",
       "version_major": 2,
       "version_minor": 0
      },
      "text/plain": [
       "FloatProgress(value=0.0, bar_style='info', description='Progress:', layout=Layout(height='25px', width='50%'),…"
      ]
     },
     "metadata": {},
     "output_type": "display_data"
    },
    {
     "name": "stdout",
     "output_type": "stream",
     "text": [
      "+-------+------------------+----------+------------------+----------+-----+------------------+-------+----------+------------------+\n",
      "|summary|              wyId| firstName|          lastName| birthDate| foot|            height|country|  position|                id|\n",
      "+-------+------------------+----------+------------------+----------+-----+------------------+-------+----------+------------------+\n",
      "|  count|              3603|      3603|              3603|      3603| 3603|              3603|   3603|      3603|              3603|\n",
      "|   mean|142407.54399111852|      null|              null|      null| null| 178.4940327504857|   null|      null|            1801.0|\n",
      "| stddev|153687.68915303823|      null|              null|      null| null|27.172882165526815|   null|      null|1040.2408374987015|\n",
      "|    min|                12|A\\u00efssa|A\\u00eft Bennasser|1973-01-15|     |                 0|Albania|  Defender|                 0|\n",
      "|    max|            568583|\\u0160imon|        von Bergen|2002-10-15|right|               203|  Wales|Midfielder|              3602|\n",
      "+-------+------------------+----------+------------------+----------+-----+------------------+-------+----------+------------------+"
     ]
    }
   ],
   "source": [
    "players.describe().show()"
   ]
  },
  {
   "cell_type": "code",
   "execution_count": 83,
   "metadata": {
    "editable": true
   },
   "outputs": [
    {
     "data": {
      "application/vnd.jupyter.widget-view+json": {
       "model_id": "b81ed164ce6d4be4acfecb1938cd644f",
       "version_major": 2,
       "version_minor": 0
      },
      "text/plain": [
       "VBox()"
      ]
     },
     "metadata": {},
     "output_type": "display_data"
    },
    {
     "data": {
      "application/vnd.jupyter.widget-view+json": {
       "model_id": "",
       "version_major": 2,
       "version_minor": 0
      },
      "text/plain": [
       "FloatProgress(value=0.0, bar_style='info', description='Progress:', layout=Layout(height='25px', width='50%'),…"
      ]
     },
     "metadata": {},
     "output_type": "display_data"
    }
   ],
   "source": [
    "#write to parquet file\n",
    "\n",
    "#players.drop('wyId').write.parquet(\"s3://football-club-data/player_data\")"
   ]
  },
  {
   "cell_type": "code",
   "execution_count": 84,
   "metadata": {},
   "outputs": [
    {
     "data": {
      "application/vnd.jupyter.widget-view+json": {
       "model_id": "965f0c3ff5104964b7cd4ca896e30a83",
       "version_major": 2,
       "version_minor": 0
      },
      "text/plain": [
       "VBox()"
      ]
     },
     "metadata": {},
     "output_type": "display_data"
    },
    {
     "data": {
      "application/vnd.jupyter.widget-view+json": {
       "model_id": "",
       "version_major": 2,
       "version_minor": 0
      },
      "text/plain": [
       "FloatProgress(value=0.0, bar_style='info', description='Progress:', layout=Layout(height='25px', width='50%'),…"
      ]
     },
     "metadata": {},
     "output_type": "display_data"
    }
   ],
   "source": [
    "players=players.select(\"id\", \"firstName\", \"lastName\", \"birthDate\", \"country\", \"position\", \"foot\", \"height\")"
   ]
  },
  {
   "cell_type": "code",
   "execution_count": 85,
   "metadata": {},
   "outputs": [
    {
     "data": {
      "application/vnd.jupyter.widget-view+json": {
       "model_id": "2d9a60d5ff39406a8f2c18d79eb179bc",
       "version_major": 2,
       "version_minor": 0
      },
      "text/plain": [
       "VBox()"
      ]
     },
     "metadata": {},
     "output_type": "display_data"
    },
    {
     "data": {
      "application/vnd.jupyter.widget-view+json": {
       "model_id": "",
       "version_major": 2,
       "version_minor": 0
      },
      "text/plain": [
       "FloatProgress(value=0.0, bar_style='info', description='Progress:', layout=Layout(height='25px', width='50%'),…"
      ]
     },
     "metadata": {},
     "output_type": "display_data"
    },
    {
     "name": "stdout",
     "output_type": "stream",
     "text": [
      "DataFrame[id: int, firstName: string, lastName: string, birthDate: string, country: string, position: string, foot: string, height: bigint]"
     ]
    }
   ],
   "source": [
    "players"
   ]
  },
  {
   "cell_type": "code",
   "execution_count": 86,
   "metadata": {},
   "outputs": [
    {
     "data": {
      "application/vnd.jupyter.widget-view+json": {
       "model_id": "13c894c33fd74e76b2280a247f11c7ca",
       "version_major": 2,
       "version_minor": 0
      },
      "text/plain": [
       "VBox()"
      ]
     },
     "metadata": {},
     "output_type": "display_data"
    },
    {
     "data": {
      "application/vnd.jupyter.widget-view+json": {
       "model_id": "",
       "version_major": 2,
       "version_minor": 0
      },
      "text/plain": [
       "FloatProgress(value=0.0, bar_style='info', description='Progress:', layout=Layout(height='25px', width='50%'),…"
      ]
     },
     "metadata": {},
     "output_type": "display_data"
    }
   ],
   "source": [
    "players.write.csv(\"s3://football-club-data/player_data\", header=True)"
   ]
  },
  {
   "cell_type": "markdown",
   "metadata": {
    "editable": true
   },
   "source": [
    "## -------------------------------------"
   ]
  },
  {
   "cell_type": "code",
   "execution_count": 87,
   "metadata": {
    "editable": true
   },
   "outputs": [
    {
     "data": {
      "application/vnd.jupyter.widget-view+json": {
       "model_id": "97474d55a2b447c28a54addcb316def2",
       "version_major": 2,
       "version_minor": 0
      },
      "text/plain": [
       "VBox()"
      ]
     },
     "metadata": {},
     "output_type": "display_data"
    },
    {
     "data": {
      "application/vnd.jupyter.widget-view+json": {
       "model_id": "",
       "version_major": 2,
       "version_minor": 0
      },
      "text/plain": [
       "FloatProgress(value=0.0, bar_style='info', description='Progress:', layout=Layout(height='25px', width='50%'),…"
      ]
     },
     "metadata": {},
     "output_type": "display_data"
    },
    {
     "name": "stdout",
     "output_type": "stream",
     "text": [
      "+--------------------+--------------------+-------+---+\n",
      "|                name|        officialName|country| id|\n",
      "+--------------------+--------------------+-------+---+\n",
      "|    Newcastle United| Newcastle United FC|England|  0|\n",
      "|       Celta de Vigo|Real Club Celta d...|  Spain|  1|\n",
      "|            Espanyol|Reial Club Deport...|  Spain|  2|\n",
      "|Deportivo Alav\\u0...|Deportivo Alav\\u0...|  Spain|  3|\n",
      "|             Levante|          Levante UD|  Spain|  4|\n",
      "|              Troyes|Esp\\u00e9rance Sp...| France|  5|\n",
      "|              Getafe|Getafe Club de F\\...|  Spain|  6|\n",
      "| Borussia M'gladbach|Borussia VfL M\\u0...|Germany|  7|\n",
      "|   Huddersfield Town|Huddersfield Town FC|England|  8|\n",
      "|       Athletic Club|Athletic Club Bilbao|  Spain|  9|\n",
      "|Atl\\u00e9tico Madrid|Club Atl\\u00e9tic...|  Spain| 10|\n",
      "|  Olympique Lyonnais|  Olympique Lyonnais| France| 11|\n",
      "|                 PSG|Paris Saint-Germa...| France| 12|\n",
      "|            Valencia|Valencia Club de ...|  Spain| 13|\n",
      "|         Real Madrid|Real Madrid Club ...|  Spain| 14|\n",
      "|           Barcelona|        FC Barcelona|  Spain| 15|\n",
      "|          Las Palmas|       UD Las Palmas|  Spain| 16|\n",
      "|        Legan\\u00e9s|     CD Legan\\u00e9s|  Spain| 17|\n",
      "|                SPAL|Societ\\u00e0 Poli...|  Italy| 18|\n",
      "|        Swansea City|    Swansea City AFC|  Wales| 19|\n",
      "+--------------------+--------------------+-------+---+\n",
      "only showing top 20 rows"
     ]
    }
   ],
   "source": [
    "#club\n",
    "clubs.drop('wyId').show()"
   ]
  },
  {
   "cell_type": "code",
   "execution_count": 81,
   "metadata": {
    "editable": true
   },
   "outputs": [
    {
     "data": {
      "application/vnd.jupyter.widget-view+json": {
       "model_id": "2f109eb5eb644ea7b42ad51efffe8e36",
       "version_major": 2,
       "version_minor": 0
      },
      "text/plain": [
       "VBox()"
      ]
     },
     "metadata": {},
     "output_type": "display_data"
    },
    {
     "data": {
      "application/vnd.jupyter.widget-view+json": {
       "model_id": "cb3feb3278d144bc9291f050f90c4a49",
       "version_major": 2,
       "version_minor": 0
      },
      "text/plain": [
       "FloatProgress(value=0.0, bar_style='info', description='Progress:', layout=Layout(height='25px', width='50%'),…"
      ]
     },
     "metadata": {},
     "output_type": "display_data"
    },
    {
     "name": "stdout",
     "output_type": "stream",
     "text": [
      "0"
     ]
    }
   ],
   "source": [
    "clubs.where(F.isnull(col('name'))).count()"
   ]
  },
  {
   "cell_type": "code",
   "execution_count": 82,
   "metadata": {
    "editable": true
   },
   "outputs": [
    {
     "data": {
      "application/vnd.jupyter.widget-view+json": {
       "model_id": "7f758154e331489e84909c8d6483a356",
       "version_major": 2,
       "version_minor": 0
      },
      "text/plain": [
       "VBox()"
      ]
     },
     "metadata": {},
     "output_type": "display_data"
    },
    {
     "data": {
      "application/vnd.jupyter.widget-view+json": {
       "model_id": "f9b177a44747436e97073837905fd09f",
       "version_major": 2,
       "version_minor": 0
      },
      "text/plain": [
       "FloatProgress(value=0.0, bar_style='info', description='Progress:', layout=Layout(height='25px', width='50%'),…"
      ]
     },
     "metadata": {},
     "output_type": "display_data"
    },
    {
     "name": "stdout",
     "output_type": "stream",
     "text": [
      "+----+----+------------+-------+---+\n",
      "|wyId|name|officialName|country| id|\n",
      "+----+----+------------+-------+---+\n",
      "|   0|   0|           0|      0|  0|\n",
      "+----+----+------------+-------+---+"
     ]
    }
   ],
   "source": [
    "clubs.select([F.count(F.when(F.isnull(i), i)).alias(i) for i in clubs.columns]).show()"
   ]
  },
  {
   "cell_type": "code",
   "execution_count": 84,
   "metadata": {
    "editable": true
   },
   "outputs": [
    {
     "data": {
      "application/vnd.jupyter.widget-view+json": {
       "model_id": "274563d41c464f8da1bb3ec7174d43fd",
       "version_major": 2,
       "version_minor": 0
      },
      "text/plain": [
       "VBox()"
      ]
     },
     "metadata": {},
     "output_type": "display_data"
    },
    {
     "data": {
      "application/vnd.jupyter.widget-view+json": {
       "model_id": "ec03744414f64104850d4c365b7b810f",
       "version_major": 2,
       "version_minor": 0
      },
      "text/plain": [
       "FloatProgress(value=0.0, bar_style='info', description='Progress:', layout=Layout(height='25px', width='50%'),…"
      ]
     },
     "metadata": {},
     "output_type": "display_data"
    }
   ],
   "source": [
    "#write to parquet file\n",
    "#clubs.drop('wyId').write.parquet(\"s3://football-club-data/club_data\")"
   ]
  },
  {
   "cell_type": "code",
   "execution_count": 88,
   "metadata": {},
   "outputs": [
    {
     "data": {
      "application/vnd.jupyter.widget-view+json": {
       "model_id": "ec1d6843d45547f68367d2dd6b42334f",
       "version_major": 2,
       "version_minor": 0
      },
      "text/plain": [
       "VBox()"
      ]
     },
     "metadata": {},
     "output_type": "display_data"
    },
    {
     "data": {
      "application/vnd.jupyter.widget-view+json": {
       "model_id": "",
       "version_major": 2,
       "version_minor": 0
      },
      "text/plain": [
       "FloatProgress(value=0.0, bar_style='info', description='Progress:', layout=Layout(height='25px', width='50%'),…"
      ]
     },
     "metadata": {},
     "output_type": "display_data"
    },
    {
     "name": "stdout",
     "output_type": "stream",
     "text": [
      "DataFrame[wyId: bigint, name: string, officialName: string, country: string, id: bigint]"
     ]
    }
   ],
   "source": [
    "club"
   ]
  },
  {
   "cell_type": "code",
   "execution_count": 89,
   "metadata": {},
   "outputs": [
    {
     "data": {
      "application/vnd.jupyter.widget-view+json": {
       "model_id": "64b45dc3a287422b9be32cf5194c1d15",
       "version_major": 2,
       "version_minor": 0
      },
      "text/plain": [
       "VBox()"
      ]
     },
     "metadata": {},
     "output_type": "display_data"
    },
    {
     "data": {
      "application/vnd.jupyter.widget-view+json": {
       "model_id": "",
       "version_major": 2,
       "version_minor": 0
      },
      "text/plain": [
       "FloatProgress(value=0.0, bar_style='info', description='Progress:', layout=Layout(height='25px', width='50%'),…"
      ]
     },
     "metadata": {},
     "output_type": "display_data"
    }
   ],
   "source": [
    "club=club.select(\"id\", \"name\", \"officialName\", \"country\")"
   ]
  },
  {
   "cell_type": "code",
   "execution_count": 90,
   "metadata": {},
   "outputs": [
    {
     "data": {
      "application/vnd.jupyter.widget-view+json": {
       "model_id": "23039677e071444fa07e78796c6e711b",
       "version_major": 2,
       "version_minor": 0
      },
      "text/plain": [
       "VBox()"
      ]
     },
     "metadata": {},
     "output_type": "display_data"
    },
    {
     "data": {
      "application/vnd.jupyter.widget-view+json": {
       "model_id": "",
       "version_major": 2,
       "version_minor": 0
      },
      "text/plain": [
       "FloatProgress(value=0.0, bar_style='info', description='Progress:', layout=Layout(height='25px', width='50%'),…"
      ]
     },
     "metadata": {},
     "output_type": "display_data"
    },
    {
     "name": "stdout",
     "output_type": "stream",
     "text": [
      "DataFrame[id: bigint, name: string, officialName: string, country: string]"
     ]
    }
   ],
   "source": [
    "club"
   ]
  },
  {
   "cell_type": "code",
   "execution_count": 102,
   "metadata": {},
   "outputs": [
    {
     "data": {
      "application/vnd.jupyter.widget-view+json": {
       "model_id": "9377dc336bd948e0b4a1f73e5fd0269f",
       "version_major": 2,
       "version_minor": 0
      },
      "text/plain": [
       "VBox()"
      ]
     },
     "metadata": {},
     "output_type": "display_data"
    },
    {
     "data": {
      "application/vnd.jupyter.widget-view+json": {
       "model_id": "",
       "version_major": 2,
       "version_minor": 0
      },
      "text/plain": [
       "FloatProgress(value=0.0, bar_style='info', description='Progress:', layout=Layout(height='25px', width='50%'),…"
      ]
     },
     "metadata": {},
     "output_type": "display_data"
    }
   ],
   "source": [
    "club.write.csv(\"s3://football-club-data/club_data\", header=True)"
   ]
  },
  {
   "cell_type": "markdown",
   "metadata": {
    "editable": true
   },
   "source": [
    "## -------------------------------------"
   ]
  },
  {
   "cell_type": "code",
   "execution_count": 92,
   "metadata": {
    "editable": true
   },
   "outputs": [
    {
     "data": {
      "application/vnd.jupyter.widget-view+json": {
       "model_id": "32b5f58fde35400383e25a3f6195d496",
       "version_major": 2,
       "version_minor": 0
      },
      "text/plain": [
       "VBox()"
      ]
     },
     "metadata": {},
     "output_type": "display_data"
    },
    {
     "data": {
      "application/vnd.jupyter.widget-view+json": {
       "model_id": "",
       "version_major": 2,
       "version_minor": 0
      },
      "text/plain": [
       "FloatProgress(value=0.0, bar_style='info', description='Progress:', layout=Layout(height='25px', width='50%'),…"
      ]
     },
     "metadata": {},
     "output_type": "display_data"
    },
    {
     "name": "stdout",
     "output_type": "stream",
     "text": [
      "+-------------------+-----------------+----------+--------+---+\n",
      "|          firstName|         lastName| birthDate| country| id|\n",
      "+-------------------+-----------------+----------+--------+---+\n",
      "|          Alexander|   Guzmán Bonilla|      null|Colombia|  0|\n",
      "|              Simon|          Bennett|      null| England|  1|\n",
      "|               Harm|           Osmers|1985-01-28| Germany|  2|\n",
      "|          Frederick|          Assmuth|1977-12-20| Germany|  3|\n",
      "|           Frédéric|          Hebrard|      null|  France|  4|\n",
      "|             Javier|Aguilar Rodríguez|      null|   Spain|  5|\n",
      "|             Víctor|     Pérez Peraza|1984-12-28|   Spain|  6|\n",
      "|            Alfonso|Álvarez Izquierdo|1972-09-12|   Spain|  7|\n",
      "|Abdulrahman Ibrahim|        Al Jassim|      null|   Qatar|  8|\n",
      "|              Guido|         Winkmann|1973-11-27| Germany|  9|\n",
      "|           Nicholas|           Hopton|      null| England| 10|\n",
      "|             Graham|            Scott|      null| England| 11|\n",
      "|                Joe|         Fletcher|1976-09-10|  Canada| 12|\n",
      "|              Cyril|          Mugnier|      null|  France| 13|\n",
      "|              Simon|             Long|      null| England| 14|\n",
      "|            Florent|            Batta|1980-06-14|  France| 15|\n",
      "|             Javier|Estrada Fernández|1976-01-27|   Spain| 16|\n",
      "|            Nicolas|         Henninot|1977-04-10|  France| 17|\n",
      "|            Valerio|           Vecchi|      null|   Italy| 18|\n",
      "|                Lee|            Mason|1971-10-29| England| 19|\n",
      "+-------------------+-----------------+----------+--------+---+\n",
      "only showing top 20 rows"
     ]
    }
   ],
   "source": [
    "#referee\n",
    "referees.drop('wyId').show()"
   ]
  },
  {
   "cell_type": "code",
   "execution_count": 93,
   "metadata": {
    "editable": true
   },
   "outputs": [
    {
     "data": {
      "application/vnd.jupyter.widget-view+json": {
       "model_id": "6377ff4acfa747e4b9391abd750623aa",
       "version_major": 2,
       "version_minor": 0
      },
      "text/plain": [
       "VBox()"
      ]
     },
     "metadata": {},
     "output_type": "display_data"
    },
    {
     "data": {
      "application/vnd.jupyter.widget-view+json": {
       "model_id": "",
       "version_major": 2,
       "version_minor": 0
      },
      "text/plain": [
       "FloatProgress(value=0.0, bar_style='info', description='Progress:', layout=Layout(height='25px', width='50%'),…"
      ]
     },
     "metadata": {},
     "output_type": "display_data"
    },
    {
     "name": "stdout",
     "output_type": "stream",
     "text": [
      "236"
     ]
    }
   ],
   "source": [
    "referees.where(F.isnull(col('birthDate'))).count()"
   ]
  },
  {
   "cell_type": "code",
   "execution_count": 94,
   "metadata": {
    "editable": true
   },
   "outputs": [
    {
     "data": {
      "application/vnd.jupyter.widget-view+json": {
       "model_id": "66354f4da0f74c38b37663fbad483e73",
       "version_major": 2,
       "version_minor": 0
      },
      "text/plain": [
       "VBox()"
      ]
     },
     "metadata": {},
     "output_type": "display_data"
    },
    {
     "data": {
      "application/vnd.jupyter.widget-view+json": {
       "model_id": "",
       "version_major": 2,
       "version_minor": 0
      },
      "text/plain": [
       "FloatProgress(value=0.0, bar_style='info', description='Progress:', layout=Layout(height='25px', width='50%'),…"
      ]
     },
     "metadata": {},
     "output_type": "display_data"
    },
    {
     "name": "stdout",
     "output_type": "stream",
     "text": [
      "+----+---------+--------+---------+-------+---+\n",
      "|wyId|firstName|lastName|birthDate|country| id|\n",
      "+----+---------+--------+---------+-------+---+\n",
      "|   0|        0|       0|      236|      0|  0|\n",
      "+----+---------+--------+---------+-------+---+"
     ]
    }
   ],
   "source": [
    "referees.select([F.count(F.when(F.isnull(i), i)).alias(i) for i in referees.columns]).show()"
   ]
  },
  {
   "cell_type": "code",
   "execution_count": 95,
   "metadata": {},
   "outputs": [
    {
     "data": {
      "application/vnd.jupyter.widget-view+json": {
       "model_id": "41c15be22186449b97e7e2192e2ae4bf",
       "version_major": 2,
       "version_minor": 0
      },
      "text/plain": [
       "VBox()"
      ]
     },
     "metadata": {},
     "output_type": "display_data"
    },
    {
     "data": {
      "application/vnd.jupyter.widget-view+json": {
       "model_id": "",
       "version_major": 2,
       "version_minor": 0
      },
      "text/plain": [
       "FloatProgress(value=0.0, bar_style='info', description='Progress:', layout=Layout(height='25px', width='50%'),…"
      ]
     },
     "metadata": {},
     "output_type": "display_data"
    }
   ],
   "source": [
    "referee=referees.select(\"id\", \"firstName\", \"lastName\", \"birthDate\", \"country\")"
   ]
  },
  {
   "cell_type": "code",
   "execution_count": 99,
   "metadata": {
    "editable": true
   },
   "outputs": [
    {
     "data": {
      "application/vnd.jupyter.widget-view+json": {
       "model_id": "55c80d3049594343b01878bfdf4febcd",
       "version_major": 2,
       "version_minor": 0
      },
      "text/plain": [
       "VBox()"
      ]
     },
     "metadata": {},
     "output_type": "display_data"
    },
    {
     "data": {
      "application/vnd.jupyter.widget-view+json": {
       "model_id": "",
       "version_major": 2,
       "version_minor": 0
      },
      "text/plain": [
       "FloatProgress(value=0.0, bar_style='info', description='Progress:', layout=Layout(height='25px', width='50%'),…"
      ]
     },
     "metadata": {},
     "output_type": "display_data"
    }
   ],
   "source": [
    "#write to parquet file\n",
    "#referees.drop('wyId').write.parquet(\"s3://football-club-data/referees_data\")"
   ]
  },
  {
   "cell_type": "code",
   "execution_count": 100,
   "metadata": {},
   "outputs": [
    {
     "data": {
      "application/vnd.jupyter.widget-view+json": {
       "model_id": "1855b734c9c44c9f8763b272c1369e4a",
       "version_major": 2,
       "version_minor": 0
      },
      "text/plain": [
       "VBox()"
      ]
     },
     "metadata": {},
     "output_type": "display_data"
    },
    {
     "data": {
      "application/vnd.jupyter.widget-view+json": {
       "model_id": "",
       "version_major": 2,
       "version_minor": 0
      },
      "text/plain": [
       "FloatProgress(value=0.0, bar_style='info', description='Progress:', layout=Layout(height='25px', width='50%'),…"
      ]
     },
     "metadata": {},
     "output_type": "display_data"
    },
    {
     "name": "stdout",
     "output_type": "stream",
     "text": [
      "DataFrame[id: int, firstName: string, lastName: string, birthDate: string, country: string]"
     ]
    }
   ],
   "source": [
    "referee"
   ]
  },
  {
   "cell_type": "code",
   "execution_count": 101,
   "metadata": {},
   "outputs": [
    {
     "data": {
      "application/vnd.jupyter.widget-view+json": {
       "model_id": "ae881dfb9f90490ab00bbf320763a34f",
       "version_major": 2,
       "version_minor": 0
      },
      "text/plain": [
       "VBox()"
      ]
     },
     "metadata": {},
     "output_type": "display_data"
    },
    {
     "data": {
      "application/vnd.jupyter.widget-view+json": {
       "model_id": "",
       "version_major": 2,
       "version_minor": 0
      },
      "text/plain": [
       "FloatProgress(value=0.0, bar_style='info', description='Progress:', layout=Layout(height='25px', width='50%'),…"
      ]
     },
     "metadata": {},
     "output_type": "display_data"
    }
   ],
   "source": [
    "referee.write.csv(\"s3://football-club-data/referee_data\", header=True)"
   ]
  },
  {
   "cell_type": "markdown",
   "metadata": {},
   "source": [
    "## -------------------------------------------"
   ]
  },
  {
   "cell_type": "code",
   "execution_count": 85,
   "metadata": {},
   "outputs": [
    {
     "data": {
      "application/vnd.jupyter.widget-view+json": {
       "model_id": "5f24512090eb42b9b748e73d000ca51e",
       "version_major": 2,
       "version_minor": 0
      },
      "text/plain": [
       "VBox()"
      ]
     },
     "metadata": {},
     "output_type": "display_data"
    },
    {
     "data": {
      "application/vnd.jupyter.widget-view+json": {
       "model_id": "",
       "version_major": 2,
       "version_minor": 0
      },
      "text/plain": [
       "FloatProgress(value=0.0, bar_style='info', description='Progress:', layout=Layout(height='25px', width='50%'),…"
      ]
     },
     "metadata": {},
     "output_type": "display_data"
    },
    {
     "name": "stdout",
     "output_type": "stream",
     "text": [
      "+------+---------------+----------------+----------+---------+---+\n",
      "|  wyId|      firstName|        lastName| birthDate|  country| id|\n",
      "+------+---------------+----------------+----------+---------+---+\n",
      "|275580|  César Domingo| Mendiondo López|      null|   Brazil|  0|\n",
      "| 14710|          Josef|        Heynckes|1945-05-09|  Germany|  1|\n",
      "|135480|       Giovanni|        De Biasi|1956-06-16|    Italy|  2|\n",
      "|210074|      Marcelino|    García Toral|1965-08-14|    Spain|  3|\n",
      "|293398|         Tayfun|          Korkut|1974-04-02|  Germany|  4|\n",
      "| 92894|        Ernesto|Valverde Tejedor|1964-02-09|    Spain|  5|\n",
      "|  3880|    Juan Carlos|   Unzué Labiano|1967-04-22|    Spain|  6|\n",
      "| 17121|           Dirk|        Schuster|1967-12-29|  Germany|  7|\n",
      "| 20454|        Antonio|           Conte|1969-07-31|    Italy|  8|\n",
      "| 86604|Ricardo Alberto|    Gareca Nardi|1958-02-10|Argentina|  9|\n",
      "|259751|        Markus |          Gisdol|1969-08-17|  Germany| 10|\n",
      "|142913|         Gernot|            Rohr|1953-06-28|  Germany| 11|\n",
      "| 15114|         Dieter|         Hecking|1964-09-12|  Germany| 12|\n",
      "| 21061|       Vincenzo|        Montella|1974-06-18|    Italy| 13|\n",
      "| 20603|       Giuseppe|         Iachini|1964-05-07|    Italy| 14|\n",
      "| 14735|          Bruno|        Labbadia|1966-02-08|  Germany| 15|\n",
      "|210205|           Lars|       Lagerbäck|1948-07-16|   Sweden| 16|\n",
      "|225952|     Francisco |  Escriba Segura|1965-05-03|    Spain| 17|\n",
      "| 26812|     Christophe|       Pélissier|1965-10-05|   France| 18|\n",
      "|251025|         Simone|         Inzaghi|1976-04-05|    Italy| 19|\n",
      "+------+---------------+----------------+----------+---------+---+\n",
      "only showing top 20 rows"
     ]
    }
   ],
   "source": [
    "managers.show()"
   ]
  },
  {
   "cell_type": "code",
   "execution_count": 6,
   "metadata": {},
   "outputs": [
    {
     "data": {
      "application/vnd.jupyter.widget-view+json": {
       "model_id": "07970322657d44d98772a7e1c1b57a04",
       "version_major": 2,
       "version_minor": 0
      },
      "text/plain": [
       "VBox()"
      ]
     },
     "metadata": {},
     "output_type": "display_data"
    },
    {
     "data": {
      "application/vnd.jupyter.widget-view+json": {
       "model_id": "baa9a0869245482b9bfc5cfa811a7374",
       "version_major": 2,
       "version_minor": 0
      },
      "text/plain": [
       "FloatProgress(value=0.0, bar_style='info', description='Progress:', layout=Layout(height='25px', width='50%'),…"
      ]
     },
     "metadata": {},
     "output_type": "display_data"
    },
    {
     "name": "stdout",
     "output_type": "stream",
     "text": [
      "+-------+------------------+----------------+--------------------+----------+---------+-----------------+\n",
      "|summary|              wyId|       firstName|            lastName| birthDate|  country|               id|\n",
      "+-------+------------------+----------------+--------------------+----------+---------+-----------------+\n",
      "|  count|               208|             208|                 208|       206|      208|              208|\n",
      "|   mean|148118.83653846153|            null|                null|      null|     null|            103.5|\n",
      "| stddev| 133029.1818910103|            null|                null|      null|     null|60.18859249614221|\n",
      "|    min|               638|        Abelardo|Alguacil Barrenetxea|1945-05-09|Argentina|                0|\n",
      "|    max|            546966|Óscar Washington|               Čačić|1987-07-23|    Wales|              207|\n",
      "+-------+------------------+----------------+--------------------+----------+---------+-----------------+"
     ]
    }
   ],
   "source": [
    "managers.describe().show()"
   ]
  },
  {
   "cell_type": "code",
   "execution_count": 7,
   "metadata": {},
   "outputs": [
    {
     "data": {
      "application/vnd.jupyter.widget-view+json": {
       "model_id": "1175a5cbe9b149128ece75279fbe1bdf",
       "version_major": 2,
       "version_minor": 0
      },
      "text/plain": [
       "VBox()"
      ]
     },
     "metadata": {},
     "output_type": "display_data"
    },
    {
     "data": {
      "application/vnd.jupyter.widget-view+json": {
       "model_id": "545e753181214a1496ec30dcddde5243",
       "version_major": 2,
       "version_minor": 0
      },
      "text/plain": [
       "FloatProgress(value=0.0, bar_style='info', description='Progress:', layout=Layout(height='25px', width='50%'),…"
      ]
     },
     "metadata": {},
     "output_type": "display_data"
    }
   ],
   "source": [
    "#managers.drop('wyId').write.parquet(\"s3://football-club-data/managers_data\")"
   ]
  },
  {
   "cell_type": "markdown",
   "metadata": {
    "editable": true
   },
   "source": [
    "### Step 3: Define the Data Model\n",
    "#### 3.1 Conceptual Data Model"
   ]
  },
  {
   "cell_type": "markdown",
   "metadata": {
    "editable": true
   },
   "source": [
    "<img  src='image/footbalschema2.0.png'> </img>"
   ]
  },
  {
   "cell_type": "markdown",
   "metadata": {
    "editable": true
   },
   "source": [
    "A star schema was model was chosen to represent the football data, it would primarily answer questions on the match events that occurs in each match. It is a simple schema and would enable query and analytics with easy retrieveal of information\n",
    "\n",
    "### Fact Table\n",
    "match_event\n",
    "* id \n",
    "* club_id \n",
    "* match_id \n",
    "* player_id \n",
    "* referee_id \n",
    "* matchPeriod \n",
    "* eventName \n",
    "* action \n",
    "* modifier \n",
    "* x_begin \n",
    "* y_begin\n",
    "* x_end \n",
    "* y_end \n",
    "* is_success \n",
    "\n",
    "### Dimension table\n",
    "match \n",
    "* id \n",
    "* dateutc \n",
    "* competition \n",
    "* season \n",
    "* venue \n",
    "* home_club \n",
    "* away_club \n",
    "* winner \n",
    "* goal_by_home_club\n",
    "* goal_by_away_club\n",
    "* referee_id\n",
    "\n",
    "club \n",
    "* id \n",
    "* name\n",
    "* officalName\n",
    "* country \n",
    "  \n",
    "player \n",
    "* id \n",
    "* first_name \n",
    "* last_name \n",
    "* birth_date \n",
    "* country \n",
    "* position \n",
    "* foot \n",
    "* height \n",
    "\n",
    "referee \n",
    "* id \n",
    "* first_name \n",
    "* last_name \n",
    "* country\n",
    "\n"
   ]
  },
  {
   "cell_type": "code",
   "execution_count": null,
   "metadata": {
    "editable": true
   },
   "outputs": [],
   "source": []
  },
  {
   "cell_type": "markdown",
   "metadata": {
    "editable": true
   },
   "source": [
    "### Step 4: Run Pipelines to Model the Data \n",
    "#### 4.1 Create the data model\n",
    "The data pipeline was built using airflow"
   ]
  },
  {
   "cell_type": "markdown",
   "metadata": {
    "editable": true
   },
   "source": [
    "Steps to build airflow pipeline.\n",
    "* Create the tables in redshift\n",
    "* Load spark processed data from parquet in s3 to redshift\n",
    "* Check data quality for each tables"
   ]
  },
  {
   "cell_type": "markdown",
   "metadata": {
    "editable": true
   },
   "source": [
    "#### 4.2 Data Quality Checks\n",
    "Data quality test were carried out on the data to ensure completeness and integrity of data \n",
    "\n",
    "This tests were integrated into the airflow pipeline, to carry out automated checks on the data as required.\n",
    "\n",
    "Run Quality Checks"
   ]
  },
  {
   "cell_type": "code",
   "execution_count": null,
   "metadata": {
    "editable": true
   },
   "outputs": [],
   "source": [
    "# Perform quality checks here\n",
    "# check were carried out in airflow. See airflow Dag"
   ]
  },
  {
   "cell_type": "markdown",
   "metadata": {
    "editable": true
   },
   "source": [
    "#### 4.3 Data dictionary \n",
    "Create a data dictionary for your data model. For each field, provide a brief description of what the data is and where it came from. You can include the data dictionary in the notebook or in a separate file."
   ]
  },
  {
   "cell_type": "markdown",
   "metadata": {
    "editable": true
   },
   "source": [
    "#### Step 5: Complete Project Write Up\n",
    "* Clearly state the rationale for the choice of tools and technologies for the project.\n",
    "* Propose how often the data should be updated and why.\n",
    "* Write a description of how you would approach the problem differently under the following scenarios:\n",
    " * The data was increased by 100x.\n",
    " * The data populates a dashboard that must be updated on a daily basis by 7am every day.\n",
    " * The database needed to be accessed by 100+ people."
   ]
  },
  {
   "cell_type": "code",
   "execution_count": 113,
   "metadata": {},
   "outputs": [
    {
     "data": {
      "application/vnd.jupyter.widget-view+json": {
       "model_id": "6c94a8832d79454a96ba96e1e15eaaaa",
       "version_major": 2,
       "version_minor": 0
      },
      "text/plain": [
       "VBox()"
      ]
     },
     "metadata": {},
     "output_type": "display_data"
    },
    {
     "data": {
      "application/vnd.jupyter.widget-view+json": {
       "model_id": "",
       "version_major": 2,
       "version_minor": 0
      },
      "text/plain": [
       "FloatProgress(value=0.0, bar_style='info', description='Progress:', layout=Layout(height='25px', width='50%'),…"
      ]
     },
     "metadata": {},
     "output_type": "display_data"
    }
   ],
   "source": [
    "# Conpleted"
   ]
  },
  {
   "cell_type": "code",
   "execution_count": null,
   "metadata": {
    "editable": true
   },
   "outputs": [],
   "source": [
    "#Rough work\n",
    "# from pyspark.sql.types import StringType\n",
    "# u = match_event[['tags']].rdd\n",
    "# t=u.map(lambda xs: [n for x in xs[-1:] for n in x[-1:]])\n",
    "# tag = spark.createDataFrame(t, ['tag'])\n",
    "\n",
    "# from pyspark.sql.types import IntegerType\n",
    "# m = match_event[['tags']]\n",
    "# j = m.rdd.map(lambda row :  [i['id']  for i in row[-1]])\n",
    "# p = j.collect()\n",
    "\n",
    "\n",
    "# from pyspark.sql.functions import col, explode\n",
    "# match_event.withColumn(\"tag\", explode(\"tags\")[-1]).show()\n",
    "\n",
    "# hasattr(rdd, \"toDF\")\n",
    "\n",
    "# match_event_1= match_event.toPandas()\n",
    "\n",
    "# tag_1 = tag.toPandas()\n",
    "\n",
    "# pd.concat(match_event, l)\n",
    "\n",
    "# from functools import reduce  # For Python 3.x\n",
    "# from pyspark.sql import DataFrame\n",
    "\n",
    "# def unionAll(*dfs):\n",
    "#     return reduce(DataFrame.unionAll, dfs)\n",
    "\n",
    "# unionAll(match_event, l) #, td4, td5, td6, td7, td8, td9, td10)\n",
    "\n",
    "# for xs in rdd3.take(100):\n",
    "#     for x in xs:\n",
    "#         print(x)\n",
    "# rdd.flatMap(lambda xs: [(x, 1) for x in xs])\n",
    "\n",
    "# last_output=udf(lambda row : [i[0] for i in row ])\n",
    "\n"
   ]
  },
  {
   "cell_type": "code",
   "execution_count": 47,
   "metadata": {
    "editable": true
   },
   "outputs": [],
   "source": [
    "# # create table \n",
    "# import pyspark.sql.types as st\n",
    "\n",
    "# user_schema = st.StructType([\n",
    "#     st.StructField('tags', st.IntegerType(), True)\n",
    "# ])\n",
    "\n",
    "# data = [(1801,), (1801,), (1801,), (1802,), (1801,), (1802,)]\n",
    "# spark.createDataFrame(data, user_schema ).show()"
   ]
  },
  {
   "cell_type": "code",
   "execution_count": 48,
   "metadata": {
    "editable": true
   },
   "outputs": [],
   "source": [
    "# from pyspark.sql.functions import udf\n",
    "# from pyspark.sql.types import StringType\n",
    "\n",
    "# tags_init = match_event.select(event.tags.id[0].alias('a'), event.tags.id[1].alias('b'), event.tags.id[2].alias('c'), event.tags.id[3].alias('d'), event.tags.id[4].alias('e'), event.tags.id[5].alias('f'))\n",
    "\n",
    "# spark.createDataFrame([('a b c d',)], ['s',]).show()\n",
    "\n",
    "# udf_func = udf(lambda x: i for i in range(len(x)))\n",
    "# event.withColumn('is_accurate', udf_func(event.tags))"
   ]
  },
  {
   "cell_type": "code",
   "execution_count": null,
   "metadata": {
    "editable": true
   },
   "outputs": [],
   "source": []
  },
  {
   "cell_type": "code",
   "execution_count": null,
   "metadata": {
    "editable": true
   },
   "outputs": [],
   "source": []
  },
  {
   "cell_type": "code",
   "execution_count": null,
   "metadata": {
    "editable": true
   },
   "outputs": [],
   "source": []
  },
  {
   "cell_type": "code",
   "execution_count": null,
   "metadata": {
    "editable": true
   },
   "outputs": [],
   "source": []
  },
  {
   "cell_type": "code",
   "execution_count": null,
   "metadata": {
    "editable": true
   },
   "outputs": [],
   "source": []
  },
  {
   "cell_type": "code",
   "execution_count": null,
   "metadata": {
    "editable": true
   },
   "outputs": [],
   "source": []
  }
 ],
 "metadata": {
  "kernelspec": {
   "display_name": "PySpark",
   "language": "",
   "name": "pysparkkernel"
  },
  "language_info": {
   "codemirror_mode": {
    "name": "python",
    "version": 2
   },
   "mimetype": "text/x-python",
   "name": "pyspark",
   "pygments_lexer": "python2"
  }
 },
 "nbformat": 4,
 "nbformat_minor": 4
}
